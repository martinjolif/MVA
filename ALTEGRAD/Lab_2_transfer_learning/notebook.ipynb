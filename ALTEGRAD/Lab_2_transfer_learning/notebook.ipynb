{
 "cells": [
  {
   "cell_type": "markdown",
   "metadata": {
    "id": "DlAfI8mCWAf3"
   },
   "source": [
    "<center><h2>ALTeGraD 2024<br>Lab Session 2: Transfer learning for NLP</h2> 15 / 10 / 2024<br> Dr. G. Shang, Y. Zhang<br><br>\n",
    "\n",
    "\n",
    "<b>Student name:</b> [Martin Jolif]\n",
    "\n",
    "</center>\n",
    "\n",
    "<br><br>\n",
    "In this lab we will:\n",
    "* Implement and pretrain a language model with transformer architecture.\n",
    "* Use the pretrained model (transfer learning) to perform a sentiment analysis task which consists of classifying some books reviews into positive and negative ones.\n",
    "* Compare the performance of the pretrained model to a model trained from scratch.\n",
    " <br>\n",
    "\n",
    "<b>The deadline for this lab is October 22, 2024 11:59 PM.</b> More details about the submission and the architecture for this lab can be found in the handout PDF."
   ]
  },
  {
   "cell_type": "code",
   "metadata": {
    "id": "IqukuIe0Rb_c",
    "ExecuteTime": {
     "end_time": "2024-10-18T18:49:22.025583Z",
     "start_time": "2024-10-18T18:49:22.023041Z"
    }
   },
   "source": [
    "import math\n",
    "\n",
    "import torch\n",
    "import torch.nn as nn\n",
    "from torch.nn.utils.rnn import pad_sequence\n",
    "\n",
    "device = torch.device(\"cuda\" if torch.cuda.is_available() else \"cpu\")"
   ],
   "outputs": [],
   "execution_count": 16
  },
  {
   "cell_type": "markdown",
   "metadata": {
    "id": "5FF6fjkqgN39"
   },
   "source": [
    "### The Model"
   ]
  },
  {
   "cell_type": "code",
   "metadata": {
    "id": "p0cj9WkSFQwl",
    "ExecuteTime": {
     "end_time": "2024-10-18T18:49:22.049533Z",
     "start_time": "2024-10-18T18:49:22.044148Z"
    }
   },
   "source": [
    "class TransformerModel(nn.Module):\n",
    "    def __init__(self, ntoken, nhead, nhid, nlayers, dropout=0.5):\n",
    "        super(TransformerModel, self).__init__()\n",
    "        '''\n",
    "        ntokens: the size of vocabulary\n",
    "        nhid: the hidden dimension of the model.\n",
    "        We assume that embedding_dim = nhid\n",
    "        nlayers: the number of nn.TransformerEncoderLayer in nn.TransformerEncoder\n",
    "        nhead: the number of heads in the multiheadattention models\n",
    "        dropout: the dropout value\n",
    "         '''\n",
    "        self.model_type = \"Transformer\"\n",
    "        self.encoder = nn.Embedding(ntoken, nhid) # fill me, nhid = the dim_embed\n",
    "        self.pos_encoder = PositionalEncoding(nhid) #fill me, the PositionalEncoding class is implemented in the next cell\n",
    "        encoder_layers = nn.TransformerEncoderLayer(nhid, nhead, nhid, dropout) #fill me we assume nhid = d_model = dim_feedforward\n",
    "        self.transformer_encoder = nn.TransformerEncoder(encoder_layers, nlayers) #fill me\n",
    "        self.nhid = nhid\n",
    "        self.init_weights()\n",
    "\n",
    "    def generate_square_subsequent_mask(self, sz):\n",
    "        mask = (torch.triu(torch.ones(sz, sz)) == 1).transpose(0, 1)\n",
    "        mask = (\n",
    "            mask.float()\n",
    "            .masked_fill(mask == 0, float(\"-inf\"))\n",
    "            .masked_fill(mask == 1, float(0.0))\n",
    "        )\n",
    "        return mask\n",
    "\n",
    "    def init_weights(self):\n",
    "        initrange = 0.1\n",
    "        self.encoder.weight.data.uniform_(-initrange, initrange)\n",
    "    \n",
    "    def forward(self, src, src_mask):\n",
    "        src = self.encoder(src) * math.sqrt(self.nhid)\n",
    "        src = self.pos_encoder(src) #fill me\n",
    "        output = self.transformer_encoder(src, src_mask) #fill me\n",
    "        return output\n",
    "\n",
    "\n",
    "class ClassificationHead(nn.Module):\n",
    "    def __init__(self, nhid, nclasses):\n",
    "        super(ClassificationHead, self).__init__()\n",
    "        self.decoder = nn.Linear(nhid, nclasses)\n",
    "        self.init_weights()\n",
    "\n",
    "    def init_weights(self):\n",
    "        initrange = 0.1\n",
    "        self.decoder.bias.data.zero_()\n",
    "        self.decoder.weight.data.uniform_(-initrange, initrange)\n",
    "\n",
    "    def forward(self, src):\n",
    "        output = self.decoder(src)\n",
    "        return output\n",
    "\n",
    "class Model(nn.Module):\n",
    "    def __init__(self, ntoken, nhead, nhid, nlayers, nclasses, dropout=0.5):\n",
    "        super(Model, self).__init__()\n",
    "        self.base = TransformerModel(ntoken, nhead, nhid, nlayers, dropout)  #fill me\n",
    "        self.classifier = ClassificationHead(nhid, nclasses) #fill me\n",
    "\n",
    "    def forward(self, src, src_mask):\n",
    "        # base model\n",
    "        x = self.base.forward(src, src_mask) #fill me\n",
    "        # classifier model\n",
    "        output = self.classifier.forward(x) #fill me\n",
    "        return output"
   ],
   "outputs": [],
   "execution_count": 17
  },
  {
   "cell_type": "code",
   "metadata": {
    "id": "kt2QQohaFZry",
    "ExecuteTime": {
     "end_time": "2024-10-18T18:49:22.061784Z",
     "start_time": "2024-10-18T18:49:22.057704Z"
    }
   },
   "source": [
    "class PositionalEncoding(nn.Module):\n",
    "    def __init__(self, nhid, dropout=0.1, max_len=5000):\n",
    "        super(PositionalEncoding, self).__init__()\n",
    "        self.dropout = nn.Dropout(p=dropout)\n",
    "\n",
    "        pe = torch.zeros(max_len, nhid)\n",
    "        position = torch.arange(0, max_len, dtype=torch.float).unsqueeze(1)\n",
    "        div_term = torch.exp(\n",
    "            torch.arange(0, nhid, 2).float() * (-math.log(10000.0) / nhid)\n",
    "        )\n",
    "        pe[:, 0::2] = torch.sin(position * div_term)\n",
    "        pe[:, 1::2] = torch.cos(position * div_term)\n",
    "        pe = pe.unsqueeze(0).transpose(0, 1)\n",
    "        self.register_buffer(\"pe\", pe)\n",
    "\n",
    "    def forward(self, x):\n",
    "        x = x + self.pe[: x.size(0), :]\n",
    "        return self.dropout(x)"
   ],
   "outputs": [],
   "execution_count": 18
  },
  {
   "cell_type": "markdown",
   "metadata": {
    "id": "SfEYHJx2JW6l"
   },
   "source": [
    "Let's verify if our model works, by applying one inference step"
   ]
  },
  {
   "cell_type": "code",
   "metadata": {
    "id": "rhb2gkUhJMR0",
    "ExecuteTime": {
     "end_time": "2024-10-18T18:49:22.097905Z",
     "start_time": "2024-10-18T18:49:22.072024Z"
    }
   },
   "source": [
    "ntokens = 100 # the size of vocabulary\n",
    "nhid = 200  # hidden dimension\n",
    "nlayers = 4  # the number of nn.TransformerEncoderLayer in nn.TransformerEncoder\n",
    "nhead = 2  # the number of heads in the multiheadattention models\n",
    "dropout = 0  # the dropout value\n",
    "\n",
    "model = Model(ntokens, nhead, nhid, nlayers, ntokens, dropout).to(device)\n",
    "dummy_input = torch.tensor([[2, 6, 2, 5, 43, 21]]).to(device)\n",
    "src_mask = model.base.generate_square_subsequent_mask(1).to(device)\n",
    "out = model.forward(dummy_input, src_mask)\n",
    "\n",
    "print(out.shape) # is it the right shape?"
   ],
   "outputs": [
    {
     "name": "stdout",
     "output_type": "stream",
     "text": [
      "torch.Size([1, 6, 100])\n"
     ]
    }
   ],
   "execution_count": 19
  },
  {
   "metadata": {},
   "cell_type": "markdown",
   "source": "**It's seems to be the right shape! We have a dummy_input of size 6 and a vocabulary size of 100 and get a $6*100$ matrix**"
  },
  {
   "cell_type": "markdown",
   "metadata": {
    "id": "i74NN897Fcit"
   },
   "source": [
    "## Vocabulary and Tokenization"
   ]
  },
  {
   "cell_type": "code",
   "metadata": {
    "id": "5qjd26ghWuff",
    "ExecuteTime": {
     "end_time": "2024-10-18T18:49:22.244127Z",
     "start_time": "2024-10-18T18:49:22.107755Z"
    }
   },
   "source": [
    "#!wget https://raw.githubusercontent.com/moussaKam/transfer_learning_transformers/main/dict.txt\n",
    "!head -5 data/dict.txt"
   ],
   "outputs": [
    {
     "name": "stdout",
     "output_type": "stream",
     "text": [
      "▁d 1\r\n",
      "es 1\r\n",
      "▁l 1\r\n",
      "en 1\r\n",
      "on 1\r\n"
     ]
    }
   ],
   "execution_count": 20
  },
  {
   "cell_type": "code",
   "metadata": {
    "id": "vFdH_-JeFbGA",
    "ExecuteTime": {
     "end_time": "2024-10-18T18:49:22.271567Z",
     "start_time": "2024-10-18T18:49:22.251878Z"
    }
   },
   "source": [
    "path_vocab = \"data/dict.txt\"\n",
    "token2ind = {\"<sos>\": 0, \"<pad>\": 1, \"<eos>\": 2, \"<oov>\": 3} # the 4 first indices are reserved to special tokens\n",
    "#sos for start of sequence, eos: end of sequence, oov: out of vocabulary\n",
    "#pad: a special token used to fill in the extra spaces for shorter sequences to match the length of the longest sequence in a batch\n",
    "with open(path_vocab, \"r\") as f:\n",
    "    for idx, line in enumerate(f):\n",
    "        word = line.split()[0].strip()\n",
    "        token2ind[word] = idx + 4 #fill me because the first 4 index are for special tokens\n",
    "\n",
    "ind2token = {value:key for (key,value) in token2ind.items()} #fill me\n",
    "\n",
    "print(ind2token[1111])"
   ],
   "outputs": [
    {
     "name": "stdout",
     "output_type": "stream",
     "text": [
      "▁trop\n"
     ]
    }
   ],
   "execution_count": 21
  },
  {
   "cell_type": "markdown",
   "metadata": {
    "id": "XOExGODajN8p"
   },
   "source": [
    "### Data Loader\n"
   ]
  },
  {
   "cell_type": "code",
   "metadata": {
    "id": "Y0jN-Ar9i5Q1",
    "ExecuteTime": {
     "end_time": "2024-10-18T18:49:22.295527Z",
     "start_time": "2024-10-18T18:49:22.290532Z"
    }
   },
   "source": [
    "import numpy\n",
    "import torch\n",
    "from torch.nn.utils.rnn import pad_sequence\n",
    "from torch.utils.data import DataLoader, Dataset\n",
    "\n",
    "\n",
    "class Dataset(Dataset):\n",
    "    def __init__(\n",
    "        self,\n",
    "        path_documents,\n",
    "        path_labels=None,\n",
    "        token2ind={},\n",
    "        max_len=512,\n",
    "        task=\"language_modeling\",\n",
    "    ):\n",
    "        self.task = task\n",
    "        self.max_len = max_len\n",
    "        self.token2ind = token2ind\n",
    "        self.documents = []\n",
    "        self.labels = []\n",
    "        with open(path_documents, \"r\") as f1:\n",
    "            for line in f1:\n",
    "                self.documents.append(line.strip())\n",
    "        if task == \"classification\":\n",
    "            with open(path_labels, \"r\") as f1:\n",
    "                for line in f1:\n",
    "                    self.labels.append(int(line.strip()))\n",
    "            assert len(self.labels) == len(self.documents)\n",
    "\n",
    "    def __len__(self):\n",
    "        return len(self.documents)\n",
    "\n",
    "    def __getitem__(self, index):\n",
    "        sequence = self.documents[index].split()\n",
    "        if len(sequence) > self.max_len - 1:\n",
    "            sequence = sequence[: self.max_len - 1]\n",
    "        #fill me (construct the input sequence using token2ind, sequence and special tokens)\n",
    "        end_source_sequence = []\n",
    "        for word in sequence:\n",
    "            if word in token2ind.keys():\n",
    "                end_source_sequence.append(self.token2ind[word])\n",
    "            else:\n",
    "                end_source_sequence.append(self.token2ind['<oov>'])\n",
    "        source_sequence = [self.token2ind[\"<sos>\"]] + end_source_sequence \n",
    "        #end of fill me\n",
    "        if self.task == \"language_modeling\":\n",
    "            target = source_sequence[1:]\n",
    "            target.append(self.token2ind[\"<eos>\"])\n",
    "        elif self.task == \"classification\":\n",
    "            target = [self.labels[index]]\n",
    "        sample = {\n",
    "            \"source_sequence\": torch.tensor(source_sequence),\n",
    "            \"target\": torch.tensor(target),\n",
    "        }\n",
    "        return sample\n",
    "\n",
    "\n",
    "def MyCollator(batch):\n",
    "    source_sequences = pad_sequence(\n",
    "        #we use padding to match the length of the sequences in the same batch\n",
    "        [sample[\"source_sequence\"] for sample in batch], padding_value=token2ind[\"<pad>\"]\n",
    "    )\n",
    "    target = pad_sequence(\n",
    "        [sample[\"target\"] for sample in batch], padding_value=token2ind[\"<pad>\"]\n",
    "    )\n",
    "    return source_sequences, target.reshape(-1)\n",
    "\n",
    "\n",
    "def get_loader(\n",
    "    path_documents,\n",
    "    path_labels=None,\n",
    "    token2ind={},\n",
    "    max_len=512,\n",
    "    batch_size=32,\n",
    "    task=\"language_modeling\",\n",
    "):\n",
    "    dataset = Dataset(\n",
    "        path_documents,\n",
    "        path_labels=path_labels,\n",
    "        token2ind=token2ind,\n",
    "        max_len=512,\n",
    "        task=task,\n",
    "    )\n",
    "    data_loader = DataLoader(\n",
    "        dataset=dataset,\n",
    "        batch_size=batch_size,\n",
    "        shuffle=True,\n",
    "        collate_fn=MyCollator,\n",
    "        pin_memory=True,\n",
    "        drop_last=True,\n",
    "    )\n",
    "    return data_loader"
   ],
   "outputs": [],
   "execution_count": 22
  },
  {
   "cell_type": "markdown",
   "metadata": {
    "id": "uTns4lHrjUTa"
   },
   "source": [
    "## The Training"
   ]
  },
  {
   "cell_type": "code",
   "metadata": {
    "id": "4_jwosiLjRsS",
    "ExecuteTime": {
     "end_time": "2024-10-18T18:49:22.314946Z",
     "start_time": "2024-10-18T18:49:22.311608Z"
    }
   },
   "source": [
    "def train(\n",
    "    path_data_train,\n",
    "    path_labels_train=None,\n",
    "    path_data_valid=None,\n",
    "    save_interval=-1,\n",
    "    log_interval=5,\n",
    "    task=\"language_modeling\",\n",
    "    batch_size=32,\n",
    "):\n",
    "    model.train()\n",
    "    total_loss = 0.0\n",
    "    ntokens = len(token2ind)\n",
    "    data_loader = get_loader(\n",
    "        path_data_train,\n",
    "        path_labels_train,\n",
    "        token2ind,\n",
    "        task=task,\n",
    "        batch_size=batch_size,\n",
    "    )\n",
    "\n",
    "    losses = []\n",
    "    for idx, data in enumerate(data_loader): #step 1\n",
    "        optimizer.zero_grad()\n",
    "        src_mask = model.base.generate_square_subsequent_mask(data[0].size(0)).to(\n",
    "            device\n",
    "        )\n",
    "        input = data[0].to(device)\n",
    "        output = model(input, src_mask) #step 2\n",
    "        #print('output shape:', output.shape)\n",
    "        if task == 'classification':\n",
    "            #last vector only\n",
    "            output = output[-1] #fill me\n",
    "        output = output.view(-1, output.shape[-1])\n",
    "        target = data[1] #fill me\n",
    "        target = target.to(device)\n",
    "        loss =  criterion(output, target) #fill me, Cross entropy check next cells\n",
    "        #fill me step 3 : Compute the loss through back-propagation\n",
    "        loss.backward()\n",
    "        \n",
    "        torch.nn.utils.clip_grad_norm_(model.parameters(), 0.5) # prevent exploding gradient\n",
    "        #fill me step 4 : update the parameters of your model using sgd\n",
    "        optimizer.step()\n",
    "        \n",
    "        total_loss += loss.item()\n",
    "        if idx % log_interval == 0 and idx > 0:\n",
    "            cur_loss = total_loss / log_interval\n",
    "            print(\n",
    "                \"| epoch {:3d} | {:5d}/{:5d} steps | \"\n",
    "                \"loss {:5.5f} | ppl {:8.3f}\".format(\n",
    "                    epoch, idx, len(data_loader), cur_loss, math.exp(cur_loss),\n",
    "                )\n",
    "            )\n",
    "            losses.append(cur_loss)\n",
    "            total_loss = 0\n",
    "    return losses"
   ],
   "outputs": [],
   "execution_count": 23
  },
  {
   "cell_type": "code",
   "metadata": {
    "id": "pgf6BDB9jUr6",
    "ExecuteTime": {
     "end_time": "2024-10-18T18:49:24.418955Z",
     "start_time": "2024-10-18T18:49:24.250161Z"
    }
   },
   "source": [
    "ntokens = len(token2ind)#fill me # the size of vocabulary\n",
    "nhid = 200  # the dimension of the feedforward network model in nn.TransformerEncoder\n",
    "nlayers = 4  # the number of nn.TransformerEncoderLayer in nn.TransformerEncoder\n",
    "nhead = 2  # the number of heads in the multiheadattention models\n",
    "dropout = 0  # the dropout value\n",
    "\n",
    "nclasses = 2 # for classification task only\n",
    "\n",
    "model = Model(ntokens, nhead, nhid, nlayers, ntokens, dropout).to(device)"
   ],
   "outputs": [],
   "execution_count": 24
  },
  {
   "cell_type": "code",
   "metadata": {
    "id": "u-OLy4KIkDwf",
    "ExecuteTime": {
     "end_time": "2024-10-18T12:56:27.583339Z",
     "start_time": "2024-10-18T12:56:27.242614Z"
    }
   },
   "source": [
    "# optimization paramerters\n",
    "\n",
    "criterion = nn.CrossEntropyLoss(ignore_index=token2ind['<pad>'])\n",
    "lr = 0.0003  # learning rate\n",
    "optimizer = torch.optim.Adam(model.parameters(), lr=lr)"
   ],
   "outputs": [],
   "execution_count": 11
  },
  {
   "cell_type": "code",
   "metadata": {
    "id": "Bwh3n9xZQy4e",
    "ExecuteTime": {
     "end_time": "2024-10-18T12:56:29.238230Z",
     "start_time": "2024-10-18T12:56:29.236480Z"
    }
   },
   "source": [
    "#!wget https://raw.githubusercontent.com/moussaKam/transfer_learning_transformers/main/pretraining_subset.txt\n",
    "path_data_train = \"data/pretraining_subset.txt\""
   ],
   "outputs": [],
   "execution_count": 12
  },
  {
   "cell_type": "code",
   "metadata": {
    "id": "0m11g4ScjZaR",
    "ExecuteTime": {
     "end_time": "2024-10-18T10:21:53.891145Z",
     "start_time": "2024-10-18T09:58:00.883442Z"
    }
   },
   "source": [
    "#pretraining on a tiny subset\n",
    "log_interval = 500\n",
    "epochs = 2\n",
    "for epoch in range(1, epochs + 1): #5\n",
    "    train(\n",
    "        path_data_train,\n",
    "        save_interval=-1,\n",
    "        task= 'language_modeling', # fill me : because it's pretraining we give 'language_modeling'\n",
    "        batch_size=16,\n",
    "        log_interval=log_interval,\n",
    "    )"
   ],
   "outputs": [
    {
     "name": "stdout",
     "output_type": "stream",
     "text": [
      "| epoch   1 |   500/ 3125 steps | loss 6.83836 | ppl  932.955\n",
      "| epoch   1 |  1000/ 3125 steps | loss 6.38794 | ppl  594.628\n",
      "| epoch   1 |  1500/ 3125 steps | loss 6.15167 | ppl  469.500\n",
      "| epoch   1 |  2000/ 3125 steps | loss 6.03120 | ppl  416.215\n",
      "| epoch   1 |  2500/ 3125 steps | loss 5.95827 | ppl  386.938\n",
      "| epoch   1 |  3000/ 3125 steps | loss 5.83204 | ppl  341.055\n",
      "| epoch   2 |   500/ 3125 steps | loss 5.54974 | ppl  257.171\n",
      "| epoch   2 |  1000/ 3125 steps | loss 5.52550 | ppl  251.011\n",
      "| epoch   2 |  1500/ 3125 steps | loss 5.51741 | ppl  248.990\n",
      "| epoch   2 |  2000/ 3125 steps | loss 5.47603 | ppl  238.897\n",
      "| epoch   2 |  2500/ 3125 steps | loss 5.44133 | ppl  230.748\n",
      "| epoch   2 |  3000/ 3125 steps | loss 5.42403 | ppl  226.792\n"
     ]
    }
   ],
   "execution_count": 57
  },
  {
   "cell_type": "markdown",
   "metadata": {
    "id": "MeOM1dOvkO4e"
   },
   "source": [
    "## Text Generation\n"
   ]
  },
  {
   "cell_type": "code",
   "metadata": {
    "id": "-BcBC6FSkMH3",
    "ExecuteTime": {
     "end_time": "2024-10-18T20:51:29.230134Z",
     "start_time": "2024-10-18T20:51:29.012741Z"
    }
   },
   "source": [
    "#!wget https://raw.githubusercontent.com/moussaKam/transfer_learning_transformers/main/pretrained_model_4layers.pt\n",
    "\n",
    "model = Model(ntokens, nhead, nhid, nlayers, ntokens).to(device)\n",
    "\n",
    "#load the checkpoint\n",
    "checkpoint = torch.load('pretrained_model_4layers.pt', weights_only=False, map_location=device)\n",
    "#load state dict\n",
    "model.load_state_dict(checkpoint['model_state_dict'])"
   ],
   "outputs": [
    {
     "data": {
      "text/plain": [
       "<All keys matched successfully>"
      ]
     },
     "execution_count": 33,
     "metadata": {},
     "output_type": "execute_result"
    }
   ],
   "execution_count": 33
  },
  {
   "cell_type": "code",
   "metadata": {
    "id": "tBRRVsWqlIoQ",
    "ExecuteTime": {
     "end_time": "2024-10-18T20:51:31.911417Z",
     "start_time": "2024-10-18T20:51:31.875215Z"
    }
   },
   "source": [
    "# !pip install sentencepiece   # uncomment this if you are using google colab\n",
    "#!wget https://raw.githubusercontent.com/moussaKam/transfer_learning_transformers/main/sentencepiece.french.model\n",
    "\n",
    "import sentencepiece as spm\n",
    "\n",
    "s = spm.SentencePieceProcessor(model_file='sentencepiece.french.model') #load sentencepiece model\n",
    "\n",
    "#examples\n",
    "encoded = s.encode_as_pieces(\"Bonjour les amis!\")\n",
    "decoded = s.decode_pieces(encoded)\n",
    "print(encoded)\n",
    "print(decoded)"
   ],
   "outputs": [
    {
     "name": "stdout",
     "output_type": "stream",
     "text": [
      "['▁Bonjour', '▁les', '▁amis', '!']\n",
      "Bonjour les amis!\n"
     ]
    }
   ],
   "execution_count": 34
  },
  {
   "metadata": {
    "id": "TtLlV05pkQI3",
    "ExecuteTime": {
     "end_time": "2024-10-18T20:51:34.337399Z",
     "start_time": "2024-10-18T20:51:34.331568Z"
    }
   },
   "cell_type": "code",
   "source": [
    "def infer_next_token(sent):\n",
    "    model.eval()\n",
    "    sent_pieces = s.encode_as_pieces(sent)\n",
    "    source = [token2ind['<sos>']] + [token2ind[el] for el in sent_pieces] # list of tokens\n",
    "    source = torch.tensor(source).to(device)\n",
    "    source = source.reshape(-1, 1)\n",
    "    src_mask = model.base.generate_square_subsequent_mask(source.size(0)).to(device)\n",
    "    out = model(source, src_mask)\n",
    "    next_token_ind = torch.argmax(out[-1]).item() #fill me\n",
    "    return next_token_ind, out\n",
    "\n",
    "def infer_next_tokens(sent, max_len=50):\n",
    "    # I suppose max_len is corresponding to the max length of tokens generated\n",
    "    # to be implemented\n",
    "    model.eval()\n",
    "    sent_pieces = s.encode_as_pieces(sent)\n",
    "    while len(sent_pieces) < max_len:\n",
    "        sent_pieces = s.encode_as_pieces(sent)\n",
    "        next_token_ind, _ = infer_next_token(s.decode_pieces(sent_pieces))\n",
    "        if ind2token[next_token_ind] == '<eos>':\n",
    "            break\n",
    "        sent = sent + ind2token[next_token_ind].replace(\"▁\", \" \")\n",
    "        \n",
    "    print(sent)"
   ],
   "outputs": [],
   "execution_count": 35
  },
  {
   "cell_type": "code",
   "metadata": {
    "id": "f83Nn5nSly4v",
    "ExecuteTime": {
     "end_time": "2024-10-18T20:57:26.325727Z",
     "start_time": "2024-10-18T20:57:26.283714Z"
    }
   },
   "source": [
    "sent = \"Bonjour les\"\n",
    "infer_next_tokens(sent)"
   ],
   "outputs": [
    {
     "name": "stdout",
     "output_type": "stream",
     "text": [
      "Bonjour les gens qui ont été très accueillants et sympathiques.\n"
     ]
    }
   ],
   "execution_count": 54
  },
  {
   "cell_type": "markdown",
   "metadata": {
    "id": "Lp7mjVzomoZ3"
   },
   "source": [
    "### Supervised task"
   ]
  },
  {
   "cell_type": "code",
   "metadata": {
    "id": "0K1BZsblmEmx",
    "ExecuteTime": {
     "end_time": "2024-10-18T14:23:37.382654Z",
     "start_time": "2024-10-18T14:23:35.356689Z"
    }
   },
   "source": [
    "#!wget https://raw.githubusercontent.com/moussaKam/transfer_learning_transformers/main/cls-books/train.review.spm\n",
    "#!wget https://raw.githubusercontent.com/moussaKam/transfer_learning_transformers/main/cls-books/train.label\n",
    "#!wget https://raw.githubusercontent.com/moussaKam/transfer_learning_transformers/main/cls-books/test.review.spm\n",
    "#!wget https://raw.githubusercontent.com/moussaKam/transfer_learning_transformers/main/cls-books/test.label\n",
    "\n",
    "path_data_train = \"data/train.review.spm\"\n",
    "path_labels_train = \"data/train.label\"\n",
    "\n",
    "path_data_valid = \"data/test.review.spm\"\n",
    "path_labels_valid = \"data/test.label\""
   ],
   "outputs": [
    {
     "name": "stdout",
     "output_type": "stream",
     "text": [
      "--2024-10-18 16:23:35--  https://raw.githubusercontent.com/moussaKam/transfer_learning_transformers/main/cls-books/train.review.spm\r\n",
      "Resolving raw.githubusercontent.com (raw.githubusercontent.com)... 185.199.110.133, 185.199.111.133, 185.199.108.133, ...\r\n",
      "Connecting to raw.githubusercontent.com (raw.githubusercontent.com)|185.199.110.133|:443... connected.\r\n",
      "HTTP request sent, awaiting response... 200 OK\r\n",
      "Length: 1495960 (1.4M) [text/plain]\r\n",
      "Saving to: ‘train.review.spm’\r\n",
      "\r\n",
      "train.review.spm    100%[===================>]   1.43M  --.-KB/s    in 0.1s    \r\n",
      "\r\n",
      "2024-10-18 16:23:36 (11.5 MB/s) - ‘train.review.spm’ saved [1495960/1495960]\r\n",
      "\r\n",
      "--2024-10-18 16:23:36--  https://raw.githubusercontent.com/moussaKam/transfer_learning_transformers/main/cls-books/train.label\r\n",
      "Resolving raw.githubusercontent.com (raw.githubusercontent.com)... 185.199.110.133, 185.199.111.133, 185.199.108.133, ...\r\n",
      "Connecting to raw.githubusercontent.com (raw.githubusercontent.com)|185.199.110.133|:443... connected.\r\n",
      "HTTP request sent, awaiting response... 200 OK\r\n",
      "Length: 3200 (3.1K) [text/plain]\r\n",
      "Saving to: ‘train.label’\r\n",
      "\r\n",
      "train.label         100%[===================>]   3.12K  --.-KB/s    in 0s      \r\n",
      "\r\n",
      "2024-10-18 16:23:36 (27.5 MB/s) - ‘train.label’ saved [3200/3200]\r\n",
      "\r\n",
      "--2024-10-18 16:23:36--  https://raw.githubusercontent.com/moussaKam/transfer_learning_transformers/main/cls-books/test.review.spm\r\n",
      "Resolving raw.githubusercontent.com (raw.githubusercontent.com)... 185.199.110.133, 185.199.111.133, 185.199.108.133, ...\r\n",
      "Connecting to raw.githubusercontent.com (raw.githubusercontent.com)|185.199.110.133|:443... connected.\r\n",
      "HTTP request sent, awaiting response... 200 OK\r\n",
      "Length: 1864544 (1.8M) [text/plain]\r\n",
      "Saving to: ‘test.review.spm’\r\n",
      "\r\n",
      "test.review.spm     100%[===================>]   1.78M  --.-KB/s    in 0.1s    \r\n",
      "\r\n",
      "2024-10-18 16:23:36 (13.0 MB/s) - ‘test.review.spm’ saved [1864544/1864544]\r\n",
      "\r\n",
      "--2024-10-18 16:23:37--  https://raw.githubusercontent.com/moussaKam/transfer_learning_transformers/main/cls-books/test.label\r\n",
      "Resolving raw.githubusercontent.com (raw.githubusercontent.com)... 185.199.110.133, 185.199.111.133, 185.199.108.133, ...\r\n",
      "Connecting to raw.githubusercontent.com (raw.githubusercontent.com)|185.199.110.133|:443... connected.\r\n",
      "HTTP request sent, awaiting response... 200 OK\r\n",
      "Length: 4000 (3.9K) [text/plain]\r\n",
      "Saving to: ‘test.label’\r\n",
      "\r\n",
      "test.label          100%[===================>]   3.91K  --.-KB/s    in 0.002s  \r\n",
      "\r\n",
      "2024-10-18 16:23:37 (2.49 MB/s) - ‘test.label’ saved [4000/4000]\r\n",
      "\r\n"
     ]
    }
   ],
   "execution_count": 108
  },
  {
   "cell_type": "code",
   "metadata": {
    "id": "_MLfvjiom2SL",
    "ExecuteTime": {
     "end_time": "2024-10-18T14:23:38.657550Z",
     "start_time": "2024-10-18T14:23:38.655172Z"
    }
   },
   "source": [
    "# a function to evaluate the validation accuracy of the model.\n",
    "def evaluate_accuracy(data_loader):\n",
    "    #to be implemented\n",
    "    model.eval()\n",
    "    ncorrect = ntotal = 0\n",
    "    with torch.no_grad():\n",
    "        for idx, data in enumerate(data_loader):\n",
    "            src_mask = model.base.generate_square_subsequent_mask(data[0].size(0)).to(device)\n",
    "            input = data[0].to(device)\n",
    "            output = model(input, src_mask) \n",
    "            predictions = torch.argmax(output[-1], dim = 1)\n",
    "            # total number of examples\n",
    "            ntotal += predictions.shape[0]\n",
    "            # number of correct predictions \n",
    "            ncorrect += torch.sum(data[1].to(device) == predictions) \n",
    "        acc = ncorrect.item() / ntotal\n",
    "        print(\"validation accuracy: {:3.2f}\".format(acc*100))\n",
    "        return acc    "
   ],
   "outputs": [],
   "execution_count": 109
  },
  {
   "cell_type": "code",
   "metadata": {
    "id": "qzmx7T7xoa6v",
    "ExecuteTime": {
     "end_time": "2024-10-18T14:23:39.897628Z",
     "start_time": "2024-10-18T14:23:39.824877Z"
    }
   },
   "source": [
    "#save the base model to be loaded later in the fine-tuning phase\n",
    "torch.save({\"model_state_dict\": model.base.state_dict(),}, \"pretrained_model_4layers_no_class_head.pt\")"
   ],
   "outputs": [],
   "execution_count": 110
  },
  {
   "metadata": {
    "ExecuteTime": {
     "end_time": "2024-10-18T14:23:41.274663Z",
     "start_time": "2024-10-18T14:23:41.272841Z"
    }
   },
   "cell_type": "code",
   "source": [
    "if not torch.backends.mps.is_available():\n",
    "    device = torch.device(\"cpu\")\n",
    "else:\n",
    "    device = torch.device(\"mps\")"
   ],
   "outputs": [],
   "execution_count": 111
  },
  {
   "cell_type": "code",
   "metadata": {
    "id": "i-xclMCpnVpw",
    "ExecuteTime": {
     "end_time": "2024-10-18T14:31:16.077027Z",
     "start_time": "2024-10-18T14:23:42.525447Z"
    }
   },
   "source": [
    "from_scratch_settings = [True, False]\n",
    "\n",
    "from_scratch_valid_acc = []\n",
    "pretrained_valid_acc = []\n",
    "lr = 0.0001\n",
    "\n",
    "for from_scratch in from_scratch_settings:\n",
    "    model = Model(ntokens, nhead, nhid, nlayers, 2, dropout).to(device)\n",
    "    criterion = nn.CrossEntropyLoss()\n",
    "    optimizer = torch.optim.Adam(model.parameters(), lr=lr)\n",
    "    if not from_scratch:\n",
    "        print(\"=====PRETRAINED MODEL======\")\n",
    "        #load checkpoint\n",
    "        checkpoint = torch.load(\"pretrained_model_4layers_no_class_head.pt\")\n",
    "        #load state dict\n",
    "        model.base.load_state_dict(checkpoint['model_state_dict'])\n",
    "    else:\n",
    "        print(\"=====Trainig FROM SCRATCH======\")\n",
    "    epochs = 15\n",
    "    for epoch in range(1, epochs + 1):\n",
    "        train(\n",
    "            path_data_train,\n",
    "            path_labels_train,\n",
    "            save_interval=-1,\n",
    "            task='classification',\n",
    "            batch_size=8,\n",
    "            log_interval=50,\n",
    "        )\n",
    "        acc = evaluate_accuracy(\n",
    "            get_loader(\n",
    "                path_data_valid,\n",
    "                path_labels_valid,\n",
    "                token2ind=token2ind,\n",
    "                batch_size=20,\n",
    "                task='classification',\n",
    "            )\n",
    "        )\n",
    "        if from_scratch:\n",
    "            from_scratch_valid_acc.append(acc)\n",
    "        else:\n",
    "            pretrained_valid_acc.append(acc)\n",
    "    print()"
   ],
   "outputs": [
    {
     "name": "stdout",
     "output_type": "stream",
     "text": [
      "=====Trainig FROM SCRATCH======\n",
      "| epoch   1 |    50/  200 steps | loss 0.77137 | ppl    2.163\n",
      "| epoch   1 |   100/  200 steps | loss 0.72268 | ppl    2.060\n",
      "| epoch   1 |   150/  200 steps | loss 0.71708 | ppl    2.048\n",
      "validation accuracy: 54.55\n",
      "| epoch   2 |    50/  200 steps | loss 0.68052 | ppl    1.975\n",
      "| epoch   2 |   100/  200 steps | loss 0.59233 | ppl    1.808\n",
      "| epoch   2 |   150/  200 steps | loss 0.64922 | ppl    1.914\n",
      "validation accuracy: 69.50\n",
      "| epoch   3 |    50/  200 steps | loss 0.52279 | ppl    1.687\n",
      "| epoch   3 |   100/  200 steps | loss 0.47346 | ppl    1.606\n",
      "| epoch   3 |   150/  200 steps | loss 0.41768 | ppl    1.518\n",
      "validation accuracy: 74.70\n",
      "| epoch   4 |    50/  200 steps | loss 0.22998 | ppl    1.259\n",
      "| epoch   4 |   100/  200 steps | loss 0.29779 | ppl    1.347\n",
      "| epoch   4 |   150/  200 steps | loss 0.29979 | ppl    1.350\n",
      "validation accuracy: 74.75\n",
      "| epoch   5 |    50/  200 steps | loss 0.09449 | ppl    1.099\n",
      "| epoch   5 |   100/  200 steps | loss 0.07928 | ppl    1.083\n",
      "| epoch   5 |   150/  200 steps | loss 0.13176 | ppl    1.141\n",
      "validation accuracy: 74.60\n",
      "| epoch   6 |    50/  200 steps | loss 0.06158 | ppl    1.064\n",
      "| epoch   6 |   100/  200 steps | loss 0.03738 | ppl    1.038\n",
      "| epoch   6 |   150/  200 steps | loss 0.03955 | ppl    1.040\n",
      "validation accuracy: 73.95\n",
      "| epoch   7 |    50/  200 steps | loss 0.02461 | ppl    1.025\n",
      "| epoch   7 |   100/  200 steps | loss 0.01994 | ppl    1.020\n",
      "| epoch   7 |   150/  200 steps | loss 0.04021 | ppl    1.041\n",
      "validation accuracy: 76.85\n",
      "| epoch   8 |    50/  200 steps | loss 0.00079 | ppl    1.001\n",
      "| epoch   8 |   100/  200 steps | loss 0.01371 | ppl    1.014\n",
      "| epoch   8 |   150/  200 steps | loss 0.00898 | ppl    1.009\n",
      "validation accuracy: 74.75\n",
      "| epoch   9 |    50/  200 steps | loss 0.01627 | ppl    1.016\n",
      "| epoch   9 |   100/  200 steps | loss 0.00674 | ppl    1.007\n",
      "| epoch   9 |   150/  200 steps | loss 0.05629 | ppl    1.058\n",
      "validation accuracy: 71.60\n",
      "| epoch  10 |    50/  200 steps | loss 0.02953 | ppl    1.030\n",
      "| epoch  10 |   100/  200 steps | loss 0.01617 | ppl    1.016\n",
      "| epoch  10 |   150/  200 steps | loss 0.00027 | ppl    1.000\n",
      "validation accuracy: 75.90\n",
      "| epoch  11 |    50/  200 steps | loss 0.03289 | ppl    1.033\n",
      "| epoch  11 |   100/  200 steps | loss 0.01499 | ppl    1.015\n",
      "| epoch  11 |   150/  200 steps | loss 0.00025 | ppl    1.000\n",
      "validation accuracy: 72.20\n",
      "| epoch  12 |    50/  200 steps | loss 0.00011 | ppl    1.000\n",
      "| epoch  12 |   100/  200 steps | loss 0.00013 | ppl    1.000\n",
      "| epoch  12 |   150/  200 steps | loss 0.02038 | ppl    1.021\n",
      "validation accuracy: 75.25\n",
      "| epoch  13 |    50/  200 steps | loss 0.01700 | ppl    1.017\n",
      "| epoch  13 |   100/  200 steps | loss 0.00026 | ppl    1.000\n",
      "| epoch  13 |   150/  200 steps | loss 0.02444 | ppl    1.025\n",
      "validation accuracy: 74.45\n",
      "| epoch  14 |    50/  200 steps | loss 0.04788 | ppl    1.049\n",
      "| epoch  14 |   100/  200 steps | loss 0.00001 | ppl    1.000\n",
      "| epoch  14 |   150/  200 steps | loss 0.00001 | ppl    1.000\n",
      "validation accuracy: 77.05\n",
      "| epoch  15 |    50/  200 steps | loss 0.00000 | ppl    1.000\n",
      "| epoch  15 |   100/  200 steps | loss 0.00000 | ppl    1.000\n",
      "| epoch  15 |   150/  200 steps | loss 0.01618 | ppl    1.016\n",
      "validation accuracy: 77.25\n",
      "\n",
      "=====PRETRAINED MODEL======\n"
     ]
    },
    {
     "name": "stderr",
     "output_type": "stream",
     "text": [
      "/var/folders/m9/xmtphkx904b8hxdxrgm2jnz80000gn/T/ipykernel_6099/2078304511.py:14: FutureWarning: You are using `torch.load` with `weights_only=False` (the current default value), which uses the default pickle module implicitly. It is possible to construct malicious pickle data which will execute arbitrary code during unpickling (See https://github.com/pytorch/pytorch/blob/main/SECURITY.md#untrusted-models for more details). In a future release, the default value for `weights_only` will be flipped to `True`. This limits the functions that could be executed during unpickling. Arbitrary objects will no longer be allowed to be loaded via this mode unless they are explicitly allowlisted by the user via `torch.serialization.add_safe_globals`. We recommend you start setting `weights_only=True` for any use case where you don't have full control of the loaded file. Please open an issue on GitHub for any issues related to this experimental feature.\n",
      "  checkpoint = torch.load(\"pretrained_model_4layers_no_class_head.pt\")\n"
     ]
    },
    {
     "name": "stdout",
     "output_type": "stream",
     "text": [
      "| epoch   1 |    50/  200 steps | loss 0.74223 | ppl    2.101\n",
      "| epoch   1 |   100/  200 steps | loss 0.67145 | ppl    1.957\n",
      "| epoch   1 |   150/  200 steps | loss 0.58419 | ppl    1.794\n",
      "validation accuracy: 76.65\n",
      "| epoch   2 |    50/  200 steps | loss 0.52979 | ppl    1.699\n",
      "| epoch   2 |   100/  200 steps | loss 0.48223 | ppl    1.620\n",
      "| epoch   2 |   150/  200 steps | loss 0.48982 | ppl    1.632\n",
      "validation accuracy: 77.95\n",
      "| epoch   3 |    50/  200 steps | loss 0.37942 | ppl    1.461\n",
      "| epoch   3 |   100/  200 steps | loss 0.36930 | ppl    1.447\n",
      "| epoch   3 |   150/  200 steps | loss 0.44337 | ppl    1.558\n",
      "validation accuracy: 77.75\n",
      "| epoch   4 |    50/  200 steps | loss 0.34607 | ppl    1.414\n",
      "| epoch   4 |   100/  200 steps | loss 0.30556 | ppl    1.357\n",
      "| epoch   4 |   150/  200 steps | loss 0.34617 | ppl    1.414\n",
      "validation accuracy: 79.25\n",
      "| epoch   5 |    50/  200 steps | loss 0.29786 | ppl    1.347\n",
      "| epoch   5 |   100/  200 steps | loss 0.28668 | ppl    1.332\n",
      "| epoch   5 |   150/  200 steps | loss 0.33995 | ppl    1.405\n",
      "validation accuracy: 79.80\n",
      "| epoch   6 |    50/  200 steps | loss 0.21945 | ppl    1.245\n",
      "| epoch   6 |   100/  200 steps | loss 0.26860 | ppl    1.308\n",
      "| epoch   6 |   150/  200 steps | loss 0.35208 | ppl    1.422\n",
      "validation accuracy: 80.55\n",
      "| epoch   7 |    50/  200 steps | loss 0.18089 | ppl    1.198\n",
      "| epoch   7 |   100/  200 steps | loss 0.11875 | ppl    1.126\n",
      "| epoch   7 |   150/  200 steps | loss 0.22987 | ppl    1.258\n",
      "validation accuracy: 80.15\n",
      "| epoch   8 |    50/  200 steps | loss 0.13520 | ppl    1.145\n",
      "| epoch   8 |   100/  200 steps | loss 0.08596 | ppl    1.090\n",
      "| epoch   8 |   150/  200 steps | loss 0.20192 | ppl    1.224\n",
      "validation accuracy: 79.20\n",
      "| epoch   9 |    50/  200 steps | loss 0.13796 | ppl    1.148\n",
      "| epoch   9 |   100/  200 steps | loss 0.06660 | ppl    1.069\n",
      "| epoch   9 |   150/  200 steps | loss 0.07841 | ppl    1.082\n",
      "validation accuracy: 80.55\n",
      "| epoch  10 |    50/  200 steps | loss 0.09326 | ppl    1.098\n",
      "| epoch  10 |   100/  200 steps | loss 0.08423 | ppl    1.088\n",
      "| epoch  10 |   150/  200 steps | loss 0.08716 | ppl    1.091\n",
      "validation accuracy: 80.90\n",
      "| epoch  11 |    50/  200 steps | loss 0.05576 | ppl    1.057\n",
      "| epoch  11 |   100/  200 steps | loss 0.02297 | ppl    1.023\n",
      "| epoch  11 |   150/  200 steps | loss 0.02668 | ppl    1.027\n",
      "validation accuracy: 78.55\n",
      "| epoch  12 |    50/  200 steps | loss 0.03243 | ppl    1.033\n",
      "| epoch  12 |   100/  200 steps | loss 0.00632 | ppl    1.006\n",
      "| epoch  12 |   150/  200 steps | loss 0.07934 | ppl    1.083\n",
      "validation accuracy: 79.50\n",
      "| epoch  13 |    50/  200 steps | loss 0.06559 | ppl    1.068\n",
      "| epoch  13 |   100/  200 steps | loss 0.02512 | ppl    1.025\n",
      "| epoch  13 |   150/  200 steps | loss 0.01818 | ppl    1.018\n",
      "validation accuracy: 81.05\n",
      "| epoch  14 |    50/  200 steps | loss 0.00006 | ppl    1.000\n",
      "| epoch  14 |   100/  200 steps | loss 0.00187 | ppl    1.002\n",
      "| epoch  14 |   150/  200 steps | loss 0.05805 | ppl    1.060\n",
      "validation accuracy: 80.35\n",
      "| epoch  15 |    50/  200 steps | loss 0.09725 | ppl    1.102\n",
      "| epoch  15 |   100/  200 steps | loss 0.01982 | ppl    1.020\n",
      "| epoch  15 |   150/  200 steps | loss 0.00677 | ppl    1.007\n",
      "validation accuracy: 80.20\n",
      "\n"
     ]
    }
   ],
   "execution_count": 112
  },
  {
   "cell_type": "code",
   "metadata": {
    "id": "RCpBIdTHojm6",
    "ExecuteTime": {
     "end_time": "2024-10-18T14:31:18.627859Z",
     "start_time": "2024-10-18T14:31:18.544647Z"
    }
   },
   "source": [
    "#Visualize the accuracy\n",
    "\n",
    "import matplotlib.pyplot as plt\n",
    "\n",
    "plt.plot([acc for acc in from_scratch_valid_acc], label=\"from scratch\")\n",
    "plt.plot([acc for acc in pretrained_valid_acc], label=\"pretrained\")\n",
    "plt.title(\"Accuracy of the classification task\")\n",
    "plt.xlabel(\"Epoch\")\n",
    "plt.ylabel(\"Accuracy\")\n",
    "plt.legend()\n",
    "plt.savefig(\"accuracy_vs_scratch.png\")"
   ],
   "outputs": [
    {
     "data": {
      "text/plain": [
       "<Figure size 640x480 with 1 Axes>"
      ],
      "image/png": "[encoded data removed]"
     },
     "metadata": {},
     "output_type": "display_data"
    }
   ],
   "execution_count": 113
  },
  {
   "metadata": {},
   "cell_type": "markdown",
   "source": "### Number of paramters of a model"
  },
  {
   "metadata": {
    "ExecuteTime": {
     "end_time": "2024-10-18T19:01:16.766364Z",
     "start_time": "2024-10-18T19:01:16.763519Z"
    }
   },
   "cell_type": "code",
   "source": [
    "def count_parameters(model):\n",
    "    return sum(p.numel() for p in model.parameters() if p.requires_grad)"
   ],
   "outputs": [],
   "execution_count": 28
  },
  {
   "metadata": {},
   "cell_type": "code",
   "outputs": [],
   "execution_count": null,
   "source": [
    "ntokens = len(token2ind)#fill me # the size of vocabulary\n",
    "nhid = 200  # the dimension of the feedforward network model in nn.TransformerEncoder\n",
    "nlayers = 4  # the number of nn.TransformerEncoderLayer in nn.TransformerEncoder\n",
    "nhead = 2  # the number of heads in the multiheadattention models\n",
    "dropout = 0  # the dropout value\n",
    "\n",
    "nclasses = 2 # for classification task only"
   ]
  },
  {
   "metadata": {},
   "cell_type": "markdown",
   "source": "##### Language-modeling task"
  },
  {
   "metadata": {
    "ExecuteTime": {
     "end_time": "2024-10-18T19:01:05.418686Z",
     "start_time": "2024-10-18T19:01:05.254805Z"
    }
   },
   "cell_type": "code",
   "source": "model = Model(ntokens, nhead, nhid, nlayers, ntokens, dropout).to(device)",
   "outputs": [],
   "execution_count": 26
  },
  {
   "metadata": {
    "ExecuteTime": {
     "end_time": "2024-10-18T19:01:19.903765Z",
     "start_time": "2024-10-18T19:01:19.900585Z"
    }
   },
   "cell_type": "code",
   "source": "count_parameters(model)",
   "outputs": [
    {
     "data": {
      "text/plain": [
       "21018401"
      ]
     },
     "execution_count": 29,
     "metadata": {},
     "output_type": "execute_result"
    }
   ],
   "execution_count": 29
  },
  {
   "metadata": {},
   "cell_type": "markdown",
   "source": "##### Classification task (positive/negative) from scratch"
  },
  {
   "metadata": {
    "ExecuteTime": {
     "end_time": "2024-10-18T19:02:34.393821Z",
     "start_time": "2024-10-18T19:02:34.273105Z"
    }
   },
   "cell_type": "code",
   "source": "model = Model(ntokens, nhead, nhid, nlayers, nclasses, dropout).to(device)",
   "outputs": [],
   "execution_count": 30
  },
  {
   "metadata": {
    "ExecuteTime": {
     "end_time": "2024-10-18T19:02:39.265218Z",
     "start_time": "2024-10-18T19:02:39.261563Z"
    }
   },
   "cell_type": "code",
   "source": "count_parameters(model)",
   "outputs": [
    {
     "data": {
      "text/plain": [
       "10968602"
      ]
     },
     "execution_count": 31,
     "metadata": {},
     "output_type": "execute_result"
    }
   ],
   "execution_count": 31
  }
 ],
 "metadata": {
  "accelerator": "GPU",
  "colab": {
   "provenance": []
  },
  "kernelspec": {
   "display_name": "Python 3.6.15 ('altegrad')",
   "language": "python",
   "name": "python3"
  },
  "language_info": {
   "name": "python",
   "version": "3.6.15"
  },
  "vscode": {
   "interpreter": {
    "hash": "1f3cfdeab8dd8f9900bd16266619de191cf0f5e09365d74b1fba1714dce58066"
   }
  }
 },
 "nbformat": 4,
 "nbformat_minor": 0
}
