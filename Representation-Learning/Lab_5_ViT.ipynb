{
  "cells": [
    {
      "cell_type": "markdown",
      "metadata": {
        "id": "3eqhJt7GchZi"
      },
      "source": [
        "# Lab: Coding Vision Transformers in Pytorch\n",
        "\n",
        "For any remark or suggestion on this lab, please feel free to contact me at:\n",
        "\n",
        "- loic.lefolgoc@telecom-paris.fr\n",
        "\n",
        "### Objective:\n",
        "\n",
        "We want to implement a Vision Transformer (ViT) for image recognition. We will use this model on a well-known dataset: CIFAR-10 https://www.cs.toronto.edu/~kriz/cifar.html.\n",
        "\n",
        "The model will be implemented using the Pytorch environment : https://pytorch.org/.\n",
        "    \n",
        "### Your task:\n",
        "You need to add the missing parts in the code (generally marked by `...`).\n",
        "\n",
        "__Please upload the lab by the deadline as a .ipynb or a .zip named SURNAME_FirstName.ipynb or .zip__"
      ]
    },
    {
      "cell_type": "markdown",
      "metadata": {
        "id": "Cgyu2GBVW192"
      },
      "source": [
        "# Load packages"
      ]
    },
    {
      "cell_type": "code",
      "execution_count": 1,
      "metadata": {
        "id": "1Qj5KY79W192"
      },
      "outputs": [],
      "source": [
        "%matplotlib inline\n",
        "import matplotlib.pyplot as plt\n",
        "import numpy as np\n",
        "\n",
        "import torch\n",
        "import torch.nn as nn\n",
        "import torch.nn.functional as F\n",
        "import torch.optim as optim\n",
        "import torchvision.datasets as datasets\n",
        "import torchvision.transforms as transforms"
      ]
    },
    {
      "cell_type": "code",
      "execution_count": 2,
      "metadata": {
        "id": "BtiOfk3m6YKp"
      },
      "outputs": [],
      "source": [
        "from tqdm import tqdm"
      ]
    },
    {
      "cell_type": "code",
      "execution_count": 3,
      "metadata": {
        "colab": {
          "base_uri": "https://localhost:8080/"
        },
        "id": "HXgy6R4hzd8X",
        "outputId": "3865a815-91f7-40c6-b93d-5b9ad4502b8c"
      },
      "outputs": [
        {
          "output_type": "stream",
          "name": "stdout",
          "text": [
            "Requirement already satisfied: einops in /usr/local/lib/python3.11/dist-packages (0.8.1)\n"
          ]
        }
      ],
      "source": [
        "!pip install einops"
      ]
    },
    {
      "cell_type": "code",
      "execution_count": 4,
      "metadata": {
        "id": "lnafXfVgbdA8"
      },
      "outputs": [],
      "source": [
        "from einops import rearrange, repeat\n",
        "from einops.layers.torch import Rearrange"
      ]
    },
    {
      "cell_type": "markdown",
      "metadata": {
        "id": "M5D5BY20W1-m"
      },
      "source": [
        "# Load the dataset: CIFAR-10\n",
        "\n",
        "We are going to train a vision transformer on a well-known vision dataset : CIFAR10. CIFAR10 consists of $60,000$ $32\\times 32$ color images of $10$ different object classes, with 6000 images per class. There are 50000 training images and 10000 test images.\n"
      ]
    },
    {
      "cell_type": "code",
      "execution_count": 5,
      "metadata": {
        "id": "5Al5b-S37T4A"
      },
      "outputs": [],
      "source": [
        "# The CIFAR10 categories\n",
        "cifar_10_list = [ 'airplane', 'automobile','bird','cat','deer','dog','frog','horse','ship','truck']"
      ]
    },
    {
      "cell_type": "markdown",
      "metadata": {
        "id": "fp37mAZFTPFp"
      },
      "source": [
        "We import the CIFAR-10 data and carry out some pre-processing :"
      ]
    },
    {
      "cell_type": "code",
      "execution_count": 6,
      "metadata": {
        "colab": {
          "base_uri": "https://localhost:8080/"
        },
        "id": "k15abDeRW1-m",
        "outputId": "6c71608b-9b83-4ba9-efa4-d3d370fcc1fc"
      },
      "outputs": [
        {
          "output_type": "stream",
          "name": "stdout",
          "text": [
            "Downloading https://www.cs.toronto.edu/~kriz/cifar-10-python.tar.gz to ./data/cifar-10-python.tar.gz\n"
          ]
        },
        {
          "output_type": "stream",
          "name": "stderr",
          "text": [
            "100%|██████████| 170M/170M [00:18<00:00, 9.09MB/s]\n"
          ]
        },
        {
          "output_type": "stream",
          "name": "stdout",
          "text": [
            "Extracting ./data/cifar-10-python.tar.gz to ./data\n",
            "Dataset CIFAR10\n",
            "    Number of datapoints: 50000\n",
            "    Root location: ./data\n",
            "    Split: Train\n",
            "    StandardTransform\n",
            "Transform: Compose(\n",
            "               ToTensor()\n",
            "           )\n",
            "Files already downloaded and verified\n"
          ]
        }
      ],
      "source": [
        "# Convert input to Pytorch tensors\n",
        "input_transform=transforms.Compose( [transforms.ToTensor()])\n",
        "\n",
        "# Retrieve CIFAR training data\n",
        "cifar_trainset = datasets.CIFAR10(root='./data',train=True,download=True,transform=input_transform)\n",
        "print(cifar_trainset)\n",
        "\n",
        "# Retrieve test data\n",
        "cifar_testset = datasets.CIFAR10(root='./data',train=False,download=True,transform=input_transform)"
      ]
    },
    {
      "cell_type": "markdown",
      "metadata": {
        "id": "WpM3zdF_W1-x"
      },
      "source": [
        "### Display some of the images"
      ]
    },
    {
      "cell_type": "code",
      "execution_count": 7,
      "metadata": {
        "id": "E1fWrMSmR16_"
      },
      "outputs": [],
      "source": [
        "# Extract the test data and labels for visualization\n",
        "X_test = torch.from_numpy(cifar_testset.data/255.0).float().permute(0,3,1,2)\n",
        "Y_test = torch.tensor(cifar_testset.targets, dtype=torch.uint8)"
      ]
    },
    {
      "cell_type": "code",
      "execution_count": 8,
      "metadata": {
        "colab": {
          "base_uri": "https://localhost:8080/",
          "height": 468
        },
        "id": "PeFaoz2AW1-y",
        "outputId": "068a2e0a-eef8-4d20-c0a6-5066ab220d12"
      },
      "outputs": [
        {
          "output_type": "display_data",
          "data": {
            "text/plain": [
              "<Figure size 1000x600 with 10 Axes>"
            ],
            "image/png": "[encoded data removed]"
          },
          "metadata": {}
        }
      ],
      "source": [
        "plt.figure(figsize=(10, 6))\n",
        "for idx in range(0,10):\n",
        "    plt.subplot(2, 5, idx+1)\n",
        "    rand_ind = np.random.randint(0,X_test.shape[0])\n",
        "    plt.imshow(X_test[rand_ind,:,:,:].permute(1,2,0))\n",
        "    plt.title(cifar_10_list[int(Y_test[rand_ind])])"
      ]
    },
    {
      "cell_type": "markdown",
      "metadata": {
        "id": "XrGI_L3OW1-3"
      },
      "source": [
        "# Build a generic ViT (Vision Transformer) model"
      ]
    },
    {
      "cell_type": "markdown",
      "metadata": {
        "id": "xfbsac9FfYNE"
      },
      "source": [
        "A ViT has a patch embedding section, which splits an image into patches and projects them to patch embeddings. These embeddings are slightly modified (a [cls] token is added, positional embeddings are added) then fed to the main body of the transformer.\n",
        "\n",
        "The transformer consists of several transformer encoder blocks (MHSA and MLP layers), plus a final classification head (a linear projection layer)."
      ]
    },
    {
      "cell_type": "markdown",
      "metadata": {
        "id": "HgIm99iMiCpL"
      },
      "source": [
        "<br> Transformers make heavy use of the `einops.rearrange` function. Take a bit of time to go through the documentation and example uses of this function: https://einops.rocks/1-einops-basics/.\n",
        "\n",
        "It will be very useful to you beyond transformers, and will make your code much more readable than alternatives!"
      ]
    },
    {
      "cell_type": "markdown",
      "metadata": {
        "id": "xFXvjiLzkDZk"
      },
      "source": [
        "<br>We are going to build the model step-by-step. First, we focus on the patch embedding. Fill in the missing parts in the `PatchEmbedding` class. You can then test your implementation by running the cell right below it.\n",
        "\n",
        "The attribute `self.net` is a `nn.Sequential` object that is used in the forward pass to convert images to sequences of flattened patches. It contains the following layers:\n",
        "- a `Rearrange` layer from `einops.layers.torch` that reshapes the batch of input images into a batch of sequences of flattened patches: `(b, c, H, W) → (b, N, D_p)` where `H=h*patch_height`, `W=w*patch_width`, `N=h*w`, `D_p=patch_height*patch_width*c`;\n",
        "- a `LayerNorm` layer, which computes the mean/variance separately for each token in the sequence (i.e. mean/variance over the `D_p` patch entries);\n",
        "- a `Linear` layer, which projects each token from `D_p` to `dim` dimensions;\n",
        "- a `LayerNorm` layer, which computes the mean/variance separately for each token in the sequence (i.e. mean/variance over the `dim` embedding dimensions)."
      ]
    },
    {
      "cell_type": "code",
      "execution_count": 9,
      "metadata": {
        "id": "LmIUi16VkGCq"
      },
      "outputs": [],
      "source": [
        "def pair(t):\n",
        "    return t if isinstance(t, tuple) else (t, t)"
      ]
    },
    {
      "cell_type": "code",
      "execution_count": 10,
      "metadata": {
        "id": "NaOsPH96jKp3"
      },
      "outputs": [],
      "source": [
        "class PatchEmbedding(nn.Module):\n",
        "    def __init__(self, image_size, patch_size, dim, channels):\n",
        "        '''\n",
        "        dim: Number of dimensions of patch embeddings (D in the slides)\n",
        "        channels: number of channels in the input images (3 for RGB images)\n",
        "        '''\n",
        "        super().__init__()\n",
        "        image_height, image_width = pair(image_size)\n",
        "        patch_height, patch_width = pair(patch_size)\n",
        "\n",
        "        assert image_height % patch_height == 0 and image_width % patch_width == 0, 'Image dimensions must be divisible by the patch size.'\n",
        "\n",
        "        patch_dim = patch_height * patch_width # the total number of entries in a patch\n",
        "\n",
        "        self.num_patches = int((image_height / patch_height) * (image_width / patch_width)) # the number of patches in which an image is divided\n",
        "\n",
        "        # self.net contains the sequence of layers necessary to transform a batch of images into a batch of patch embedding sequences\n",
        "        self.net = nn.Sequential(\n",
        "            Rearrange('b c (h p1) (w p2) -> b (h w) (p1 p2 c)', p1 = patch_height, p2 = patch_width),\n",
        "            nn.LayerNorm(patch_dim * channels),\n",
        "            nn.Linear(patch_dim * channels, dim),\n",
        "            nn.LayerNorm(dim)\n",
        "        )\n",
        "\n",
        "    def forward(self, img):\n",
        "            return self.net(img)"
      ]
    },
    {
      "cell_type": "code",
      "source": [
        "# Test the PatchEmbedding class by running this cell\n",
        "\n",
        "# We are dividing 32x32 input RGB images in 4x4 patches,\n",
        "# creating patch embeddings of dimension 4*4*3=48.\n",
        "\n",
        "# The output shape should be (10, 64, 48)\n",
        "\n",
        "temp = torch.randn(10, 3, 32, 32)\n",
        "temp = PatchEmbedding(32, 4, 48, 3)(temp)\n",
        "temp.shape"
      ],
      "metadata": {
        "id": "xV0ORGaYUzRh",
        "colab": {
          "base_uri": "https://localhost:8080/"
        },
        "outputId": "481459de-9886-4e62-de71-c76dd9dd60db"
      },
      "execution_count": 11,
      "outputs": [
        {
          "output_type": "execute_result",
          "data": {
            "text/plain": [
              "torch.Size([10, 64, 48])"
            ]
          },
          "metadata": {},
          "execution_count": 11
        }
      ]
    },
    {
      "cell_type": "markdown",
      "metadata": {
        "id": "L54WORwgggBA"
      },
      "source": [
        "<br>Next we focus on the MLP layers of the transformer encoder blocks.\n",
        "\n",
        "The attribute `self.net` is a `nn.Sequential` object that is used in the forward pass to apply an MLP to each token embedding. It consists of the following layers:\n",
        "- a `LayerNorm` layer, which computes the mean/variance separately for each token in the sequence (i.e. mean/variance over the `dim` embedding dimensions);\n",
        "- a `Linear` layer, which projects each token embedding from `dim` dimensions to `hidden_dim` dimensions;\n",
        "- a Gaussian Error Linear Unit (non-linearity);\n",
        "- a `Dropout` layer;\n",
        "- a `Linear` layer, which projects each token embedding back from `hidden_dim` dimensions to `dim` dimensions;\n",
        "- a second `Dropout` layer."
      ]
    },
    {
      "cell_type": "code",
      "execution_count": 12,
      "metadata": {
        "id": "OACfPEt5cGqt"
      },
      "outputs": [],
      "source": [
        "class FeedForward(nn.Module):\n",
        "    def __init__(self, dim, hidden_dim, dropout = 0.):\n",
        "        '''\n",
        "        dim: D in the slides\n",
        "        hidden_dim: D_mlp in the slides\n",
        "        '''\n",
        "        super().__init__()\n",
        "        self.net = nn.Sequential(\n",
        "            nn.LayerNorm(dim),\n",
        "            nn.Linear(dim, hidden_dim),\n",
        "            nn.GELU(),\n",
        "            nn.Dropout(dropout),\n",
        "            nn.Linear(hidden_dim, dim),\n",
        "            nn.Dropout(dropout)\n",
        "        )\n",
        "\n",
        "    def forward(self, x):\n",
        "        return self.net(x)"
      ]
    },
    {
      "cell_type": "code",
      "source": [
        "# Test the FeedForward class by running this cell\n",
        "\n",
        "# The input shape is (10, 64, 48), the output shape should be the same.\n",
        "\n",
        "temp = torch.randn(10, 64, 48)\n",
        "temp = FeedForward(dim=48, hidden_dim=48*2, dropout=0.1)(temp)\n",
        "temp.shape"
      ],
      "metadata": {
        "id": "TFBun1T2z5Nr",
        "colab": {
          "base_uri": "https://localhost:8080/"
        },
        "outputId": "51022a1a-5cc3-4391-c418-7264ffd8292b"
      },
      "execution_count": 13,
      "outputs": [
        {
          "output_type": "execute_result",
          "data": {
            "text/plain": [
              "torch.Size([10, 64, 48])"
            ]
          },
          "metadata": {},
          "execution_count": 13
        }
      ]
    },
    {
      "cell_type": "markdown",
      "metadata": {
        "id": "COKPVSUGhFoN"
      },
      "source": [
        "<br>Next, we turn to the Multi-Head Self-Attention layer. You can test it right below."
      ]
    },
    {
      "cell_type": "code",
      "execution_count": 14,
      "metadata": {
        "id": "6MGCREPjg1mP"
      },
      "outputs": [],
      "source": [
        "class Attention(nn.Module):\n",
        "    def __init__(self, dim, heads = 8, dim_head = 64, dropout = 0.):\n",
        "        '''\n",
        "        dim: D in the slides\n",
        "        heads: number of attention heads in MHSA\n",
        "        dim_head: D_h in the slides\n",
        "        '''\n",
        "        super().__init__()\n",
        "        inner_dim = dim_head *  heads\n",
        "        project_out = not (heads == 1 and dim_head == dim)\n",
        "\n",
        "        self.heads = heads\n",
        "        self.scale = dim_head ** -0.5 # the multiplier that we apply to QK^T before taking the softmax\n",
        "\n",
        "        self.norm = nn.LayerNorm(dim)\n",
        "\n",
        "        self.attend = nn.Softmax(dim = -1)\n",
        "        self.dropout = nn.Dropout(dropout)\n",
        "\n",
        "        self.to_qkv = nn.Linear(dim, inner_dim * 3, bias = False)\n",
        "\n",
        "        self.to_out = nn.Sequential(\n",
        "            nn.Linear(inner_dim, dim),\n",
        "            nn.Dropout(dropout)\n",
        "        ) if project_out else nn.Identity()\n",
        "\n",
        "    def forward(self, x):\n",
        "        # First apply the LayerNorm to the input:\n",
        "        x = self.norm(x)\n",
        "\n",
        "        # Compute the queries, keys, values from the input\n",
        "        qkv = self.to_qkv(x).chunk(3, dim = -1)\n",
        "        q, k, v = map(lambda t: rearrange(t, 'b n (h d) -> b h n d', h = self.heads), qkv)\n",
        "\n",
        "        # Compute the similarities between queries and keys i.e., all the q_i^T k_j / sqrt(D_h)\n",
        "        dots = torch.tensordot(q, k, dims = ([2, 3], [2, 3])) * self.scale\n",
        "\n",
        "        # Compute the attention maps\n",
        "        attn = self.attend(dots)\n",
        "\n",
        "        # Apply dropout\n",
        "        attn = self.dropout(attn)\n",
        "\n",
        "        # Multiply the attention maps A with the values V\n",
        "        out = torch.einsum(\"bhbh, bhnd -> bhnd\", attn, v)\n",
        "\n",
        "        # Reshape (in the slides, this corresponds to concatenating the output of each head) and project to the embedding dimension D\n",
        "        out = rearrange(out, 'b h n d -> b n (h d)')\n",
        "        return self.to_out(out)"
      ]
    },
    {
      "cell_type": "code",
      "source": [
        "# Test the Attention class by running this cell\n",
        "\n",
        "# The input shape is (10, 64, 48), the output shape should be the same.\n",
        "\n",
        "temp = torch.randn(10, 64, 48)\n",
        "temp = Attention(dim=48, heads = 6, dim_head = 8, dropout = 0.1)(temp)\n",
        "temp.shape"
      ],
      "metadata": {
        "id": "V3CpW1uH8hhB",
        "colab": {
          "base_uri": "https://localhost:8080/"
        },
        "outputId": "9df18fad-b963-4be4-c9bb-58b811be8bc7"
      },
      "execution_count": 15,
      "outputs": [
        {
          "output_type": "execute_result",
          "data": {
            "text/plain": [
              "torch.Size([10, 64, 48])"
            ]
          },
          "metadata": {},
          "execution_count": 15
        }
      ]
    },
    {
      "cell_type": "markdown",
      "metadata": {
        "id": "6zerzRNhiyDY"
      },
      "source": [
        "<br>Now we build the main body of the transformer (the chain of MHSA and MLP layers)."
      ]
    },
    {
      "cell_type": "code",
      "execution_count": 16,
      "metadata": {
        "id": "zeCtrC0Jg1v1"
      },
      "outputs": [],
      "source": [
        "class Transformer(nn.Module):\n",
        "    def __init__(self, dim, depth, heads, dim_head, mlp_dim, mlp_dropout = 0., att_dropout = 0.):\n",
        "        '''\n",
        "        dim: D in the slides\n",
        "        depth: number of encoder layers/blocks\n",
        "        heads: number of attention heads for the MHSA\n",
        "        dim_head: D_h in the slides\n",
        "        mlp_dim: D_mlp in the slides\n",
        "        mlp_dropout: dropout probability for the MLP\n",
        "        att_dropout: dropout probability for the MHSA\n",
        "        '''\n",
        "        super().__init__()\n",
        "        self.norm = nn.LayerNorm(dim)\n",
        "        self.layers = nn.ModuleList([])\n",
        "        for _ in range(depth):\n",
        "            # Each layer contains first an Attention module, then a FeedForward module:\n",
        "            self.layers.append(nn.ModuleList([\n",
        "                Attention(dim, heads = heads, dim_head = dim_head, dropout = att_dropout),\n",
        "                FeedForward(dim, mlp_dim, dropout = mlp_dropout)\n",
        "            ]))\n",
        "\n",
        "    def forward(self, x):\n",
        "        # We go through each layer, and sequentially modify the input.\n",
        "        # Remember that encoder blocks use residual connections around the MHSA and MLP layers:\n",
        "        for attn, ff in self.layers:\n",
        "            x = attn(self.norm(x)) + x\n",
        "            x = ff(self.norm(x)) + x\n",
        "\n",
        "        return self.norm(x)"
      ]
    },
    {
      "cell_type": "code",
      "source": [
        "# Test the Transformer class by running this cell\n",
        "\n",
        "# The input shape is (10, 64, 48), the output shape should be the same.\n",
        "\n",
        "temp = torch.randn(10, 64, 48)\n",
        "temp = Transformer(dim=48, depth=3, heads=6, dim_head=8, mlp_dim=48*2, mlp_dropout = 0.1, att_dropout = 0.1)(temp)\n",
        "temp.shape"
      ],
      "metadata": {
        "id": "4DPBsqBa9NJC",
        "colab": {
          "base_uri": "https://localhost:8080/"
        },
        "outputId": "af36e51c-093b-4e09-e939-65d8bc7d1646"
      },
      "execution_count": 17,
      "outputs": [
        {
          "output_type": "execute_result",
          "data": {
            "text/plain": [
              "torch.Size([10, 64, 48])"
            ]
          },
          "metadata": {},
          "execution_count": 17
        }
      ]
    },
    {
      "cell_type": "markdown",
      "metadata": {
        "id": "g3H0Mjrmg_GT"
      },
      "source": [
        "<br>Finally, we put it all together in a ViT model:"
      ]
    },
    {
      "cell_type": "code",
      "execution_count": 18,
      "metadata": {
        "id": "CQzj8mSZUoX7"
      },
      "outputs": [],
      "source": [
        "class ViT(nn.Module):\n",
        "    def __init__(self, *, image_size, patch_size, num_classes, dim, depth, heads, mlp_dim, pool = 'cls', channels = 3, dim_head = 64, mlp_dropout = 0., att_dropout = 0., emb_dropout = 0.):\n",
        "        super().__init__()\n",
        "\n",
        "        # Patch embedding section\n",
        "        self.to_patch_embedding = PatchEmbedding(image_size, patch_size, dim, channels)\n",
        "\n",
        "        assert pool in {'cls', 'mean'}, 'pool type must be either cls (cls token) or mean (mean pooling)'\n",
        "        # Learnable positional embeddings and cls token\n",
        "        self.pos_embedding = nn.Parameter(torch.randn(1, self.to_patch_embedding.num_patches + 1, dim))\n",
        "        self.cls_token = nn.Parameter(torch.randn(1, 1, dim))\n",
        "        self.dropout = nn.Dropout(emb_dropout)\n",
        "\n",
        "        # Main body of the transformer (all encoder blocks)\n",
        "        self.transformer = Transformer(dim, depth, heads, dim_head, mlp_dim, mlp_dropout, att_dropout)\n",
        "\n",
        "        # cls token or global average pooling\n",
        "        self.pool = pool\n",
        "\n",
        "        # classification head\n",
        "        self.mlp_head = nn.Linear(dim, num_classes)\n",
        "\n",
        "    def forward(self, img):\n",
        "        # Transform images into sequences of patches\n",
        "        x = self.to_patch_embedding(img)\n",
        "\n",
        "        # Retrieve dimensions\n",
        "        b, n, _ = x.shape\n",
        "\n",
        "        # Append the class token before the spatial tokens\n",
        "        cls_tokens = repeat(self.cls_token, '1 1 d -> b 1 d', b = b)\n",
        "        x = torch.cat((cls_tokens, x), dim=1)\n",
        "\n",
        "        # Add the positional embeddings\n",
        "        x += self.pos_embedding[:, :(n + 1)]\n",
        "\n",
        "        # Apply dropout\n",
        "        x = self.dropout(x)\n",
        "\n",
        "        # Forward the embeddings through the transformer blocks\n",
        "        x = self.transformer(x)\n",
        "\n",
        "        # Retrieve the relevant output, either the cls token embedding, or the average pooling of all tokens (including the class token)\n",
        "        # Hint: at this stage, the embeddings x are a (B, N+1, D) tensor with the class token in front of the N spatial tokens\n",
        "        x = torch.mean(x, dim = 1) if self.pool == 'mean' else x[:,0,:]\n",
        "\n",
        "        # Apply the classification head to map to a vector of unnormalized probabilities\n",
        "        return self.mlp_head(x)"
      ]
    },
    {
      "cell_type": "code",
      "source": [
        "# Test the ViT class by running this cell\n",
        "\n",
        "# We input a batch of 32x32 RGB images,\n",
        "# we output a vector of probabilities (say, 5 classes).\n",
        "\n",
        "# The output shape should be (10, 5)\n",
        "pool = 'cls'\n",
        "temp = torch.randn(10, 3, 32, 32)\n",
        "\n",
        "temp = ViT(image_size=32, patch_size=8, num_classes=5, dim=8*8*3, depth=3, heads=6, mlp_dim=768, pool=pool, channels=3, dim_head=32, mlp_dropout=0.1, att_dropout=0.1, emb_dropout=0.1)(temp)\n",
        "temp.shape"
      ],
      "metadata": {
        "id": "jBHllViJ-auA",
        "colab": {
          "base_uri": "https://localhost:8080/"
        },
        "outputId": "b4d7d7d9-fd8d-4f0d-aa49-315b2f861dcd"
      },
      "execution_count": 19,
      "outputs": [
        {
          "output_type": "execute_result",
          "data": {
            "text/plain": [
              "torch.Size([10, 5])"
            ]
          },
          "metadata": {},
          "execution_count": 19
        }
      ]
    },
    {
      "cell_type": "markdown",
      "metadata": {
        "id": "9D1PFmAMVQGc"
      },
      "source": [
        "# Instantiate a ViT model, train it and test it:"
      ]
    },
    {
      "cell_type": "markdown",
      "source": [
        "We will use the GPU if it is available on your machine, otherwise the CPU. We do so by putting the model and data on the active device with `.to(device)`. GPU training is 6-10x faster here."
      ],
      "metadata": {
        "id": "uexAt-dtHvoQ"
      }
    },
    {
      "cell_type": "code",
      "source": [
        "device = torch.device(\"cuda:0\" if torch.cuda.is_available() else \"cpu\")\n",
        "print(device)"
      ],
      "metadata": {
        "id": "ngX-L-3sHwp3",
        "colab": {
          "base_uri": "https://localhost:8080/"
        },
        "outputId": "583ae200-9ac1-4304-e181-7a5b888574e0"
      },
      "execution_count": 20,
      "outputs": [
        {
          "output_type": "stream",
          "name": "stdout",
          "text": [
            "cuda:0\n"
          ]
        }
      ]
    },
    {
      "cell_type": "markdown",
      "metadata": {
        "id": "2PVLE8l7WL53"
      },
      "source": [
        "To keep the model trainable in limited time, we choose the following settings:\n",
        "- We tokenize the input image in $4\\times 4$ patches (3 channels)\n",
        "- We use 2 transformer encoder blocks\n",
        "- We embed the patch to $D$ dimension, where $D$ preserves the input dimension of the patch (invertible mapping)\n",
        "- We opt for multihead self-attention layers, with 6 heads\n",
        "- We reduce the width of the hidden layers in MLP from $4D$ down to $2D$ to reduce the number of parameters\n",
        "- The output of each self-attention head $SA_k(X)$ is of dimension $(B\\times N\\times)D_h$, where $D_h$ is set such that when concatenating the result of all heads, we get an object if dimension $(B\\times N\\times)D$\n",
        "- We leave the dropout probability in MLP layers at $0.1$"
      ]
    },
    {
      "cell_type": "code",
      "execution_count": 21,
      "metadata": {
        "id": "OEs-EnXLW1-4"
      },
      "outputs": [],
      "source": [
        "learning_rate = 0.01\n",
        "n_epochs = 10\n",
        "batch_size = 128\n",
        "num_classes = 10\n",
        "\n",
        "# Transformer parameters\n",
        "dim = 4*4*3             # Embedding dimension D\n",
        "depth = 2               # Number of encoder blocks\n",
        "heads = 6               # Number of attention heads in MHSA\n",
        "mlp_dim = 2*dim         # Dimension of the hidden layer in MLP layers\n",
        "dim_head = dim          # Embedding dimension of Q, K, V in self-attention layers\n",
        "mlp_dropout = 0.1       # Dropout probability in MLP layers\n",
        "pool = 'mean'            # 'cls' to use the cls token only for classification, 'mean' to use global average pooling of the tokens"
      ]
    },
    {
      "cell_type": "markdown",
      "metadata": {
        "id": "rDK031kYafcx"
      },
      "source": [
        "<br>We create two convenience functions:\n",
        "- to transform a class probability tensor to class labels\n",
        "- to compute the prediction accuracy from predicted and ground truth labels"
      ]
    },
    {
      "cell_type": "code",
      "execution_count": 22,
      "metadata": {
        "id": "WuMqpS9M2xsp"
      },
      "outputs": [],
      "source": [
        "def vector_to_class(x):\n",
        "  y = torch.argmax(x, dim = 1)\n",
        "  return y"
      ]
    },
    {
      "cell_type": "code",
      "execution_count": 23,
      "metadata": {
        "id": "wgXdu5xJ2y2E"
      },
      "outputs": [],
      "source": [
        "def prediction_accuracy(predict,labels):\n",
        "  accuracy = np.sum(predict==labels).item()/len(labels)\n",
        "  return accuracy"
      ]
    },
    {
      "cell_type": "markdown",
      "metadata": {
        "id": "hbwPLf4tTxwr"
      },
      "source": [
        "<br>We create the dataloader, to feed CIFAR training/test data in minibatches:"
      ]
    },
    {
      "cell_type": "code",
      "execution_count": 24,
      "metadata": {
        "id": "FLX42JYv_VQD"
      },
      "outputs": [],
      "source": [
        "cifar_train_loader = torch.utils.data.DataLoader(cifar_trainset, batch_size=batch_size, shuffle=True)\n",
        "cifar_test_loader = torch.utils.data.DataLoader(cifar_testset, batch_size=batch_size, shuffle=True)"
      ]
    },
    {
      "cell_type": "markdown",
      "metadata": {
        "id": "I0ACZkTFW1-7"
      },
      "source": [
        "<br>Now, we instantiate a ViT model with the desired parameters:"
      ]
    },
    {
      "cell_type": "code",
      "execution_count": 25,
      "metadata": {
        "id": "RmbX6oq0W1-7"
      },
      "outputs": [],
      "source": [
        "# Define the ViT model with the correct arguments:\n",
        "cifar_model = ViT(image_size = 32, patch_size = 4, num_classes = 10, dim = dim, depth = depth, heads = heads, mlp_dim = mlp_dim, pool = pool, channels = 3, dim_head = dim_head, mlp_dropout = mlp_dropout)"
      ]
    },
    {
      "cell_type": "code",
      "source": [
        "cifar_model = cifar_model.to(device)"
      ],
      "metadata": {
        "id": "9wwNbP6lH80d"
      },
      "execution_count": 26,
      "outputs": []
    },
    {
      "cell_type": "markdown",
      "metadata": {
        "id": "vg4gHN4hZAJ3"
      },
      "source": [
        "<br>Finally, we instantiate the loss function and optimizer:"
      ]
    },
    {
      "cell_type": "code",
      "execution_count": 27,
      "metadata": {
        "id": "LA4Tke1vZECT"
      },
      "outputs": [],
      "source": [
        "criterion = torch.nn.CrossEntropyLoss(reduction='sum')\n",
        "optimizer = torch.optim.AdamW(cifar_model.parameters(), lr=learning_rate, weight_decay=1e-4)"
      ]
    },
    {
      "cell_type": "markdown",
      "metadata": {
        "id": "KUmQKIEe8_QU"
      },
      "source": [
        "<br>Now, we carry out training on the CIFAR10 dataset."
      ]
    },
    {
      "cell_type": "code",
      "execution_count": 28,
      "metadata": {
        "colab": {
          "base_uri": "https://localhost:8080/"
        },
        "id": "pyEwLnLR9gv0",
        "outputId": "64990897-7e56-4ec0-adb3-be0b44111f3f"
      },
      "outputs": [
        {
          "output_type": "stream",
          "name": "stderr",
          "text": [
            "Epoch 0: 100%|██████████| 391/391 [00:19<00:00, 20.44batch/s]\n"
          ]
        },
        {
          "output_type": "stream",
          "name": "stdout",
          "text": [
            "Epoch 0: Train Loss: 1.8859\n",
            "Epoch 0: Train Accuracy: 0.2900\n"
          ]
        },
        {
          "output_type": "stream",
          "name": "stderr",
          "text": [
            "Epoch 1: 100%|██████████| 391/391 [00:12<00:00, 31.73batch/s]\n"
          ]
        },
        {
          "output_type": "stream",
          "name": "stdout",
          "text": [
            "Epoch 1: Train Loss: 1.7294\n",
            "Epoch 1: Train Accuracy: 0.3502\n"
          ]
        },
        {
          "output_type": "stream",
          "name": "stderr",
          "text": [
            "Epoch 2: 100%|██████████| 391/391 [00:12<00:00, 31.33batch/s]\n"
          ]
        },
        {
          "output_type": "stream",
          "name": "stdout",
          "text": [
            "Epoch 2: Train Loss: 1.6155\n",
            "Epoch 2: Train Accuracy: 0.4023\n"
          ]
        },
        {
          "output_type": "stream",
          "name": "stderr",
          "text": [
            "Epoch 3: 100%|██████████| 391/391 [00:12<00:00, 32.15batch/s]\n"
          ]
        },
        {
          "output_type": "stream",
          "name": "stdout",
          "text": [
            "Epoch 3: Train Loss: 1.5468\n",
            "Epoch 3: Train Accuracy: 0.4307\n"
          ]
        },
        {
          "output_type": "stream",
          "name": "stderr",
          "text": [
            "Epoch 4: 100%|██████████| 391/391 [00:12<00:00, 32.24batch/s]\n"
          ]
        },
        {
          "output_type": "stream",
          "name": "stdout",
          "text": [
            "Epoch 4: Train Loss: 1.5012\n",
            "Epoch 4: Train Accuracy: 0.4493\n"
          ]
        },
        {
          "output_type": "stream",
          "name": "stderr",
          "text": [
            "Epoch 5: 100%|██████████| 391/391 [00:12<00:00, 30.32batch/s]\n"
          ]
        },
        {
          "output_type": "stream",
          "name": "stdout",
          "text": [
            "Epoch 5: Train Loss: 1.4713\n",
            "Epoch 5: Train Accuracy: 0.4587\n"
          ]
        },
        {
          "output_type": "stream",
          "name": "stderr",
          "text": [
            "Epoch 6: 100%|██████████| 391/391 [00:12<00:00, 31.88batch/s]\n"
          ]
        },
        {
          "output_type": "stream",
          "name": "stdout",
          "text": [
            "Epoch 6: Train Loss: 1.4474\n",
            "Epoch 6: Train Accuracy: 0.4726\n"
          ]
        },
        {
          "output_type": "stream",
          "name": "stderr",
          "text": [
            "Epoch 7: 100%|██████████| 391/391 [00:12<00:00, 31.38batch/s]\n"
          ]
        },
        {
          "output_type": "stream",
          "name": "stdout",
          "text": [
            "Epoch 7: Train Loss: 1.4141\n",
            "Epoch 7: Train Accuracy: 0.4871\n"
          ]
        },
        {
          "output_type": "stream",
          "name": "stderr",
          "text": [
            "Epoch 8: 100%|██████████| 391/391 [00:12<00:00, 32.01batch/s]\n"
          ]
        },
        {
          "output_type": "stream",
          "name": "stdout",
          "text": [
            "Epoch 8: Train Loss: 1.3823\n",
            "Epoch 8: Train Accuracy: 0.4970\n"
          ]
        },
        {
          "output_type": "stream",
          "name": "stderr",
          "text": [
            "Epoch 9: 100%|██████████| 391/391 [00:12<00:00, 31.64batch/s]"
          ]
        },
        {
          "output_type": "stream",
          "name": "stdout",
          "text": [
            "Epoch 9: Train Loss: 1.3491\n",
            "Epoch 9: Train Accuracy: 0.5123\n"
          ]
        },
        {
          "output_type": "stream",
          "name": "stderr",
          "text": [
            "\n"
          ]
        }
      ],
      "source": [
        "cifar_model.train()\n",
        "\n",
        "for epoch in range(0,n_epochs):\n",
        "  train_loss=0.0\n",
        "  all_labels = []\n",
        "  all_predicted = []\n",
        "\n",
        "  with tqdm(cifar_train_loader, unit=\"batch\") as tepoch:\n",
        "    for imgs, labels in tepoch:\n",
        "      tepoch.set_description(f\"Epoch {epoch}\")\n",
        "\n",
        "      # Put the data on device\n",
        "      imgs = imgs.to(device)\n",
        "      labels = labels.to(device)\n",
        "\n",
        "      # BEGIN STUDENT CODE: forward and backward passes\n",
        "      predict = cifar_model(imgs)\n",
        "      loss = criterion(predict, labels)\n",
        "      optimizer.zero_grad()\n",
        "      loss.backward()\n",
        "      optimizer.step()\n",
        "      # END STUDENT CODE\n",
        "\n",
        "      # Compute the loss\n",
        "      train_loss += loss.item()\n",
        "      # Store labels and class predictions\n",
        "      all_labels.extend(labels.tolist())\n",
        "      all_predicted.extend(vector_to_class(predict).tolist())\n",
        "\n",
        "  print('Epoch {}: Train Loss: {:.4f}'.format(epoch, train_loss/len(cifar_train_loader.dataset)))\n",
        "  print('Epoch {}: Train Accuracy: {:.4f}'.format(epoch, prediction_accuracy(np.array(all_predicted),np.array(all_labels))))"
      ]
    },
    {
      "cell_type": "markdown",
      "metadata": {
        "id": "s1MCXQIcZYF5"
      },
      "source": [
        "<br>Let's compute the test accuracy:"
      ]
    },
    {
      "cell_type": "code",
      "execution_count": 29,
      "metadata": {
        "colab": {
          "base_uri": "https://localhost:8080/"
        },
        "id": "a8VvPS8WQ92b",
        "outputId": "ea93975a-c6bc-4af8-887b-c6c46c48e980"
      },
      "outputs": [
        {
          "output_type": "stream",
          "name": "stderr",
          "text": [
            "100%|██████████| 79/79 [00:01<00:00, 48.64batch/s]"
          ]
        },
        {
          "output_type": "stream",
          "name": "stdout",
          "text": [
            "\n",
            "Test Accuracy: 0.5209\n"
          ]
        },
        {
          "output_type": "stream",
          "name": "stderr",
          "text": [
            "\n"
          ]
        }
      ],
      "source": [
        "cifar_model.eval()\n",
        "\n",
        "all_predicted = []\n",
        "all_labels = []\n",
        "\n",
        "with tqdm(cifar_test_loader, unit=\"batch\") as tepoch:\n",
        "  for imgs, labels in tepoch:\n",
        "    all_labels.extend(labels.tolist())\n",
        "\n",
        "    imgs = imgs.to(device)\n",
        "    predict=cifar_model(imgs)\n",
        "    all_predicted.extend(vector_to_class(predict).tolist())\n",
        "\n",
        "test_accuracy = prediction_accuracy(np.array(all_predicted),np.array(all_labels))\n",
        "\n",
        "print(\"\\nTest Accuracy:\", test_accuracy)"
      ]
    }
  ],
  "metadata": {
    "accelerator": "GPU",
    "colab": {
      "provenance": [],
      "gpuType": "T4"
    },
    "kernelspec": {
      "display_name": "Python 3",
      "name": "python3"
    },
    "language_info": {
      "codemirror_mode": {
        "name": "ipython",
        "version": 3
      },
      "file_extension": ".py",
      "mimetype": "text/x-python",
      "name": "python",
      "nbconvert_exporter": "python",
      "pygments_lexer": "ipython3",
      "version": "3.9.12"
    }
  },
  "nbformat": 4,
  "nbformat_minor": 0
}