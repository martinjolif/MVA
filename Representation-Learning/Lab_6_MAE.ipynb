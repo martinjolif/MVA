{
  "cells": [
    {
      "cell_type": "markdown",
      "metadata": {
        "id": "3eqhJt7GchZi"
      },
      "source": [
        "# Lab: MAE - Self-Supervised Training of ViT in Pytorch\n",
        "\n",
        "For any remark or suggestion on this lab, please feel free to contact me at:\n",
        "\n",
        "- loic.lefolgoc@telecom-paris.fr\n",
        "\n",
        "### Objective:\n",
        "\n",
        "We are going to pretrain a Vision Transformer (ViT) using the Masked Auto-Encoding approach, before fine-tuning it for image recognition. We will use this model on a well-known dataset: CIFAR-10 https://www.cs.toronto.edu/~kriz/cifar.html.\n",
        "\n",
        "The model will be implemented using the Pytorch environment : https://pytorch.org/.\n",
        "    \n",
        "### Your task:\n",
        "You need to add the missing parts in the code (generally marked by `...`)\n",
        "\n",
        "__Please upload the lab by the deadline as a .ipynb or a .zip named SURNAME_FirstName.ipynb or .zip__"
      ]
    },
    {
      "cell_type": "markdown",
      "metadata": {
        "id": "Cgyu2GBVW192"
      },
      "source": [
        "# Load packages"
      ]
    },
    {
      "cell_type": "code",
      "execution_count": 1,
      "metadata": {
        "id": "1Qj5KY79W192"
      },
      "outputs": [],
      "source": [
        "%matplotlib inline\n",
        "import matplotlib.pyplot as plt\n",
        "import numpy as np\n",
        "import copy\n",
        "\n",
        "import torch\n",
        "import torch.nn as nn\n",
        "import torch.nn.functional as F\n",
        "import torch.optim as optim\n",
        "import torchvision.datasets as datasets\n",
        "import torchvision.transforms as transforms"
      ]
    },
    {
      "cell_type": "code",
      "execution_count": 2,
      "metadata": {
        "id": "BtiOfk3m6YKp"
      },
      "outputs": [],
      "source": [
        "from tqdm import tqdm"
      ]
    },
    {
      "cell_type": "code",
      "execution_count": 3,
      "metadata": {
        "colab": {
          "base_uri": "https://localhost:8080/"
        },
        "id": "HXgy6R4hzd8X",
        "outputId": "d5000748-09ab-464d-fd0a-0f23549abbd3"
      },
      "outputs": [
        {
          "name": "stdout",
          "output_type": "stream",
          "text": [
            "Requirement already satisfied: einops in /usr/local/lib/python3.11/dist-packages (0.8.1)\n"
          ]
        }
      ],
      "source": [
        "!pip install einops"
      ]
    },
    {
      "cell_type": "code",
      "execution_count": 4,
      "metadata": {
        "id": "lnafXfVgbdA8"
      },
      "outputs": [],
      "source": [
        "from einops import rearrange, repeat\n",
        "from einops.layers.torch import Rearrange"
      ]
    },
    {
      "cell_type": "code",
      "execution_count": 5,
      "metadata": {
        "colab": {
          "base_uri": "https://localhost:8080/"
        },
        "id": "oUtggcHGSPVo",
        "outputId": "082ff0d1-f8e8-442a-c84c-a87cf91df140"
      },
      "outputs": [
        {
          "name": "stdout",
          "output_type": "stream",
          "text": [
            "Requirement already satisfied: timm in /usr/local/lib/python3.11/dist-packages (1.0.14)\n",
            "Requirement already satisfied: torch in /usr/local/lib/python3.11/dist-packages (from timm) (2.5.1+cu124)\n",
            "Requirement already satisfied: torchvision in /usr/local/lib/python3.11/dist-packages (from timm) (0.20.1+cu124)\n",
            "Requirement already satisfied: pyyaml in /usr/local/lib/python3.11/dist-packages (from timm) (6.0.2)\n",
            "Requirement already satisfied: huggingface_hub in /usr/local/lib/python3.11/dist-packages (from timm) (0.28.1)\n",
            "Requirement already satisfied: safetensors in /usr/local/lib/python3.11/dist-packages (from timm) (0.5.2)\n",
            "Requirement already satisfied: filelock in /usr/local/lib/python3.11/dist-packages (from huggingface_hub->timm) (3.17.0)\n",
            "Requirement already satisfied: fsspec>=2023.5.0 in /usr/local/lib/python3.11/dist-packages (from huggingface_hub->timm) (2024.10.0)\n",
            "Requirement already satisfied: packaging>=20.9 in /usr/local/lib/python3.11/dist-packages (from huggingface_hub->timm) (24.2)\n",
            "Requirement already satisfied: requests in /usr/local/lib/python3.11/dist-packages (from huggingface_hub->timm) (2.32.3)\n",
            "Requirement already satisfied: tqdm>=4.42.1 in /usr/local/lib/python3.11/dist-packages (from huggingface_hub->timm) (4.67.1)\n",
            "Requirement already satisfied: typing-extensions>=3.7.4.3 in /usr/local/lib/python3.11/dist-packages (from huggingface_hub->timm) (4.12.2)\n",
            "Requirement already satisfied: networkx in /usr/local/lib/python3.11/dist-packages (from torch->timm) (3.4.2)\n",
            "Requirement already satisfied: jinja2 in /usr/local/lib/python3.11/dist-packages (from torch->timm) (3.1.5)\n",
            "Requirement already satisfied: nvidia-cuda-nvrtc-cu12==12.4.127 in /usr/local/lib/python3.11/dist-packages (from torch->timm) (12.4.127)\n",
            "Requirement already satisfied: nvidia-cuda-runtime-cu12==12.4.127 in /usr/local/lib/python3.11/dist-packages (from torch->timm) (12.4.127)\n",
            "Requirement already satisfied: nvidia-cuda-cupti-cu12==12.4.127 in /usr/local/lib/python3.11/dist-packages (from torch->timm) (12.4.127)\n",
            "Requirement already satisfied: nvidia-cudnn-cu12==9.1.0.70 in /usr/local/lib/python3.11/dist-packages (from torch->timm) (9.1.0.70)\n",
            "Requirement already satisfied: nvidia-cublas-cu12==12.4.5.8 in /usr/local/lib/python3.11/dist-packages (from torch->timm) (12.4.5.8)\n",
            "Requirement already satisfied: nvidia-cufft-cu12==11.2.1.3 in /usr/local/lib/python3.11/dist-packages (from torch->timm) (11.2.1.3)\n",
            "Requirement already satisfied: nvidia-curand-cu12==10.3.5.147 in /usr/local/lib/python3.11/dist-packages (from torch->timm) (10.3.5.147)\n",
            "Requirement already satisfied: nvidia-cusolver-cu12==11.6.1.9 in /usr/local/lib/python3.11/dist-packages (from torch->timm) (11.6.1.9)\n",
            "Requirement already satisfied: nvidia-cusparse-cu12==12.3.1.170 in /usr/local/lib/python3.11/dist-packages (from torch->timm) (12.3.1.170)\n",
            "Requirement already satisfied: nvidia-nccl-cu12==2.21.5 in /usr/local/lib/python3.11/dist-packages (from torch->timm) (2.21.5)\n",
            "Requirement already satisfied: nvidia-nvtx-cu12==12.4.127 in /usr/local/lib/python3.11/dist-packages (from torch->timm) (12.4.127)\n",
            "Requirement already satisfied: nvidia-nvjitlink-cu12==12.4.127 in /usr/local/lib/python3.11/dist-packages (from torch->timm) (12.4.127)\n",
            "Requirement already satisfied: triton==3.1.0 in /usr/local/lib/python3.11/dist-packages (from torch->timm) (3.1.0)\n",
            "Requirement already satisfied: sympy==1.13.1 in /usr/local/lib/python3.11/dist-packages (from torch->timm) (1.13.1)\n",
            "Requirement already satisfied: mpmath<1.4,>=1.1.0 in /usr/local/lib/python3.11/dist-packages (from sympy==1.13.1->torch->timm) (1.3.0)\n",
            "Requirement already satisfied: numpy in /usr/local/lib/python3.11/dist-packages (from torchvision->timm) (1.26.4)\n",
            "Requirement already satisfied: pillow!=8.3.*,>=5.3.0 in /usr/local/lib/python3.11/dist-packages (from torchvision->timm) (11.1.0)\n",
            "Requirement already satisfied: MarkupSafe>=2.0 in /usr/local/lib/python3.11/dist-packages (from jinja2->torch->timm) (3.0.2)\n",
            "Requirement already satisfied: charset-normalizer<4,>=2 in /usr/local/lib/python3.11/dist-packages (from requests->huggingface_hub->timm) (3.4.1)\n",
            "Requirement already satisfied: idna<4,>=2.5 in /usr/local/lib/python3.11/dist-packages (from requests->huggingface_hub->timm) (3.10)\n",
            "Requirement already satisfied: urllib3<3,>=1.21.1 in /usr/local/lib/python3.11/dist-packages (from requests->huggingface_hub->timm) (2.3.0)\n",
            "Requirement already satisfied: certifi>=2017.4.17 in /usr/local/lib/python3.11/dist-packages (from requests->huggingface_hub->timm) (2025.1.31)\n"
          ]
        }
      ],
      "source": [
        "!pip install timm"
      ]
    },
    {
      "cell_type": "code",
      "execution_count": 6,
      "metadata": {
        "id": "OuPmUEgpSFH5"
      },
      "outputs": [],
      "source": [
        "from timm.layers import trunc_normal_\n",
        "from timm.models.vision_transformer import Block"
      ]
    },
    {
      "cell_type": "markdown",
      "metadata": {
        "id": "M5D5BY20W1-m"
      },
      "source": [
        "# Load the dataset: CIFAR-10\n",
        "\n",
        "We are going to train a vision transformer on a well-known vision dataset : CIFAR10. CIFAR10 consists of $60,000$ $32\\times 32$ color images of $10$ different object classes, with 6000 images per class. There are 50000 training images and 10000 test images.\n"
      ]
    },
    {
      "cell_type": "code",
      "execution_count": 7,
      "metadata": {
        "id": "5Al5b-S37T4A"
      },
      "outputs": [],
      "source": [
        "# The CIFAR10 categories\n",
        "cifar_10_list = [ 'airplane', 'automobile','bird','cat','deer','dog','frog','horse','ship','truck']"
      ]
    },
    {
      "cell_type": "markdown",
      "metadata": {
        "id": "fp37mAZFTPFp"
      },
      "source": [
        "We import the CIFAR-10 data and carry out some pre-processing :"
      ]
    },
    {
      "cell_type": "code",
      "execution_count": 8,
      "metadata": {
        "colab": {
          "base_uri": "https://localhost:8080/"
        },
        "id": "k15abDeRW1-m",
        "outputId": "aec98a07-fa45-4866-e759-3a10c9f08343"
      },
      "outputs": [
        {
          "name": "stdout",
          "output_type": "stream",
          "text": [
            "Files already downloaded and verified\n",
            "Dataset CIFAR10\n",
            "    Number of datapoints: 50000\n",
            "    Root location: ./data\n",
            "    Split: Train\n",
            "    StandardTransform\n",
            "Transform: Compose(\n",
            "               ToTensor()\n",
            "           )\n",
            "Files already downloaded and verified\n"
          ]
        }
      ],
      "source": [
        "# Convert input to Pytorch tensors\n",
        "input_transform=transforms.Compose( [transforms.ToTensor()])\n",
        "\n",
        "# Retrieve CIFAR training data\n",
        "cifar_trainset = datasets.CIFAR10(root='./data',train=True,download=True,transform=input_transform)\n",
        "print(cifar_trainset)\n",
        "\n",
        "# Retrieve test data\n",
        "cifar_testset = datasets.CIFAR10(root='./data',train=False,download=True,transform=input_transform)"
      ]
    },
    {
      "cell_type": "code",
      "execution_count": 9,
      "metadata": {
        "id": "E1fWrMSmR16_"
      },
      "outputs": [],
      "source": [
        "# Extract the test data and labels for later (visualization of the results)\n",
        "X_test = torch.from_numpy(cifar_testset.data/255.0).float().permute(0,3,1,2)\n",
        "Y_test = torch.tensor(cifar_testset.targets, dtype=torch.uint8)"
      ]
    },
    {
      "cell_type": "markdown",
      "metadata": {
        "id": "XrGI_L3OW1-3"
      },
      "source": [
        "# Build the MAE model"
      ]
    },
    {
      "cell_type": "markdown",
      "metadata": {
        "id": "xfbsac9FfYNE"
      },
      "source": [
        "An MAE model consists of a standard transformer encoder and of a decoder.\n",
        "\n",
        "The encoder is in charge of learning patch representations (token embeddings) that somehow capture their semantic context (the object they belong to, their situation with respect to the other tokens, etc.) The encoder does not see all patches in the image (many patches are masked).\n",
        "\n",
        "The decoder is in charge of reconstructing the full image from the reduced set of token embeddings seen by the encoder. The decoder is similar in design to the encoder, except it has a final regression head that projects each spatial token to a patch (predicting pixel values of the reconstructed image).\n",
        "\n",
        "Another difference in implementation of the MAE encoder/decoder (compared to a standard ViT encoder) is that they shuffle/mask/remove (MAE encoder), or unshuffle (MAE decoder) spatial tokens in the forward pass."
      ]
    },
    {
      "cell_type": "markdown",
      "metadata": {
        "id": "xFXvjiLzkDZk"
      },
      "source": [
        "<br>Most of the pieces of code you will have to complete in the `MAE_Encoder` and `MAE_Decoder` relate to these specificities. We are going to build the model step-by-step."
      ]
    },
    {
      "cell_type": "markdown",
      "metadata": {
        "id": "QRo6s7Sner39"
      },
      "source": [
        "Let's complete helper functions first. Use `shuffle` and `argsort` from numpy to complete the function `random_indices` according to its description."
      ]
    },
    {
      "cell_type": "code",
      "execution_count": 10,
      "metadata": {
        "id": "Fdol2YmJBQ7M"
      },
      "outputs": [],
      "source": [
        "from typing import ForwardRef\n",
        "def random_indices(size : int):\n",
        "    '''\n",
        "    Returns two outputs:\n",
        "    forward_indices: np.array (size,) An array of indices between 0 and size-1 in random order\n",
        "    backward_indices: np.array (size,) The array of indices that reorders forward_indices back to an ordered, increasing list of numbers\n",
        "      i.e. forward_indices[backward_indices] = np.arange(size)\n",
        "    '''\n",
        "    forward_indices = np.arange(size)\n",
        "    np.random.shuffle(forward_indices)\n",
        "    backward_indices = np.argsort(forward_indices)\n",
        "    return forward_indices, backward_indices"
      ]
    },
    {
      "cell_type": "code",
      "execution_count": 11,
      "metadata": {
        "colab": {
          "base_uri": "https://localhost:8080/"
        },
        "id": "_sjG2HmDnF6w",
        "outputId": "7442eeec-5867-4f75-ee8a-f108f5b63938"
      },
      "outputs": [
        {
          "name": "stdout",
          "output_type": "stream",
          "text": [
            "[9 3 5 6 1 7 2 0 8 4] [0 1 2 3 4 5 6 7 8 9]\n"
          ]
        }
      ],
      "source": [
        "a, b = random_indices(10)\n",
        "print(a, a[b])"
      ]
    },
    {
      "cell_type": "markdown",
      "metadata": {
        "id": "q3-hxpS8fEpr"
      },
      "source": [
        "Use `torch.gather` to complete the helper function `take_indices` according to its description."
      ]
    },
    {
      "cell_type": "code",
      "execution_count": 12,
      "metadata": {
        "id": "TXa3PAZaBRAL"
      },
      "outputs": [],
      "source": [
        "def take_indices(tokens, indices):\n",
        "    '''\n",
        "    tokens: (N, B, C) tensor, tokens[n, b, c] is the c-th entry of the n-th token in the b-th token sequence in the minibatch\n",
        "    indices: (N', B) tensor, giving the indices of the N' tokens to retrieve from the token sequence, for all token sequences in the minibatch\n",
        "\n",
        "    output: (N', B, C) tensor, corresponding to the N' tokens corresponding to the desired indices\n",
        "    '''\n",
        "\n",
        "    # Hint: use repeat (from einops) to expand indices to an (N', B, C) tensor\n",
        "    # then torch.gather to retrieve correct tokens\n",
        "    indices = repeat(indices, 'n b -> n b c', c=tokens.shape[2])\n",
        "    return torch.gather(tokens, 0, indices)"
      ]
    },
    {
      "cell_type": "markdown",
      "metadata": {
        "id": "NLTcuc3lvPHG"
      },
      "source": [
        "<br>Right after tokenizing an image into patches, creating the patch embeddings, and adding positional embeddings, the `MAE_Encoder` shuffles the token embeddings and discards some of them. This is done by the `PatchShuffle` module below."
      ]
    },
    {
      "cell_type": "code",
      "execution_count": 14,
      "metadata": {
        "id": "86YL75HHBRL3"
      },
      "outputs": [],
      "source": [
        "class PatchShuffle(torch.nn.Module):\n",
        "    '''\n",
        "    Shuffles the token embeddings for a minibatch (different reordering for different minibatch samples),\n",
        "    then discards some of them.\n",
        "\n",
        "    Attributes:\n",
        "      ratio: Scalar in (0,1): the fraction of discarded patches\n",
        "    '''\n",
        "    def __init__(self, ratio) -> None:\n",
        "        super().__init__()\n",
        "        self.ratio = ratio\n",
        "\n",
        "    def forward(self, patches : torch.Tensor):\n",
        "        '''\n",
        "        Takes the token embeddings (patches) as input.\n",
        "        Generates a random reordering (forward_indices) and the mapping back to the original order (backward_indices)\n",
        "        and shuffles token embeddings accordingly. Then, discards a number of patches.\n",
        "        '''\n",
        "        N, B, C = patches.shape\n",
        "        N_kept = int(N * (1 - self.ratio))\n",
        "\n",
        "        # The random forward and backward indices for reordering each token sequence in the minibatch:\n",
        "        # (format: list of (forward_indices,backward_indices) tuples)\n",
        "        indices = [random_indices(N) for _ in range(B)]\n",
        "\n",
        "        # Cast them to torch tensors:\n",
        "        forward_indices = torch.as_tensor(np.array(indices)[:,0], dtype=torch.long).to(patches.device)\n",
        "        backward_indices = torch.as_tensor(np.array(indices)[:,1], dtype=torch.long).to(patches.device)\n",
        "\n",
        "        # Retrieve (in 'patches') the token embeddings corresponding to the N_kept first indices in forward_indices\n",
        "        patches = torch.gather(patches, 0, forward_indices[:, :N_kept].T.unsqueeze(-1).expand(-1, -1, C))\n",
        "\n",
        "        # Return\n",
        "        return patches, forward_indices, backward_indices.transpose(0, 1)"
      ]
    },
    {
      "cell_type": "markdown",
      "metadata": {
        "id": "NGS_JxlkK42f"
      },
      "source": [
        "<br>We now turn towards implementing the `MAE_Encoder`. It contains:\n",
        "- a 'stem' `self.patchify` that turns images into token embeddings;\n",
        "- positional embeddings and the cls token;\n",
        "- transformer encoder blocks `Block` from the `timm` library (that implement the MHSA layer, feed-forward layer, and put it all together);\n",
        "- and finally, a `PatchShuffle` layer as implemented above, to shuffle and drop tokens"
      ]
    },
    {
      "cell_type": "code",
      "execution_count": 16,
      "metadata": {
        "id": "XWcRdWSHHS73"
      },
      "outputs": [],
      "source": [
        "class MAE_Encoder(torch.nn.Module):\n",
        "    def __init__(self,\n",
        "                 image_size=32,\n",
        "                 patch_size=2,\n",
        "                 emb_dim=192,\n",
        "                 mlp_ratio=4,\n",
        "                 num_layer=12,\n",
        "                 num_head=3,\n",
        "                 mask_ratio=0.75,\n",
        "                 ) -> None:\n",
        "        super().__init__()\n",
        "\n",
        "        self.cls_token = torch.nn.Parameter(torch.zeros(1, 1, emb_dim))\n",
        "        self.pos_embedding = torch.nn.Parameter(torch.zeros((image_size // patch_size) ** 2, 1, emb_dim))\n",
        "\n",
        "        # Tokenization / patch embedding layer\n",
        "        self.patchify = torch.nn.Conv2d(3, emb_dim, patch_size, patch_size)\n",
        "\n",
        "        # Token shuffling layer\n",
        "        self.shuffle = PatchShuffle(mask_ratio)\n",
        "\n",
        "        # Transformer layers\n",
        "        self.transformer = torch.nn.Sequential(*[Block(emb_dim, num_head, mlp_ratio=mlp_ratio) for _ in range(num_layer)])\n",
        "        self.layer_norm = torch.nn.LayerNorm(emb_dim)\n",
        "\n",
        "        self.init_weight()\n",
        "\n",
        "    def init_weight(self):\n",
        "        trunc_normal_(self.cls_token, std=.02)\n",
        "        trunc_normal_(self.pos_embedding, std=.02)\n",
        "\n",
        "    def forward(self, img):\n",
        "        '''\n",
        "        Takes as input images in (B, C, H, W) format.\n",
        "        Returns the token embeddings (including the cls token) after shuffling\n",
        "        and discarding some tokens. Also returns the backward indices that allow us\n",
        "        to \"unshuffle\" tokens to their original location in the sequence\n",
        "        '''\n",
        "        B = img.shape[0]\n",
        "\n",
        "        # Create token embeddings from images, token embeddings should end up in (N, B, C) format\n",
        "        # so do not forget to rearrange!\n",
        "        patches = self.patchify(img)\n",
        "        patches = rearrange(patches, 'b c h w -> (h w) b c')\n",
        "\n",
        "        # Add positional embeddings\n",
        "        patches = patches + self.pos_embedding\n",
        "\n",
        "        # Shuffle tokens and keep only a subset\n",
        "        patches, forward_indices, backward_indices = self.shuffle(patches)\n",
        "\n",
        "        # Add class token\n",
        "        patches = torch.cat([self.cls_token.expand(-1, B, -1), patches], dim=0)\n",
        "\n",
        "        # Process through the transformer encoder\n",
        "        # (be careful, the encoder expects patches in (B, N, C) format as input!)\n",
        "        patches = self.transformer(patches.transpose(0,1))\n",
        "        features = self.layer_norm(patches)\n",
        "\n",
        "        # Reshape tokens from (B, N, C) to (N, B, C) before returning\n",
        "        features = rearrange(features, 'b n c -> n b c')\n",
        "        return features, backward_indices"
      ]
    },
    {
      "cell_type": "markdown",
      "metadata": {
        "id": "QeT8bbYWbQZ4"
      },
      "source": [
        "<br>Next is the `MAE_Decoder`. It contains:\n",
        "- positional embeddings, and a special learnable `mask_token` replacing the token embeddings for the tokens that were masked out in the first phase;\n",
        "- transformer decoder blocks identical to the encoder blocks *i.e.*, the same `Block` module from the `timm` library;\n",
        "- a regression head self.head, that is a `torch.nn.Linear` layer projecting $(N, B, C)$ tensors to $(N, B, C_{in})$ tensors, where $C_{in}$ is the number of entries in an RGB patch of size `patch_size`;\n",
        "- the regression head is complemented by a `self.patch2img` layer that rearranges $(N, B, C_{in})$ tensors to $(B, 3, H, W)$ tensors.\n",
        "\n",
        "In the forward pass, the `MAE_Decoder` takes the output of the `MAE_Encoder`. It generates reconstructed images and masks of the same size as reconstructed images, with 1's in the masked tokens and 0's in the retained tokens."
      ]
    },
    {
      "cell_type": "code",
      "execution_count": 47,
      "metadata": {
        "id": "1r_vm6TRH3mm"
      },
      "outputs": [],
      "source": [
        "class MAE_Decoder(torch.nn.Module):\n",
        "    def __init__(self,\n",
        "                 image_size=32,\n",
        "                 patch_size=2,\n",
        "                 emb_dim=192,\n",
        "                 mlp_ratio=4,\n",
        "                 num_layer=4,\n",
        "                 num_head=3,\n",
        "                 ) -> None:\n",
        "        super().__init__()\n",
        "\n",
        "        self.mask_token = torch.nn.Parameter(torch.zeros(1, 1, emb_dim))\n",
        "        self.pos_embedding = torch.nn.Parameter(torch.zeros((image_size // patch_size) ** 2 + 1, 1, emb_dim))\n",
        "\n",
        "        # Transformer layers\n",
        "        self.transformer = torch.nn.Sequential(*[Block(emb_dim, num_head, mlp_ratio=mlp_ratio) for _ in range(num_layer)])\n",
        "\n",
        "        # Regression head to predict pixel values\n",
        "        self.head = nn.Linear(emb_dim, patch_size**2 * 3)\n",
        "        self.patch2img = lambda x: rearrange(x, '(h1 h2) b (p1 p2 c) -> b c (h1 p1) (h2 p2)', p1=patch_size, p2=patch_size, h1=image_size//patch_size, h2=image_size//patch_size)\n",
        "\n",
        "        self.init_weight()\n",
        "\n",
        "    def init_weight(self):\n",
        "        trunc_normal_(self.mask_token, std=.02)\n",
        "        trunc_normal_(self.pos_embedding, std=.02)\n",
        "\n",
        "    def forward(self, features, backward_indices):\n",
        "        N_, B, C = features.shape\n",
        "        N = backward_indices.shape[0]\n",
        "        # Adding the class token index (0) to the indices because the cls token is part of features\n",
        "        backward_indices_augmented = torch.cat([torch.zeros(1, B).to(backward_indices), backward_indices + 1], dim=0)\n",
        "\n",
        "        # Adding the mask tokens to the encoded features, then shuffling tokens\n",
        "        # back to their correct (original) positions in the token sequence\n",
        "        features = torch.cat([features, self.mask_token.expand(N + 1 - N_, B, -1)], dim=0)\n",
        "        features = torch.gather(features, 0, backward_indices_augmented.unsqueeze(-1).expand(-1, -1, C))\n",
        "\n",
        "        # Adding positional embeddings\n",
        "        features = features + self.pos_embedding\n",
        "\n",
        "        # Run the tokens through the transformer decoder layers\n",
        "        features = rearrange(features, 'n b c -> b n c')\n",
        "        features = self.transformer(features)\n",
        "        features = rearrange(features, 'b n c -> n b c')\n",
        "\n",
        "        # Remove cls token from features\n",
        "        features = features[1:]\n",
        "\n",
        "        # Regression head: predict pixel values for each patch\n",
        "        patches = self.head(features)\n",
        "\n",
        "        # Create a mask of the same size as patches, filled with 0's in the tokens\n",
        "        # that we ran through the encoder and 1's in the tokens that were masked\n",
        "        mask = torch.zeros_like(patches)\n",
        "        mask[N_-1:] = 1\n",
        "        mask = self.patch2img(torch.gather(mask, 0, backward_indices.unsqueeze(-1).expand(-1, -1, C)))\n",
        "\n",
        "        # Reshape the patches and mask to images ((B, C, H, W) tensors)\n",
        "        img = self.patch2img(patches)\n",
        "\n",
        "        return img, mask"
      ]
    },
    {
      "cell_type": "markdown",
      "metadata": {
        "id": "5ug8Hzz_crFC"
      },
      "source": [
        "Finally, the `MAE_ViT` puts it all together. It contains an `MAE_Encoder` and an `MAE_Decoder`. In the forward pass, it takes a batch of images that it passes through the encoder. The decoder then generates (from the output of the encoder) reconstructed images and the corresponding masks."
      ]
    },
    {
      "cell_type": "code",
      "execution_count": 48,
      "metadata": {
        "id": "QTMkx4GrRzNF"
      },
      "outputs": [],
      "source": [
        "class MAE_ViT(torch.nn.Module):\n",
        "    def __init__(self,\n",
        "                 image_size=32,\n",
        "                 patch_size=2,\n",
        "                 emb_dim=192,\n",
        "                 mlp_ratio=4,\n",
        "                 encoder_layer=12,\n",
        "                 encoder_head=3,\n",
        "                 decoder_layer=4,\n",
        "                 decoder_head=3,\n",
        "                 mask_ratio=0.75,\n",
        "                 ) -> None:\n",
        "        super().__init__()\n",
        "\n",
        "        self.encoder = MAE_Encoder(image_size, patch_size, emb_dim, mlp_ratio, encoder_layer, encoder_head, mask_ratio)\n",
        "        self.decoder = MAE_Decoder(image_size, patch_size, emb_dim, mlp_ratio, decoder_layer, decoder_head)\n",
        "\n",
        "    def forward(self, img):\n",
        "        features, backward_indices = self.encoder(img)\n",
        "        predicted_img, mask = self.decoder(features, backward_indices)\n",
        "        return predicted_img, mask"
      ]
    },
    {
      "cell_type": "markdown",
      "metadata": {
        "id": "Uqo3bDVJuL3F"
      },
      "source": [
        "<br>The `ViT_Classifier` below is the actual model used for classification on the downstream task, using pretrained weights from the `MAE_Encoder` (that can be further fine-tuned). It is a standard ViT, similar to the one we built in the previous lab, except that it is instantiated from an `MAE_Encoder`.\n",
        "\n",
        "Like a standard ViT, it contains a classification head `self.head`, that is a `torch.nn.Linear` layer projecting features ($(B,D)$ tensor) to unnormalized probabilities, *a.k.a.* logits ($(B, K)$ tensor where $K$ is the number of classes).\n",
        "\n",
        "Complete the missing bits in the `__init__` routine."
      ]
    },
    {
      "cell_type": "code",
      "execution_count": 49,
      "metadata": {
        "id": "7SdZGjEcY4Zz"
      },
      "outputs": [],
      "source": [
        "class ViT_Classifier(torch.nn.Module):\n",
        "    '''\n",
        "    This is a ViT model similar to the one in the previous lab, except that for\n",
        "    instantiation it takes as argument an MAE encoder and copies the relevant layers.\n",
        "    '''\n",
        "\n",
        "    def __init__(self, encoder : MAE_Encoder, num_classes=10, pool='cls') -> None:\n",
        "        super().__init__()\n",
        "\n",
        "        assert pool in {'cls', 'mean'}, 'pool type must be either cls (cls token) or mean (mean pooling)'\n",
        "        self.pool = pool\n",
        "\n",
        "        # Deep copy of the encoder that was passed as argument,\n",
        "        # so that we don't modify it if we fine-tune\n",
        "        encoder = copy.deepcopy(encoder)\n",
        "\n",
        "        # Retrieve from the encoder the relevant pre-trained layers\n",
        "        self.cls_token = encoder.cls_token\n",
        "        self.pos_embedding = encoder.pos_embedding\n",
        "        self.patchify = encoder.patchify\n",
        "        self.transformer = encoder.transformer\n",
        "        self.layer_norm = encoder.layer_norm\n",
        "\n",
        "        # Add a classification head\n",
        "        D = self.pos_embedding.shape[-1]\n",
        "        self.head = nn.Linear(D, num_classes)\n",
        "\n",
        "    def forward(self, img, detach=False):\n",
        "        B = img.shape[0]\n",
        "\n",
        "        patches = self.patchify(img)\n",
        "        patches = rearrange(patches, 'b c h w -> (h w) b c')\n",
        "\n",
        "        patches = patches + self.pos_embedding\n",
        "        patches = torch.cat([self.cls_token.expand(-1, B, -1), patches], dim=0)\n",
        "        patches = rearrange(patches, 'n b c -> b n c')\n",
        "\n",
        "        features = self.layer_norm(self.transformer(patches))\n",
        "        features = rearrange(features, 'b n c -> n b c')\n",
        "        features = features.mean(dim = 0) if self.pool == 'mean' else features[0]\n",
        "\n",
        "        if detach:\n",
        "          features = features.detach()\n",
        "\n",
        "        logits = self.head(features)\n",
        "        return logits"
      ]
    },
    {
      "cell_type": "markdown",
      "metadata": {
        "id": "9D1PFmAMVQGc"
      },
      "source": [
        "# Instantiate an MAE model & train it"
      ]
    },
    {
      "cell_type": "markdown",
      "metadata": {
        "id": "05ixmtDj-SZS"
      },
      "source": [
        "We will use the GPU if it is available on your machine, otherwise the CPU. We do so by putting the model and data on the active device with `.to(device)`. GPU training is 6-10x faster here."
      ]
    },
    {
      "cell_type": "code",
      "execution_count": 50,
      "metadata": {
        "colab": {
          "base_uri": "https://localhost:8080/"
        },
        "id": "wz4dE1aG-MoK",
        "outputId": "6cf80a1b-6bd3-4201-9b3c-2263f22e08f8"
      },
      "outputs": [
        {
          "name": "stdout",
          "output_type": "stream",
          "text": [
            "cuda:0\n"
          ]
        }
      ],
      "source": [
        "device = torch.device(\"cuda:0\" if torch.cuda.is_available() else \"cpu\")\n",
        "print(device)"
      ]
    },
    {
      "cell_type": "markdown",
      "metadata": {
        "id": "2PVLE8l7WL53"
      },
      "source": [
        "To keep the model trainable in limited time, we choose the following settings:\n",
        "- We tokenize the input image in $4\\times 4$ patches (3 channels)\n",
        "- We use 6 transformer encoder blocks: because MAE encoders only process a small fraction of the image patches (the non-masked ones), we can afford more encoder blocks than in the previous lab (re: computational budget); it also acts as a form of data augmentation (re: overfitting)\n",
        "- We use 3 transformer decoder blocks\n",
        "- We embed the patch to $D$ dimension, where $D$ preserves the input dimension of the patch (invertible mapping)\n",
        "- We use 3 heads for multihead self-attention layers\n",
        "- We reduce the width of the hidden layers in MLP from the default $4D$ down to $2D$ to reduce the number of parameters\n",
        "\n",
        "Furthermore, we will use a masking ratio of 0.75.\n",
        "\n",
        "<br>To accelerate pre-training, I have already run pretraining for between 20 and 50 epochs for you. You can use those pre-trained weights as a starting point and just pre-train for 5 more epochs. By default, those weights are downloaded down below. You can comment that cell if you want to pre-train from scratch instead."
      ]
    },
    {
      "cell_type": "code",
      "execution_count": 51,
      "metadata": {
        "id": "OEs-EnXLW1-4"
      },
      "outputs": [],
      "source": [
        "# Training parameters\n",
        "learning_rate = 1e-2\n",
        "weight_decay = 1e-2\n",
        "n_epochs = 20\n",
        "batch_size = 128\n",
        "\n",
        "# Transformer parameters\n",
        "dim = 4*4*3             # Embedding dimension D\n",
        "enc_depth = 6           # Number of encoder blocks\n",
        "enc_heads = 3           # Number of attention heads in MHSA layers in the encoder\n",
        "dec_depth = 3           # Number of decoder blocks\n",
        "dec_heads = 3           # Number of attention heads in MHSA layers in the decoder\n",
        "mlp_ratio = 2           # Dimension of the hidden layer in MLP layers / dimension of the embedding\n",
        "mask_ratio = 0.75       # Percentage of masked tokens"
      ]
    },
    {
      "cell_type": "code",
      "execution_count": 52,
      "metadata": {
        "id": "2GXvg5HzUs_b"
      },
      "outputs": [],
      "source": [
        "cifar_train_loader = torch.utils.data.DataLoader(cifar_trainset, batch_size=batch_size, shuffle=True)\n",
        "cifar_test_loader = torch.utils.data.DataLoader(cifar_testset, batch_size=batch_size, shuffle=True)"
      ]
    },
    {
      "cell_type": "code",
      "execution_count": 53,
      "metadata": {
        "id": "9h3kQ1NAUtcW"
      },
      "outputs": [],
      "source": [
        "model = MAE_ViT(image_size=32,\n",
        "                patch_size=4,\n",
        "                emb_dim=dim,\n",
        "                mlp_ratio=mlp_ratio,\n",
        "                encoder_layer=enc_depth,\n",
        "                encoder_head=enc_heads,\n",
        "                decoder_layer=dec_depth,\n",
        "                decoder_head=dec_heads,\n",
        "                mask_ratio=mask_ratio)"
      ]
    },
    {
      "cell_type": "markdown",
      "metadata": {
        "id": "O-ylgI9KiQvi"
      },
      "source": [
        "Download and start from weights obtained after 20 epochs of pre-training."
      ]
    },
    {
      "cell_type": "code",
      "execution_count": 54,
      "metadata": {
        "colab": {
          "base_uri": "https://localhost:8080/"
        },
        "id": "lZ-Jl_5Ekx3O",
        "outputId": "4f9e1156-4d11-49b8-b781-ac077a2f62bf"
      },
      "outputs": [
        {
          "name": "stdout",
          "output_type": "stream",
          "text": [
            "WARNING: combining -O with -r or -p will mean that all downloaded content\n",
            "will be placed in the single file you specified.\n",
            "\n",
            "--2025-02-21 21:49:42--  https://drive.google.com/uc?export=download&id=1QYd0aOiku72uGbAiCrAmCwxIaRYxugRo\n",
            "Resolving drive.google.com (drive.google.com)... 142.251.188.138, 142.251.188.113, 142.251.188.100, ...\n",
            "Connecting to drive.google.com (drive.google.com)|142.251.188.138|:443... connected.\n",
            "HTTP request sent, awaiting response... 303 See Other\n",
            "Location: https://drive.usercontent.google.com/download?id=1QYd0aOiku72uGbAiCrAmCwxIaRYxugRo&export=download [following]\n",
            "--2025-02-21 21:49:42--  https://drive.usercontent.google.com/download?id=1QYd0aOiku72uGbAiCrAmCwxIaRYxugRo&export=download\n",
            "Resolving drive.usercontent.google.com (drive.usercontent.google.com)... 74.125.195.132, 2607:f8b0:400e:c01::84\n",
            "Connecting to drive.usercontent.google.com (drive.usercontent.google.com)|74.125.195.132|:443... connected.\n",
            "HTTP request sent, awaiting response... 200 OK\n",
            "Length: 764711 (747K) [application/octet-stream]\n",
            "Saving to: ‘weights_20.pth’\n",
            "\n",
            "weights_20.pth      100%[===================>] 746.79K  --.-KB/s    in 0.006s  \n",
            "\n",
            "2025-02-21 21:49:44 (120 MB/s) - ‘weights_20.pth’ saved [764711/764711]\n",
            "\n",
            "FINISHED --2025-02-21 21:49:44--\n",
            "Total wall clock time: 2.4s\n",
            "Downloaded: 1 files, 747K in 0.006s (120 MB/s)\n",
            "WARNING: combining -O with -r or -p will mean that all downloaded content\n",
            "will be placed in the single file you specified.\n",
            "\n",
            "--2025-02-21 21:49:44--  https://drive.google.com/uc?export=download&id=1EuWq_vwjBOOcJC558rZFLkM0ZvZiP6aP\n",
            "Resolving drive.google.com (drive.google.com)... 142.251.188.138, 142.251.188.113, 142.251.188.100, ...\n",
            "Connecting to drive.google.com (drive.google.com)|142.251.188.138|:443... connected.\n",
            "HTTP request sent, awaiting response... 303 See Other\n",
            "Location: https://drive.usercontent.google.com/download?id=1EuWq_vwjBOOcJC558rZFLkM0ZvZiP6aP&export=download [following]\n",
            "--2025-02-21 21:49:44--  https://drive.usercontent.google.com/download?id=1EuWq_vwjBOOcJC558rZFLkM0ZvZiP6aP&export=download\n",
            "Resolving drive.usercontent.google.com (drive.usercontent.google.com)... 74.125.195.132, 2607:f8b0:400e:c01::84\n",
            "Connecting to drive.usercontent.google.com (drive.usercontent.google.com)|74.125.195.132|:443... connected.\n",
            "HTTP request sent, awaiting response... 200 OK\n",
            "Length: 765684 (748K) [application/octet-stream]\n",
            "Saving to: ‘weights_40.pth’\n",
            "\n",
            "weights_40.pth      100%[===================>] 747.74K  --.-KB/s    in 0.008s  \n",
            "\n",
            "2025-02-21 21:49:47 (97.0 MB/s) - ‘weights_40.pth’ saved [765684/765684]\n",
            "\n",
            "FINISHED --2025-02-21 21:49:47--\n",
            "Total wall clock time: 2.8s\n",
            "Downloaded: 1 files, 748K in 0.008s (97.0 MB/s)\n",
            "WARNING: combining -O with -r or -p will mean that all downloaded content\n",
            "will be placed in the single file you specified.\n",
            "\n",
            "--2025-02-21 21:49:47--  https://drive.google.com/uc?export=download&id=1YjGuZ1OAXmqXYYEcey1mn7Cz1KvJN61P\n",
            "Resolving drive.google.com (drive.google.com)... 142.251.188.138, 142.251.188.113, 142.251.188.100, ...\n",
            "Connecting to drive.google.com (drive.google.com)|142.251.188.138|:443... connected.\n",
            "HTTP request sent, awaiting response... 303 See Other\n",
            "Location: https://drive.usercontent.google.com/download?id=1YjGuZ1OAXmqXYYEcey1mn7Cz1KvJN61P&export=download [following]\n",
            "--2025-02-21 21:49:47--  https://drive.usercontent.google.com/download?id=1YjGuZ1OAXmqXYYEcey1mn7Cz1KvJN61P&export=download\n",
            "Resolving drive.usercontent.google.com (drive.usercontent.google.com)... 74.125.195.132, 2607:f8b0:400e:c01::84\n",
            "Connecting to drive.usercontent.google.com (drive.usercontent.google.com)|74.125.195.132|:443... connected.\n",
            "HTTP request sent, awaiting response... 200 OK\n",
            "Length: 765684 (748K) [application/octet-stream]\n",
            "Saving to: ‘weights_50.pth’\n",
            "\n",
            "weights_50.pth      100%[===================>] 747.74K  2.26MB/s    in 0.3s    \n",
            "\n",
            "2025-02-21 21:49:50 (2.26 MB/s) - ‘weights_50.pth’ saved [765684/765684]\n",
            "\n",
            "FINISHED --2025-02-21 21:49:50--\n",
            "Total wall clock time: 2.9s\n",
            "Downloaded: 1 files, 748K in 0.3s (2.26 MB/s)\n"
          ]
        }
      ],
      "source": [
        "!wget --no-check-certificate -r 'https://drive.google.com/uc?export=download&id=1QYd0aOiku72uGbAiCrAmCwxIaRYxugRo' -O weights_20.pth\n",
        "!wget --no-check-certificate -r 'https://drive.google.com/uc?export=download&id=1EuWq_vwjBOOcJC558rZFLkM0ZvZiP6aP' -O weights_40.pth\n",
        "!wget --no-check-certificate -r 'https://drive.google.com/uc?export=download&id=1YjGuZ1OAXmqXYYEcey1mn7Cz1KvJN61P' -O weights_50.pth"
      ]
    },
    {
      "cell_type": "code",
      "execution_count": 55,
      "metadata": {
        "colab": {
          "base_uri": "https://localhost:8080/"
        },
        "id": "5FeFHPR9lTV-",
        "outputId": "0fa51529-824a-4d2a-ed2f-199b360b0301"
      },
      "outputs": [
        {
          "name": "stderr",
          "output_type": "stream",
          "text": [
            "<ipython-input-55-812848149412>:1: FutureWarning: You are using `torch.load` with `weights_only=False` (the current default value), which uses the default pickle module implicitly. It is possible to construct malicious pickle data which will execute arbitrary code during unpickling (See https://github.com/pytorch/pytorch/blob/main/SECURITY.md#untrusted-models for more details). In a future release, the default value for `weights_only` will be flipped to `True`. This limits the functions that could be executed during unpickling. Arbitrary objects will no longer be allowed to be loaded via this mode unless they are explicitly allowlisted by the user via `torch.serialization.add_safe_globals`. We recommend you start setting `weights_only=True` for any use case where you don't have full control of the loaded file. Please open an issue on GitHub for any issues related to this experimental feature.\n",
            "  model.load_state_dict(torch.load('weights_50.pth'))\n"
          ]
        }
      ],
      "source": [
        "model.load_state_dict(torch.load('weights_50.pth'))\n",
        "n_epochs = 5\n",
        "learning_rate = 1e-3 # reducing the learning rate if doing a warm restart"
      ]
    },
    {
      "cell_type": "code",
      "execution_count": 56,
      "metadata": {
        "id": "SAXkn--c_G6i"
      },
      "outputs": [],
      "source": [
        "model = model.to(device)"
      ]
    },
    {
      "cell_type": "markdown",
      "metadata": {
        "id": "3QsC21adidPC"
      },
      "source": [
        "<br> Run the MAE model. The MAE loss is a Mean Squared Error loss between the reconstructed and true images, computed only on the area corresponding to the masked tokens. Divide it by `mask_ratio` to normalize it. Implement it manually using `torch.mean`, `predicted_img`, `img` and `mask`."
      ]
    },
    {
      "cell_type": "code",
      "execution_count": 57,
      "metadata": {
        "id": "lUPJPurEUthg"
      },
      "outputs": [],
      "source": [
        "optimizer = torch.optim.AdamW(model.parameters(), lr = learning_rate, weight_decay = weight_decay)"
      ]
    },
    {
      "cell_type": "code",
      "execution_count": 58,
      "metadata": {
        "colab": {
          "base_uri": "https://localhost:8080/"
        },
        "id": "XuRzDxYIa0OA",
        "outputId": "80ce88dc-b458-4bcd-9b67-325c7c939a61"
      },
      "outputs": [
        {
          "name": "stderr",
          "output_type": "stream",
          "text": [
            "Epoch 0: 100%|██████████| 391/391 [00:15<00:00, 25.42batch/s]\n"
          ]
        },
        {
          "name": "stdout",
          "output_type": "stream",
          "text": [
            "Epoch 0: MAE Train Loss: 0.0184\n"
          ]
        },
        {
          "name": "stderr",
          "output_type": "stream",
          "text": [
            "Epoch 1: 100%|██████████| 391/391 [00:15<00:00, 25.51batch/s]\n"
          ]
        },
        {
          "name": "stdout",
          "output_type": "stream",
          "text": [
            "Epoch 1: MAE Train Loss: 0.0177\n"
          ]
        },
        {
          "name": "stderr",
          "output_type": "stream",
          "text": [
            "Epoch 2: 100%|██████████| 391/391 [00:15<00:00, 25.30batch/s]\n"
          ]
        },
        {
          "name": "stdout",
          "output_type": "stream",
          "text": [
            "Epoch 2: MAE Train Loss: 0.0176\n"
          ]
        },
        {
          "name": "stderr",
          "output_type": "stream",
          "text": [
            "Epoch 3: 100%|██████████| 391/391 [00:14<00:00, 26.15batch/s]\n"
          ]
        },
        {
          "name": "stdout",
          "output_type": "stream",
          "text": [
            "Epoch 3: MAE Train Loss: 0.0176\n"
          ]
        },
        {
          "name": "stderr",
          "output_type": "stream",
          "text": [
            "Epoch 4: 100%|██████████| 391/391 [00:15<00:00, 26.05batch/s]"
          ]
        },
        {
          "name": "stdout",
          "output_type": "stream",
          "text": [
            "Epoch 4: MAE Train Loss: 0.0176\n"
          ]
        },
        {
          "name": "stderr",
          "output_type": "stream",
          "text": [
            "\n"
          ]
        }
      ],
      "source": [
        "model.train()\n",
        "\n",
        "for epoch in range(0,n_epochs):\n",
        "  train_loss=0.0\n",
        "  all_labels = []\n",
        "  all_predicted = []\n",
        "\n",
        "  with tqdm(cifar_train_loader, unit=\"batch\") as tepoch:\n",
        "    for img, label in tepoch:\n",
        "      tepoch.set_description(f\"Epoch {epoch}\")\n",
        "\n",
        "      # Putting data on device\n",
        "      img = img.to(device)\n",
        "\n",
        "      # BEGIN STUDENT CODE: forward and backward passes\n",
        "      optimizer.zero_grad()\n",
        "      predicted_img, mask = model(img)\n",
        "      loss = torch.mean((predicted_img - img)**2 * mask) / mask_ratio\n",
        "      loss.backward()\n",
        "      optimizer.step()\n",
        "      # END STUDENT CODE\n",
        "\n",
        "      # Compute the loss\n",
        "      train_loss += loss.item()*len(label)\n",
        "\n",
        "  print('Epoch {}: MAE Train Loss: {:.4f}'.format(epoch, train_loss/len(cifar_train_loader.dataset)))"
      ]
    },
    {
      "cell_type": "markdown",
      "metadata": {
        "id": "Td5K4XTMiiio"
      },
      "source": [
        "<br>Visualize the MAE decoder's predictions on test images:"
      ]
    },
    {
      "cell_type": "code",
      "execution_count": 59,
      "metadata": {
        "colab": {
          "base_uri": "https://localhost:8080/",
          "height": 846
        },
        "id": "G1-O_liNcF-U",
        "outputId": "1330d6c0-41b7-48f0-aac6-07373cfe62c8"
      },
      "outputs": [
        {
          "name": "stderr",
          "output_type": "stream",
          "text": [
            "WARNING:matplotlib.image:Clipping input data to the valid range for imshow with RGB data ([0..1] for floats or [0..255] for integers). Got range [0.1882353..1.0110985].\n"
          ]
        },
        {
          "data": {
            "image/png": "[encoded data removed]",
            "text/plain": [
              "<Figure size 600x1000 with 15 Axes>"
            ]
          },
          "metadata": {},
          "output_type": "display_data"
        }
      ],
      "source": [
        "model.eval()\n",
        "\n",
        "with torch.no_grad():\n",
        "  ids = np.random.choice(len(cifar_testset), 5, replace=False)\n",
        "  val_img = X_test[ids, :].to(device)\n",
        "  predicted_val_img, mask = model(val_img)\n",
        "  predicted_val_img = predicted_val_img * mask + val_img * (1 - mask)\n",
        "  img = torch.stack([val_img * (1 - mask), predicted_val_img, val_img], dim=1)\n",
        "\n",
        "plt.figure(figsize=(6, 10))\n",
        "for idx in range(0,15):\n",
        "  plt.subplot(5, 3, idx+1)\n",
        "  row = idx//3\n",
        "  col = idx - 3*row\n",
        "  plt.imshow(img[row,col,:,:,:].permute(1,2,0).detach().cpu().numpy())\n",
        "  text = \"mask\" if col==0 else (\"predicted\" if col==1 else \"image\")\n",
        "  plt.title(text)\n",
        "  plt.grid(False)\n",
        "  plt.axis('off')"
      ]
    },
    {
      "cell_type": "markdown",
      "metadata": {
        "id": "So3vIcvS7wr_"
      },
      "source": [
        "# Fine-tuning a pre-trained ViT model"
      ]
    },
    {
      "cell_type": "markdown",
      "metadata": {
        "id": "M0c4-Bg8EOCY"
      },
      "source": [
        "Now that we have pretrained a ViT encoder using Masked Auto-Encoding, we will fine-tune it specifically for the task of object recognition (classification) on the CIFAR-10 dataset.\n",
        "\n",
        "Training the same model *from scratch* for this task, for up to 20 epochs, typically yields a test performance below 60% accuracy with clear signs of overfitting (you can also try it for yourself). Let's see if we can do better, in 5 epochs of fine-tuning, if we start from the MAE pretrained weights."
      ]
    },
    {
      "cell_type": "markdown",
      "metadata": {
        "id": "rDK031kYafcx"
      },
      "source": [
        "<br>Firstly we will reuse two convenience functions from the previous lab:\n",
        "- to transform a class probability tensor to class labels\n",
        "- to compute the prediction accuracy from predicted and ground truth labels"
      ]
    },
    {
      "cell_type": "code",
      "execution_count": 60,
      "metadata": {
        "id": "WuMqpS9M2xsp"
      },
      "outputs": [],
      "source": [
        "def vector_to_class(x):\n",
        "  y = torch.argmax(F.softmax(x,dim=1),axis=1)\n",
        "  return y"
      ]
    },
    {
      "cell_type": "code",
      "execution_count": 61,
      "metadata": {
        "id": "wgXdu5xJ2y2E"
      },
      "outputs": [],
      "source": [
        "def prediction_accuracy(predict,labels):\n",
        "  accuracy = (predict == labels).sum()/(labels.shape[0])\n",
        "  return accuracy"
      ]
    },
    {
      "cell_type": "markdown",
      "metadata": {
        "id": "xj9jj01nBMA2"
      },
      "source": [
        "<br>We define the parameters for this fine-tuning step:"
      ]
    },
    {
      "cell_type": "code",
      "execution_count": 62,
      "metadata": {
        "id": "AnN1Uck7817z"
      },
      "outputs": [],
      "source": [
        "# Training parameters\n",
        "learning_rate = 1e-3\n",
        "weight_decay = 1e-2\n",
        "n_epochs = 5\n",
        "batch_size = 128\n",
        "\n",
        "# Model parameters\n",
        "num_classes = 10\n",
        "pool = 'mean' # you can use 'cls' instead"
      ]
    },
    {
      "cell_type": "code",
      "execution_count": 63,
      "metadata": {
        "id": "FLX42JYv_VQD"
      },
      "outputs": [],
      "source": [
        "cifar_train_loader = torch.utils.data.DataLoader(cifar_trainset, batch_size=batch_size, shuffle=True)\n",
        "cifar_test_loader = torch.utils.data.DataLoader(cifar_testset, batch_size=batch_size, shuffle=False)"
      ]
    },
    {
      "cell_type": "markdown",
      "metadata": {
        "id": "I0ACZkTFW1-7"
      },
      "source": [
        "<br>Now, we instantiate a ViT model with the desired parameters, with the pretrained weights of the MAE pre-training:"
      ]
    },
    {
      "cell_type": "code",
      "execution_count": 64,
      "metadata": {
        "id": "RmbX6oq0W1-7"
      },
      "outputs": [],
      "source": [
        "# Define the ViT model (to be fine-tuned) with the correct arguments:\n",
        "cifar_model_ft = ViT_Classifier(model.encoder, num_classes=10, pool='cls')"
      ]
    },
    {
      "cell_type": "code",
      "execution_count": 65,
      "metadata": {
        "id": "hbVS5rObA34x"
      },
      "outputs": [],
      "source": [
        "cifar_model_ft = cifar_model_ft.to(device)"
      ]
    },
    {
      "cell_type": "markdown",
      "metadata": {
        "id": "KUmQKIEe8_QU"
      },
      "source": [
        "<br>Now, we carry out training on the CIFAR10 dataset."
      ]
    },
    {
      "cell_type": "code",
      "execution_count": 66,
      "metadata": {
        "id": "LA4Tke1vZECT"
      },
      "outputs": [],
      "source": [
        "criterion = torch.nn.CrossEntropyLoss(reduction='sum')\n",
        "optimizer = torch.optim.AdamW(cifar_model_ft.parameters(), lr = learning_rate, weight_decay = weight_decay)"
      ]
    },
    {
      "cell_type": "code",
      "execution_count": 67,
      "metadata": {
        "colab": {
          "base_uri": "https://localhost:8080/"
        },
        "id": "pyEwLnLR9gv0",
        "outputId": "6db3a7ee-f271-4ee5-c707-1529f5f0debb"
      },
      "outputs": [
        {
          "name": "stderr",
          "output_type": "stream",
          "text": [
            "Epoch 0: 100%|██████████| 391/391 [00:13<00:00, 29.10batch/s]\n"
          ]
        },
        {
          "name": "stdout",
          "output_type": "stream",
          "text": [
            "Epoch 0: Train Loss: 1.3823\n",
            "Epoch 0: Train Accuracy: 0.5007\n"
          ]
        },
        {
          "name": "stderr",
          "output_type": "stream",
          "text": [
            "Epoch 1: 100%|██████████| 391/391 [00:13<00:00, 28.09batch/s]\n"
          ]
        },
        {
          "name": "stdout",
          "output_type": "stream",
          "text": [
            "Epoch 1: Train Loss: 1.0436\n",
            "Epoch 1: Train Accuracy: 0.6220\n"
          ]
        },
        {
          "name": "stderr",
          "output_type": "stream",
          "text": [
            "Epoch 2: 100%|██████████| 391/391 [00:14<00:00, 27.82batch/s]\n"
          ]
        },
        {
          "name": "stdout",
          "output_type": "stream",
          "text": [
            "Epoch 2: Train Loss: 0.9382\n",
            "Epoch 2: Train Accuracy: 0.6644\n"
          ]
        },
        {
          "name": "stderr",
          "output_type": "stream",
          "text": [
            "Epoch 3: 100%|██████████| 391/391 [00:13<00:00, 29.03batch/s]\n"
          ]
        },
        {
          "name": "stdout",
          "output_type": "stream",
          "text": [
            "Epoch 3: Train Loss: 0.8679\n",
            "Epoch 3: Train Accuracy: 0.6886\n"
          ]
        },
        {
          "name": "stderr",
          "output_type": "stream",
          "text": [
            "Epoch 4: 100%|██████████| 391/391 [00:13<00:00, 28.27batch/s]\n"
          ]
        },
        {
          "name": "stdout",
          "output_type": "stream",
          "text": [
            "Epoch 4: Train Loss: 0.8166\n",
            "Epoch 4: Train Accuracy: 0.7069\n"
          ]
        }
      ],
      "source": [
        "cifar_model_ft.train()\n",
        "\n",
        "for epoch in range(0,n_epochs):\n",
        "  train_loss=0.0\n",
        "  all_labels = []\n",
        "  all_predicted = []\n",
        "\n",
        "  with tqdm(cifar_train_loader, unit=\"batch\") as tepoch:\n",
        "    for imgs, labels in tepoch:\n",
        "      tepoch.set_description(f\"Epoch {epoch}\")\n",
        "\n",
        "      # Put data on device\n",
        "      imgs = imgs.to(device)\n",
        "      labels = labels.to(device)\n",
        "\n",
        "      # BEGIN STUDENT CODE: forward and backward passes\n",
        "      optimizer.zero_grad()\n",
        "      predict = cifar_model_ft(imgs) # predicted logits\n",
        "      loss = criterion(predict, labels)\n",
        "      loss.backward()\n",
        "      optimizer.step()\n",
        "      # END STUDENT CODE\n",
        "\n",
        "      # Compute the loss\n",
        "      train_loss += loss.item()\n",
        "      # Store labels and class predictions\n",
        "      all_labels.extend(labels.tolist())\n",
        "      all_predicted.extend(vector_to_class(predict).tolist())\n",
        "\n",
        "  print('Epoch {}: Train Loss: {:.4f}'.format(epoch, train_loss/len(cifar_train_loader.dataset)))\n",
        "  print('Epoch {}: Train Accuracy: {:.4f}'.format(epoch, prediction_accuracy(np.array(all_predicted),np.array(all_labels))))"
      ]
    },
    {
      "cell_type": "markdown",
      "metadata": {
        "id": "s1MCXQIcZYF5"
      },
      "source": [
        "<br>Let's compute the test accuracy, and check that it is indeed a lot better than training from scratch (<60%)!"
      ]
    },
    {
      "cell_type": "code",
      "execution_count": 68,
      "metadata": {
        "colab": {
          "base_uri": "https://localhost:8080/"
        },
        "id": "a8VvPS8WQ92b",
        "outputId": "38d52c66-72f3-47e8-e470-e5e0ea7e9547"
      },
      "outputs": [
        {
          "name": "stderr",
          "output_type": "stream",
          "text": [
            "100%|██████████| 79/79 [00:01<00:00, 48.09batch/s]"
          ]
        },
        {
          "name": "stdout",
          "output_type": "stream",
          "text": [
            "\n",
            "Test Accuracy: 0.6858\n"
          ]
        },
        {
          "name": "stderr",
          "output_type": "stream",
          "text": [
            "\n"
          ]
        }
      ],
      "source": [
        "cifar_model_ft.eval()\n",
        "\n",
        "all_predicted = []\n",
        "all_labels = []\n",
        "\n",
        "with tqdm(cifar_test_loader, unit=\"batch\") as tepoch:\n",
        "  for imgs, labels in tepoch:\n",
        "    all_labels.extend(labels.tolist())\n",
        "\n",
        "    imgs = imgs.to(device)\n",
        "    predict=cifar_model_ft(imgs)\n",
        "    all_predicted.extend(vector_to_class(predict).tolist())\n",
        "\n",
        "test_accuracy = prediction_accuracy(np.array(all_predicted),np.array(all_labels))\n",
        "\n",
        "print(\"\\nTest Accuracy:\", test_accuracy)"
      ]
    },
    {
      "cell_type": "markdown",
      "metadata": {
        "id": "vLFpuasOBWcv"
      },
      "source": [
        "## Linear-Probing"
      ]
    },
    {
      "cell_type": "markdown",
      "metadata": {
        "id": "MDE62z0BZE3n"
      },
      "source": [
        "In the previous section, we have allowed all parameters of the ViT to be further fine-tuned given supervised data.\n",
        "\n",
        "Linear-probing is an alternative to fine-tuning. In linear-probing, most of the parameters of the transformer backbone are frozen after pre-training. The only parameters that are still trainable are those of the linear classification head. In linear-probing, the learnt model is essentially a linear classifier that takes as features a pretrained deep representation.\n",
        "\n",
        "<br>Linear probing often provides poorer results than fine-tuning (but for a smaller computational budget). This will be true in particular when doing MAE pre-training. Let's verify this."
      ]
    },
    {
      "cell_type": "code",
      "execution_count": 69,
      "metadata": {
        "id": "k4oGFae7DxJI"
      },
      "outputs": [],
      "source": [
        "# Training parameters\n",
        "learning_rate = 1e-3\n",
        "weight_decay = 1e-2\n",
        "n_epochs = 5\n",
        "batch_size = 128\n",
        "\n",
        "# Model parameters\n",
        "num_classes = 10\n",
        "pool = 'mean'"
      ]
    },
    {
      "cell_type": "code",
      "execution_count": 70,
      "metadata": {
        "id": "PwZSOZdgTTAI"
      },
      "outputs": [],
      "source": [
        "cifar_train_loader = torch.utils.data.DataLoader(cifar_trainset, batch_size=batch_size, shuffle=True)\n",
        "cifar_test_loader = torch.utils.data.DataLoader(cifar_testset, batch_size=batch_size, shuffle=False)"
      ]
    },
    {
      "cell_type": "code",
      "execution_count": 71,
      "metadata": {
        "id": "6NtyvkxUrB43"
      },
      "outputs": [],
      "source": [
        "cifar_model_lp = ViT_Classifier(model.encoder, num_classes=10, pool='cls')"
      ]
    },
    {
      "cell_type": "code",
      "execution_count": 72,
      "metadata": {
        "id": "4tF4sSOJCCLl"
      },
      "outputs": [],
      "source": [
        "cifar_model_lp = cifar_model_lp.to(device)"
      ]
    },
    {
      "cell_type": "markdown",
      "metadata": {
        "id": "jWWaGGaUlD8z"
      },
      "source": [
        "<br>Training proceeds similarly to the fine-tuning case, except only the parameters of the ViT `head` should be trained. You can copy-paste the code from the previous section and adapt it. In particular, you should use the `detach=True` argument in the forward call to the model, so that the transformer encoder's parameters (except the classification head) are not backpropagated to."
      ]
    },
    {
      "cell_type": "code",
      "execution_count": 73,
      "metadata": {
        "id": "vdLqMtmNBgwM"
      },
      "outputs": [],
      "source": [
        "criterion = torch.nn.CrossEntropyLoss(reduction='sum')\n",
        "optimizer = torch.optim.AdamW(cifar_model_lp.parameters(), lr = learning_rate, weight_decay = weight_decay)"
      ]
    },
    {
      "cell_type": "code",
      "execution_count": 45,
      "metadata": {
        "colab": {
          "base_uri": "https://localhost:8080/"
        },
        "id": "NdVWCp7HBoDE",
        "outputId": "5d30132b-83ef-4865-d274-6f32208b05d2"
      },
      "outputs": [
        {
          "name": "stderr",
          "output_type": "stream",
          "text": [
            "Epoch 0: 100%|██████████| 391/391 [00:12<00:00, 30.08batch/s]\n"
          ]
        },
        {
          "name": "stdout",
          "output_type": "stream",
          "text": [
            "Epoch 0: Train Loss: 2.0006\n",
            "Epoch 0: Train Accuracy: 0.2890\n"
          ]
        },
        {
          "name": "stderr",
          "output_type": "stream",
          "text": [
            "Epoch 1: 100%|██████████| 391/391 [00:11<00:00, 34.31batch/s]\n"
          ]
        },
        {
          "name": "stdout",
          "output_type": "stream",
          "text": [
            "Epoch 1: Train Loss: 1.7817\n",
            "Epoch 1: Train Accuracy: 0.3629\n"
          ]
        },
        {
          "name": "stderr",
          "output_type": "stream",
          "text": [
            "Epoch 2: 100%|██████████| 391/391 [00:11<00:00, 34.56batch/s]\n"
          ]
        },
        {
          "name": "stdout",
          "output_type": "stream",
          "text": [
            "Epoch 2: Train Loss: 1.7161\n",
            "Epoch 2: Train Accuracy: 0.3805\n"
          ]
        },
        {
          "name": "stderr",
          "output_type": "stream",
          "text": [
            "Epoch 3: 100%|██████████| 391/391 [00:11<00:00, 32.97batch/s]\n"
          ]
        },
        {
          "name": "stdout",
          "output_type": "stream",
          "text": [
            "Epoch 3: Train Loss: 1.6790\n",
            "Epoch 3: Train Accuracy: 0.3930\n"
          ]
        },
        {
          "name": "stderr",
          "output_type": "stream",
          "text": [
            "Epoch 4: 100%|██████████| 391/391 [00:11<00:00, 34.58batch/s]"
          ]
        },
        {
          "name": "stdout",
          "output_type": "stream",
          "text": [
            "Epoch 4: Train Loss: 1.6540\n",
            "Epoch 4: Train Accuracy: 0.4026\n"
          ]
        },
        {
          "name": "stderr",
          "output_type": "stream",
          "text": [
            "\n"
          ]
        }
      ],
      "source": [
        "# Training:\n",
        "\n",
        "cifar_model_lp.train()\n",
        "\n",
        "for epoch in range(0,n_epochs):\n",
        "  train_loss=0.0\n",
        "  all_labels = []\n",
        "  all_predicted = []\n",
        "\n",
        "  with tqdm(cifar_train_loader, unit=\"batch\") as tepoch:\n",
        "    for imgs, labels in tepoch:\n",
        "      tepoch.set_description(f\"Epoch {epoch}\")\n",
        "\n",
        "      # Put data on device\n",
        "      imgs = imgs.to(device)\n",
        "      labels = labels.to(device)\n",
        "\n",
        "      # BEGIN STUDENT CODE: forward and backward passes\n",
        "      optimizer.zero_grad()\n",
        "      predict = cifar_model_lp(imgs, detach = True) # predicted logits\n",
        "      loss = criterion(predict, labels)\n",
        "      loss.backward()\n",
        "      optimizer.step()\n",
        "      # END STUDENT CODE\n",
        "\n",
        "      # Compute the loss\n",
        "      train_loss += loss.item()\n",
        "      # Store labels and class predictions\n",
        "      all_labels.extend(labels.tolist())\n",
        "      all_predicted.extend(vector_to_class(predict).tolist())\n",
        "\n",
        "  print('Epoch {}: Train Loss: {:.4f}'.format(epoch, train_loss/len(cifar_train_loader.dataset)))\n",
        "  print('Epoch {}: Train Accuracy: {:.4f}'.format(epoch, prediction_accuracy(np.array(all_predicted),np.array(all_labels))))"
      ]
    },
    {
      "cell_type": "markdown",
      "metadata": {
        "id": "--1_eGNdllpS"
      },
      "source": [
        "<br>Compute the accuracy on the test dataset like before:"
      ]
    },
    {
      "cell_type": "code",
      "execution_count": 46,
      "metadata": {
        "colab": {
          "base_uri": "https://localhost:8080/"
        },
        "id": "3nXoFk9tDf3G",
        "outputId": "0d28da26-6407-4430-c86d-5c130749ca74"
      },
      "outputs": [
        {
          "name": "stderr",
          "output_type": "stream",
          "text": [
            "100%|██████████| 79/79 [00:01<00:00, 39.67batch/s]"
          ]
        },
        {
          "name": "stdout",
          "output_type": "stream",
          "text": [
            "\n",
            "Test Accuracy: 0.4094\n"
          ]
        },
        {
          "name": "stderr",
          "output_type": "stream",
          "text": [
            "\n"
          ]
        }
      ],
      "source": [
        "cifar_model_lp.eval()\n",
        "\n",
        "all_predicted = []\n",
        "all_labels = []\n",
        "\n",
        "with tqdm(cifar_test_loader, unit=\"batch\") as tepoch:\n",
        "  for imgs, labels in tepoch:\n",
        "    all_labels.extend(labels.tolist())\n",
        "\n",
        "    imgs = imgs.to(device)\n",
        "    predict=cifar_model_lp(imgs)\n",
        "    all_predicted.extend(vector_to_class(predict).tolist())\n",
        "\n",
        "test_accuracy = prediction_accuracy(np.array(all_predicted),np.array(all_labels))\n",
        "\n",
        "print(\"\\nTest Accuracy:\", test_accuracy)"
      ]
    },
    {
      "cell_type": "markdown",
      "metadata": {
        "id": "PYFvJIJme2rX"
      },
      "source": [
        "We lost more than 20 points of accuracy. Still, the performance remains reasonable for a 10 class problem considering that we essentially trained a linear model.\n",
        "\n",
        "MAEs with larger decoder depth typically perform a bit better in linear-probing than MAE models with shallow decoders. Still, MAE is often not the strongest self-supervised learning approach to use in combination with linear-probing.\n",
        "\n",
        "<br>Nevertheless, it goes without saying that with a higher computational budget, a deeper/wider ViT, and proper use of data augmentation and regularization, much better results can be achieved on this CIFAR-10 dataset exactly with the type of method that we have seen today!"
      ]
    }
  ],
  "metadata": {
    "accelerator": "GPU",
    "colab": {
      "gpuType": "T4",
      "provenance": []
    },
    "kernelspec": {
      "display_name": "Python 3",
      "name": "python3"
    },
    "language_info": {
      "codemirror_mode": {
        "name": "ipython",
        "version": 3
      },
      "file_extension": ".py",
      "mimetype": "text/x-python",
      "name": "python",
      "nbconvert_exporter": "python",
      "pygments_lexer": "ipython3",
      "version": "3.9.12"
    }
  },
  "nbformat": 4,
  "nbformat_minor": 0
}
