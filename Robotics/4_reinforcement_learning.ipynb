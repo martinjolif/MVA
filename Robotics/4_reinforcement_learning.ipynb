{
 "cells": [
  {
   "cell_type": "markdown",
   "id": "589389e6-2aad-45b6-bc03-e9b37ab1514f",
   "metadata": {},
   "source": [
    "# Reinforcement learning for legged robots"
   ]
  },
  {
   "cell_type": "code",
   "execution_count": 1,
   "id": "b3fa7b15-843f-4696-9bfc-141da71bf7d1",
   "metadata": {
    "ExecuteTime": {
     "end_time": "2024-11-27T16:35:07.801743Z",
     "start_time": "2024-11-27T16:35:02.446138Z"
    }
   },
   "outputs": [],
   "source": [
    "import gymnasium as gym\n",
    "import stable_baselines3\n",
    "from stable_baselines3 import PPO"
   ]
  },
  {
   "cell_type": "markdown",
   "id": "8e264559-88cc-48b7-8257-f7755fff3ce7",
   "metadata": {},
   "source": [
    "Let's import the usual suspects as well:"
   ]
  },
  {
   "cell_type": "code",
   "execution_count": 2,
   "id": "86303cf2-f879-407d-b528-6c0a80b8df20",
   "metadata": {
    "ExecuteTime": {
     "end_time": "2024-11-27T16:35:10.182673Z",
     "start_time": "2024-11-27T16:35:10.064434Z"
    }
   },
   "outputs": [
    {
     "data": {
      "text/plain": [
       "<contextlib.ExitStack at 0x11075d990>"
      ]
     },
     "execution_count": 2,
     "metadata": {},
     "output_type": "execute_result"
    }
   ],
   "source": [
    "import matplotlib.pylab as plt\n",
    "import numpy as np\n",
    "\n",
    "plt.ion()"
   ]
  },
  {
   "cell_type": "markdown",
   "id": "b09e16a1-bf4a-403b-8709-3da11bc3c4b4",
   "metadata": {},
   "source": [
    "# Inverted pendulum environment\n",
    "\n",
    "The inverted pendulum model is not just a toy model reproducing the properties of real robot models for balancing: as it turns out, the inverted pendulum appears in the dynamics of *any* mobile robot, that is, a model with a floating-base joint at the root of the kinematic tree. (If you are curious: the inverted pendulum is a limit case of the [Newton-Euler equations](https://scaron.info/robotics/newton-euler-equations.html) corresponding to floating-base coordinates in the equations of motion $M \\ddot{q} + h = S^T \\tau + J_c^T f$, in the limit where the robot [does not vary its angular momentum](https://scaron.info/robotics/point-mass-model.html).) Thus, while we work on a simplified inverted pendulum in this notebook, concepts and tools are those used as-is on real robots, as you can verify by exploring the bonus section.\n",
    "\n",
    "Gymnasium is mainly a single-agent reinforcement learning API, but it also comes with simple environments, including an inverted pendulum sliding on a linear guide:"
   ]
  },
  {
   "cell_type": "code",
   "execution_count": 3,
   "id": "11b5d942-85fa-435e-b5ef-8c85a74ba3db",
   "metadata": {
    "ExecuteTime": {
     "end_time": "2024-11-27T16:35:14.921839Z",
     "start_time": "2024-11-27T16:35:11.678778Z"
    }
   },
   "outputs": [
    {
     "name": "stderr",
     "output_type": "stream",
     "text": [
      "2024-11-27 17:35:12.189 python[1091:14015] +[IMKClient subclass]: chose IMKClient_Modern\n",
      "2024-11-27 17:35:12.189 python[1091:14015] +[IMKInputSession subclass]: chose IMKInputSession_Modern\n"
     ]
    },
    {
     "name": "stdout",
     "output_type": "stream",
     "text": [
      "Return of the episode: 200.0\n"
     ]
    }
   ],
   "source": [
    "with gym.make(\"InvertedPendulum-v4\", render_mode=\"human\") as env:\n",
    "    action = 0.0 * env.action_space.sample()\n",
    "    observation, _ = env.reset()\n",
    "    episode_return = 0.0\n",
    "    for step in range(200):\n",
    "        # action[0] = 5.0 * observation[1] + 0.3 * observation[0]\n",
    "        observation, reward, terminated, truncated, _ = env.step(action)\n",
    "        episode_return += reward\n",
    "        if terminated or truncated:\n",
    "            observation, _ = env.reset()\n",
    "    print(f\"Return of the episode: {episode_return}\")"
   ]
  },
  {
   "cell_type": "markdown",
   "id": "d7322422-94db-4e12-b299-36bb40649cf7",
   "metadata": {},
   "source": [
    "The structure of the action and observation vectors are documented in [Inverted Pendulum - Gymnasium Documentation](https://gymnasium.farama.org/environments/mujoco/inverted_pendulum/).  The observation, in particular, is a NumPy array with four coordinates that we recall here for reference:\n",
    "\n",
    "| Num | Observation | Min | Max | Unit |\n",
    "|-----|-------------|-----|-----|------|\n",
    "|   0 | position of the cart along the linear surface | -Inf | Inf | position (m) |\n",
    "|   1 | vertical angle of the pole on the cart | -Inf | Inf | angle (rad) |\n",
    "|   2 | linear velocity of the cart | -Inf | Inf | linear velocity (m/s) |\n",
    "|   3 | angular velocity of the pole on the cart | -Inf | Inf | anglular velocity (rad/s) |\n",
    "\n",
    "We will use the following labels to annotate plots:"
   ]
  },
  {
   "cell_type": "code",
   "execution_count": 4,
   "id": "a3231c70-f49d-49be-b260-aadbade7b403",
   "metadata": {
    "ExecuteTime": {
     "end_time": "2024-11-27T16:35:18.823390Z",
     "start_time": "2024-11-27T16:35:18.820991Z"
    }
   },
   "outputs": [],
   "source": [
    "OBSERVATION_LEGEND = (\"pitch\", \"position\", \"linear_velocity\", \"angular_velocity\")"
   ]
  },
  {
   "cell_type": "markdown",
   "id": "aa062536-204c-4312-a858-f992f3db61d6",
   "metadata": {},
   "source": [
    "Check out the documentation for the definitions of the action and rewards."
   ]
  },
  {
   "cell_type": "markdown",
   "id": "c285d7ce-3a97-4b07-8b5f-a9b04d7721ab",
   "metadata": {},
   "source": [
    "# PID control\n",
    "\n",
    "A *massively* used class of policies is the [PID controller](https://en.wikipedia.org/wiki/Proportional%E2%80%93integral%E2%80%93derivative_controller). Let's say we have a reference observation, like $o^* = [0\\ 0\\ 0\\ 0]$ for the inverted pendulum. Denoting by $e(t) = o^* - o(t)$ the *error* of the system when it observes a given state, a continuous-time PID controller will apply the action:\n",
    "\n",
    "$$\n",
    "a(t) = K_p^T e(t) + K_d^T \\dot{e}(t) + K_i^T \\int e(\\tau) \\mathrm{d} \\tau\n",
    "$$\n",
    "\n",
    "where $K_{p}, K_i, K_d \\in \\mathbb{R}^4$ are constants called *gains* and tuned by the user. In discrete time the idea is the same:\n",
    "\n",
    "$$\n",
    "a_k = K_p^T e_k + K_d^T \\frac{e_k - e_{k-1}}{\\delta t} + K_i^T \\sum_{i=0}^{k} e_i {\\delta t}\n",
    "$$\n",
    "\n",
    "Compared to the PD controller we tuned in the previous exercise, there is an additional integrator term in the PID controller. The I-term ensures that steady-state regulation (tracking a fixed reference) error is zero when there is a fixed disturbance. However, PID controller is also harder to stabilize than the PD controller can be dangerous in practice if unstable."
   ]
  },
  {
   "cell_type": "markdown",
   "id": "63c381eb-fca9-4ef4-8f99-3b1943231654",
   "metadata": {},
   "source": [
    "Let's refactor the rolling out of our episode into a standalone function:"
   ]
  },
  {
   "cell_type": "code",
   "execution_count": 5,
   "id": "9c839bc6-168a-42c3-8f1c-c6b0c5411901",
   "metadata": {
    "ExecuteTime": {
     "end_time": "2024-11-27T16:35:20.609720Z",
     "start_time": "2024-11-27T16:35:20.605568Z"
    }
   },
   "outputs": [],
   "source": [
    "def rollout_from_env(env, policy):\n",
    "    episode = []\n",
    "    observation, _ = env.reset()\n",
    "    episode.append(observation)\n",
    "    for step in range(1000):\n",
    "        action = policy(observation)\n",
    "        observation, reward, terminated, truncated, _ = env.step(action)\n",
    "        episode.extend([action, reward, observation])\n",
    "        if terminated or truncated:\n",
    "            return episode\n",
    "    return episode\n",
    "\n",
    "def rollout(policy, show: bool = True):\n",
    "    kwargs = {\"render_mode\": \"human\"} if show else {}\n",
    "    with gym.make(\"InvertedPendulum-v4\", **kwargs) as env:\n",
    "        episode = rollout_from_env(env, policy)\n",
    "    return episode"
   ]
  },
  {
   "cell_type": "markdown",
   "id": "79ff0dce-a4df-4917-bb17-2393353610a3",
   "metadata": {},
   "source": [
    "## Question 1: Write a PID controller that balances the inverted pendulum"
   ]
  },
  {
   "cell_type": "markdown",
   "id": "e7cfb28b-ff73-42ff-9524-eac8ec12f8a1",
   "metadata": {},
   "source": [
    "You can use global variables to store the (discrete) derivative and integral terms, this will be OK here as we only rollout a single trajectory:"
   ]
  },
  {
   "cell_type": "code",
   "execution_count": 9,
   "id": "045ddcef-c0f7-4251-b73f-d5df5a0027e5",
   "metadata": {
    "ExecuteTime": {
     "end_time": "2024-11-27T16:35:33.373509Z",
     "start_time": "2024-11-27T16:35:33.365888Z"
    }
   },
   "outputs": [],
   "source": [
    "o_star = np.array([0, 0, 0, 0])\n",
    "error = []\n",
    "derivative_error = []\n",
    "integral_error = []\n",
    "dt = 1/1000\n",
    "Kp = np.array([10, 10, 2, 1])\n",
    "Kd = np.array([5, 5, 3.08792896, -0.77075094])\n",
    "Ki = np.array([500, 500, 100,  50])\n",
    "\n",
    "\n",
    "\n",
    "def pid_policy(observation: np.ndarray) -> np.ndarray:\n",
    "    if not error: #check if the list is empty\n",
    "        error.append(o_star - observation)\n",
    "        derivative_error.append(error[-1]/dt)\n",
    "        integral_error.append(np.array([0, 0, 0, 0]))\n",
    "    else:\n",
    "        error.append(o_star - observation)\n",
    "        derivative_error.append((error[-1] - error[-2])/dt)\n",
    "        integral_error.append(integral_error[-1] + error[-1]*dt)\n",
    "    \n",
    "    action_PID_controler = Kp.T @ error[-1] + Kd.T @ derivative_error[-1] + Ki.T @ integral_error[-1]\n",
    "    my_action_value: float = action_PID_controler # your action here\n",
    "    return np.array([my_action_value])\n",
    "\n",
    "episode = rollout(pid_policy, show=False)"
   ]
  },
  {
   "cell_type": "markdown",
   "id": "a0a005aa-87fa-4f98-8ace-f24421886bed",
   "metadata": {},
   "source": [
    "You can look at the system using `show=True`, but intuition usually builds faster when looking at relevant plots:"
   ]
  },
  {
   "cell_type": "code",
   "execution_count": 10,
   "id": "9aa5decd-779c-4f0d-84fd-3eb47358b7fa",
   "metadata": {
    "ExecuteTime": {
     "end_time": "2024-11-27T16:35:35.017502Z",
     "start_time": "2024-11-27T16:35:34.952050Z"
    }
   },
   "outputs": [
    {
     "data": {
      "text/plain": [
       "<matplotlib.legend.Legend at 0x3026b64d0>"
      ]
     },
     "execution_count": 10,
     "metadata": {},
     "output_type": "execute_result"
    },
    {
     "data": {
      "image/png": "[encoded data removed]",
      "text/plain": [
       "<Figure size 640x480 with 1 Axes>"
      ]
     },
     "metadata": {},
     "output_type": "display_data"
    }
   ],
   "source": [
    "observations = np.array(episode[::3])\n",
    "\n",
    "plt.plot(observations)\n",
    "plt.legend(OBSERVATION_LEGEND)"
   ]
  },
  {
   "cell_type": "markdown",
   "id": "98d50cd2-26fa-4d3c-a671-1ed0e1b9ee93",
   "metadata": {},
   "source": [
    "Can you reach the full reward of 1000 steps?"
   ]
  },
  {
   "cell_type": "markdown",
   "id": "e30846a817e5bd9d",
   "metadata": {},
   "source": [
    "I personally only reach the fifth episode which is very low compared to 1000 episode in the case of a successful controller. We can maybe do better in choosing better parameters for Kp, Kd and Ki, however, I think that it will still be far from 1000 episode."
   ]
  },
  {
   "cell_type": "code",
   "execution_count": 11,
   "id": "8bacbd0a-2ac5-44cf-848b-8ebfb6fe35d7",
   "metadata": {
    "ExecuteTime": {
     "end_time": "2024-11-27T16:35:37.379001Z",
     "start_time": "2024-11-27T16:35:37.376367Z"
    }
   },
   "outputs": [
    {
     "name": "stdout",
     "output_type": "stream",
     "text": [
      "Return of the episode: 5.0\n"
     ]
    }
   ],
   "source": [
    "print(f\"Return of the episode: {sum(episode[2::3])}\")"
   ]
  },
  {
   "cell_type": "markdown",
   "id": "b17cc998-1b23-416f-8e3b-810100c223fb",
   "metadata": {},
   "source": [
    "# Policy optimization\n",
    "\n",
    "Let us now train a policy, parameterized by a multilayer perceptron (MLP), to maximize the expected return over episodes on the inverted pendulum environment."
   ]
  },
  {
   "cell_type": "markdown",
   "id": "d5631f0f-1b84-4ee6-8e9c-b4f2915bd281",
   "metadata": {},
   "source": [
    "## Our very first policy\n",
    "\n",
    "We will use the proximal policy optimization (PPO) algorithm for training, using the implementation from Stable Baselines3: [PPO - Stable Baselines3 documentation](https://stable-baselines3.readthedocs.io/en/master/modules/ppo.html)."
   ]
  },
  {
   "cell_type": "code",
   "execution_count": 8,
   "id": "128867ca-e600-4ba1-abbd-1f918976fba2",
   "metadata": {
    "ExecuteTime": {
     "end_time": "2024-11-27T16:21:28.054998Z",
     "start_time": "2024-11-27T16:21:09.414556Z"
    }
   },
   "outputs": [
    {
     "name": "stderr",
     "output_type": "stream",
     "text": [
      "2024-11-27 17:21:09.856 python[11970:808162] +[IMKClient subclass]: chose IMKClient_Modern\n",
      "2024-11-27 17:21:09.856 python[11970:808162] +[IMKInputSession subclass]: chose IMKInputSession_Modern\n"
     ]
    },
    {
     "ename": "KeyboardInterrupt",
     "evalue": "",
     "output_type": "error",
     "traceback": [
      "\u001b[0;31m---------------------------------------------------------------------------\u001b[0m",
      "\u001b[0;31mKeyboardInterrupt\u001b[0m                         Traceback (most recent call last)",
      "Cell \u001b[0;32mIn[8], line 5\u001b[0m\n\u001b[1;32m      3\u001b[0m \u001b[38;5;28;01mwith\u001b[39;00m gym\u001b[38;5;241m.\u001b[39mmake(\u001b[38;5;124m\"\u001b[39m\u001b[38;5;124mInvertedPendulum-v4\u001b[39m\u001b[38;5;124m\"\u001b[39m, render_mode\u001b[38;5;241m=\u001b[39m\u001b[38;5;124m\"\u001b[39m\u001b[38;5;124mhuman\u001b[39m\u001b[38;5;124m\"\u001b[39m) \u001b[38;5;28;01mas\u001b[39;00m env:\n\u001b[1;32m      4\u001b[0m     first_policy \u001b[38;5;241m=\u001b[39m PPO(\u001b[38;5;124m\"\u001b[39m\u001b[38;5;124mMlpPolicy\u001b[39m\u001b[38;5;124m\"\u001b[39m, env, verbose\u001b[38;5;241m=\u001b[39m\u001b[38;5;241m0\u001b[39m)\n\u001b[0;32m----> 5\u001b[0m     \u001b[43mfirst_policy\u001b[49m\u001b[38;5;241;43m.\u001b[39;49m\u001b[43mlearn\u001b[49m\u001b[43m(\u001b[49m\u001b[43mtotal_timesteps\u001b[49m\u001b[38;5;241;43m=\u001b[39;49m\u001b[38;5;241;43m1000\u001b[39;49m\u001b[43m,\u001b[49m\u001b[43m \u001b[49m\u001b[43mprogress_bar\u001b[49m\u001b[38;5;241;43m=\u001b[39;49m\u001b[38;5;28;43;01mFalse\u001b[39;49;00m\u001b[43m)\u001b[49m\n",
      "File \u001b[0;32m/opt/anaconda3/envs/2024_mva_robotics_exercises/lib/python3.10/site-packages/stable_baselines3/ppo/ppo.py:315\u001b[0m, in \u001b[0;36mPPO.learn\u001b[0;34m(self, total_timesteps, callback, log_interval, tb_log_name, reset_num_timesteps, progress_bar)\u001b[0m\n\u001b[1;32m    306\u001b[0m \u001b[38;5;28;01mdef\u001b[39;00m \u001b[38;5;21mlearn\u001b[39m(\n\u001b[1;32m    307\u001b[0m     \u001b[38;5;28mself\u001b[39m: SelfPPO,\n\u001b[1;32m    308\u001b[0m     total_timesteps: \u001b[38;5;28mint\u001b[39m,\n\u001b[0;32m   (...)\u001b[0m\n\u001b[1;32m    313\u001b[0m     progress_bar: \u001b[38;5;28mbool\u001b[39m \u001b[38;5;241m=\u001b[39m \u001b[38;5;28;01mFalse\u001b[39;00m,\n\u001b[1;32m    314\u001b[0m ) \u001b[38;5;241m-\u001b[39m\u001b[38;5;241m>\u001b[39m SelfPPO:\n\u001b[0;32m--> 315\u001b[0m     \u001b[38;5;28;01mreturn\u001b[39;00m \u001b[38;5;28;43msuper\u001b[39;49m\u001b[43m(\u001b[49m\u001b[43m)\u001b[49m\u001b[38;5;241;43m.\u001b[39;49m\u001b[43mlearn\u001b[49m\u001b[43m(\u001b[49m\n\u001b[1;32m    316\u001b[0m \u001b[43m        \u001b[49m\u001b[43mtotal_timesteps\u001b[49m\u001b[38;5;241;43m=\u001b[39;49m\u001b[43mtotal_timesteps\u001b[49m\u001b[43m,\u001b[49m\n\u001b[1;32m    317\u001b[0m \u001b[43m        \u001b[49m\u001b[43mcallback\u001b[49m\u001b[38;5;241;43m=\u001b[39;49m\u001b[43mcallback\u001b[49m\u001b[43m,\u001b[49m\n\u001b[1;32m    318\u001b[0m \u001b[43m        \u001b[49m\u001b[43mlog_interval\u001b[49m\u001b[38;5;241;43m=\u001b[39;49m\u001b[43mlog_interval\u001b[49m\u001b[43m,\u001b[49m\n\u001b[1;32m    319\u001b[0m \u001b[43m        \u001b[49m\u001b[43mtb_log_name\u001b[49m\u001b[38;5;241;43m=\u001b[39;49m\u001b[43mtb_log_name\u001b[49m\u001b[43m,\u001b[49m\n\u001b[1;32m    320\u001b[0m \u001b[43m        \u001b[49m\u001b[43mreset_num_timesteps\u001b[49m\u001b[38;5;241;43m=\u001b[39;49m\u001b[43mreset_num_timesteps\u001b[49m\u001b[43m,\u001b[49m\n\u001b[1;32m    321\u001b[0m \u001b[43m        \u001b[49m\u001b[43mprogress_bar\u001b[49m\u001b[38;5;241;43m=\u001b[39;49m\u001b[43mprogress_bar\u001b[49m\u001b[43m,\u001b[49m\n\u001b[1;32m    322\u001b[0m \u001b[43m    \u001b[49m\u001b[43m)\u001b[49m\n",
      "File \u001b[0;32m/opt/anaconda3/envs/2024_mva_robotics_exercises/lib/python3.10/site-packages/stable_baselines3/common/on_policy_algorithm.py:300\u001b[0m, in \u001b[0;36mOnPolicyAlgorithm.learn\u001b[0;34m(self, total_timesteps, callback, log_interval, tb_log_name, reset_num_timesteps, progress_bar)\u001b[0m\n\u001b[1;32m    297\u001b[0m \u001b[38;5;28;01massert\u001b[39;00m \u001b[38;5;28mself\u001b[39m\u001b[38;5;241m.\u001b[39menv \u001b[38;5;129;01mis\u001b[39;00m \u001b[38;5;129;01mnot\u001b[39;00m \u001b[38;5;28;01mNone\u001b[39;00m\n\u001b[1;32m    299\u001b[0m \u001b[38;5;28;01mwhile\u001b[39;00m \u001b[38;5;28mself\u001b[39m\u001b[38;5;241m.\u001b[39mnum_timesteps \u001b[38;5;241m<\u001b[39m total_timesteps:\n\u001b[0;32m--> 300\u001b[0m     continue_training \u001b[38;5;241m=\u001b[39m \u001b[38;5;28;43mself\u001b[39;49m\u001b[38;5;241;43m.\u001b[39;49m\u001b[43mcollect_rollouts\u001b[49m\u001b[43m(\u001b[49m\u001b[38;5;28;43mself\u001b[39;49m\u001b[38;5;241;43m.\u001b[39;49m\u001b[43menv\u001b[49m\u001b[43m,\u001b[49m\u001b[43m \u001b[49m\u001b[43mcallback\u001b[49m\u001b[43m,\u001b[49m\u001b[43m \u001b[49m\u001b[38;5;28;43mself\u001b[39;49m\u001b[38;5;241;43m.\u001b[39;49m\u001b[43mrollout_buffer\u001b[49m\u001b[43m,\u001b[49m\u001b[43m \u001b[49m\u001b[43mn_rollout_steps\u001b[49m\u001b[38;5;241;43m=\u001b[39;49m\u001b[38;5;28;43mself\u001b[39;49m\u001b[38;5;241;43m.\u001b[39;49m\u001b[43mn_steps\u001b[49m\u001b[43m)\u001b[49m\n\u001b[1;32m    302\u001b[0m     \u001b[38;5;28;01mif\u001b[39;00m \u001b[38;5;129;01mnot\u001b[39;00m continue_training:\n\u001b[1;32m    303\u001b[0m         \u001b[38;5;28;01mbreak\u001b[39;00m\n",
      "File \u001b[0;32m/opt/anaconda3/envs/2024_mva_robotics_exercises/lib/python3.10/site-packages/stable_baselines3/common/on_policy_algorithm.py:195\u001b[0m, in \u001b[0;36mOnPolicyAlgorithm.collect_rollouts\u001b[0;34m(self, env, callback, rollout_buffer, n_rollout_steps)\u001b[0m\n\u001b[1;32m    190\u001b[0m     \u001b[38;5;28;01melse\u001b[39;00m:\n\u001b[1;32m    191\u001b[0m         \u001b[38;5;66;03m# Otherwise, clip the actions to avoid out of bound error\u001b[39;00m\n\u001b[1;32m    192\u001b[0m         \u001b[38;5;66;03m# as we are sampling from an unbounded Gaussian distribution\u001b[39;00m\n\u001b[1;32m    193\u001b[0m         clipped_actions \u001b[38;5;241m=\u001b[39m np\u001b[38;5;241m.\u001b[39mclip(actions, \u001b[38;5;28mself\u001b[39m\u001b[38;5;241m.\u001b[39maction_space\u001b[38;5;241m.\u001b[39mlow, \u001b[38;5;28mself\u001b[39m\u001b[38;5;241m.\u001b[39maction_space\u001b[38;5;241m.\u001b[39mhigh)\n\u001b[0;32m--> 195\u001b[0m new_obs, rewards, dones, infos \u001b[38;5;241m=\u001b[39m \u001b[43menv\u001b[49m\u001b[38;5;241;43m.\u001b[39;49m\u001b[43mstep\u001b[49m\u001b[43m(\u001b[49m\u001b[43mclipped_actions\u001b[49m\u001b[43m)\u001b[49m\n\u001b[1;32m    197\u001b[0m \u001b[38;5;28mself\u001b[39m\u001b[38;5;241m.\u001b[39mnum_timesteps \u001b[38;5;241m+\u001b[39m\u001b[38;5;241m=\u001b[39m env\u001b[38;5;241m.\u001b[39mnum_envs\n\u001b[1;32m    199\u001b[0m \u001b[38;5;66;03m# Give access to local variables\u001b[39;00m\n",
      "File \u001b[0;32m/opt/anaconda3/envs/2024_mva_robotics_exercises/lib/python3.10/site-packages/stable_baselines3/common/vec_env/base_vec_env.py:206\u001b[0m, in \u001b[0;36mVecEnv.step\u001b[0;34m(self, actions)\u001b[0m\n\u001b[1;32m    199\u001b[0m \u001b[38;5;250m\u001b[39m\u001b[38;5;124;03m\"\"\"\u001b[39;00m\n\u001b[1;32m    200\u001b[0m \u001b[38;5;124;03mStep the environments with the given action\u001b[39;00m\n\u001b[1;32m    201\u001b[0m \n\u001b[1;32m    202\u001b[0m \u001b[38;5;124;03m:param actions: the action\u001b[39;00m\n\u001b[1;32m    203\u001b[0m \u001b[38;5;124;03m:return: observation, reward, done, information\u001b[39;00m\n\u001b[1;32m    204\u001b[0m \u001b[38;5;124;03m\"\"\"\u001b[39;00m\n\u001b[1;32m    205\u001b[0m \u001b[38;5;28mself\u001b[39m\u001b[38;5;241m.\u001b[39mstep_async(actions)\n\u001b[0;32m--> 206\u001b[0m \u001b[38;5;28;01mreturn\u001b[39;00m \u001b[38;5;28;43mself\u001b[39;49m\u001b[38;5;241;43m.\u001b[39;49m\u001b[43mstep_wait\u001b[49m\u001b[43m(\u001b[49m\u001b[43m)\u001b[49m\n",
      "File \u001b[0;32m/opt/anaconda3/envs/2024_mva_robotics_exercises/lib/python3.10/site-packages/stable_baselines3/common/vec_env/dummy_vec_env.py:58\u001b[0m, in \u001b[0;36mDummyVecEnv.step_wait\u001b[0;34m(self)\u001b[0m\n\u001b[1;32m     55\u001b[0m \u001b[38;5;28;01mdef\u001b[39;00m \u001b[38;5;21mstep_wait\u001b[39m(\u001b[38;5;28mself\u001b[39m) \u001b[38;5;241m-\u001b[39m\u001b[38;5;241m>\u001b[39m VecEnvStepReturn:\n\u001b[1;32m     56\u001b[0m     \u001b[38;5;66;03m# Avoid circular imports\u001b[39;00m\n\u001b[1;32m     57\u001b[0m     \u001b[38;5;28;01mfor\u001b[39;00m env_idx \u001b[38;5;129;01min\u001b[39;00m \u001b[38;5;28mrange\u001b[39m(\u001b[38;5;28mself\u001b[39m\u001b[38;5;241m.\u001b[39mnum_envs):\n\u001b[0;32m---> 58\u001b[0m         obs, \u001b[38;5;28mself\u001b[39m\u001b[38;5;241m.\u001b[39mbuf_rews[env_idx], terminated, truncated, \u001b[38;5;28mself\u001b[39m\u001b[38;5;241m.\u001b[39mbuf_infos[env_idx] \u001b[38;5;241m=\u001b[39m \u001b[38;5;28;43mself\u001b[39;49m\u001b[38;5;241;43m.\u001b[39;49m\u001b[43menvs\u001b[49m\u001b[43m[\u001b[49m\u001b[43menv_idx\u001b[49m\u001b[43m]\u001b[49m\u001b[38;5;241;43m.\u001b[39;49m\u001b[43mstep\u001b[49m\u001b[43m(\u001b[49m\n\u001b[1;32m     59\u001b[0m \u001b[43m            \u001b[49m\u001b[38;5;28;43mself\u001b[39;49m\u001b[38;5;241;43m.\u001b[39;49m\u001b[43mactions\u001b[49m\u001b[43m[\u001b[49m\u001b[43menv_idx\u001b[49m\u001b[43m]\u001b[49m\n\u001b[1;32m     60\u001b[0m \u001b[43m        \u001b[49m\u001b[43m)\u001b[49m\n\u001b[1;32m     61\u001b[0m         \u001b[38;5;66;03m# convert to SB3 VecEnv api\u001b[39;00m\n\u001b[1;32m     62\u001b[0m         \u001b[38;5;28mself\u001b[39m\u001b[38;5;241m.\u001b[39mbuf_dones[env_idx] \u001b[38;5;241m=\u001b[39m terminated \u001b[38;5;129;01mor\u001b[39;00m truncated\n",
      "File \u001b[0;32m/opt/anaconda3/envs/2024_mva_robotics_exercises/lib/python3.10/site-packages/stable_baselines3/common/monitor.py:94\u001b[0m, in \u001b[0;36mMonitor.step\u001b[0;34m(self, action)\u001b[0m\n\u001b[1;32m     92\u001b[0m \u001b[38;5;28;01mif\u001b[39;00m \u001b[38;5;28mself\u001b[39m\u001b[38;5;241m.\u001b[39mneeds_reset:\n\u001b[1;32m     93\u001b[0m     \u001b[38;5;28;01mraise\u001b[39;00m \u001b[38;5;167;01mRuntimeError\u001b[39;00m(\u001b[38;5;124m\"\u001b[39m\u001b[38;5;124mTried to step environment that needs reset\u001b[39m\u001b[38;5;124m\"\u001b[39m)\n\u001b[0;32m---> 94\u001b[0m observation, reward, terminated, truncated, info \u001b[38;5;241m=\u001b[39m \u001b[38;5;28;43mself\u001b[39;49m\u001b[38;5;241;43m.\u001b[39;49m\u001b[43menv\u001b[49m\u001b[38;5;241;43m.\u001b[39;49m\u001b[43mstep\u001b[49m\u001b[43m(\u001b[49m\u001b[43maction\u001b[49m\u001b[43m)\u001b[49m\n\u001b[1;32m     95\u001b[0m \u001b[38;5;28mself\u001b[39m\u001b[38;5;241m.\u001b[39mrewards\u001b[38;5;241m.\u001b[39mappend(\u001b[38;5;28mfloat\u001b[39m(reward))\n\u001b[1;32m     96\u001b[0m \u001b[38;5;28;01mif\u001b[39;00m terminated \u001b[38;5;129;01mor\u001b[39;00m truncated:\n",
      "File \u001b[0;32m/opt/anaconda3/envs/2024_mva_robotics_exercises/lib/python3.10/site-packages/gymnasium/wrappers/time_limit.py:57\u001b[0m, in \u001b[0;36mTimeLimit.step\u001b[0;34m(self, action)\u001b[0m\n\u001b[1;32m     46\u001b[0m \u001b[38;5;28;01mdef\u001b[39;00m \u001b[38;5;21mstep\u001b[39m(\u001b[38;5;28mself\u001b[39m, action):\n\u001b[1;32m     47\u001b[0m \u001b[38;5;250m    \u001b[39m\u001b[38;5;124;03m\"\"\"Steps through the environment and if the number of steps elapsed exceeds ``max_episode_steps`` then truncate.\u001b[39;00m\n\u001b[1;32m     48\u001b[0m \n\u001b[1;32m     49\u001b[0m \u001b[38;5;124;03m    Args:\u001b[39;00m\n\u001b[0;32m   (...)\u001b[0m\n\u001b[1;32m     55\u001b[0m \n\u001b[1;32m     56\u001b[0m \u001b[38;5;124;03m    \"\"\"\u001b[39;00m\n\u001b[0;32m---> 57\u001b[0m     observation, reward, terminated, truncated, info \u001b[38;5;241m=\u001b[39m \u001b[38;5;28;43mself\u001b[39;49m\u001b[38;5;241;43m.\u001b[39;49m\u001b[43menv\u001b[49m\u001b[38;5;241;43m.\u001b[39;49m\u001b[43mstep\u001b[49m\u001b[43m(\u001b[49m\u001b[43maction\u001b[49m\u001b[43m)\u001b[49m\n\u001b[1;32m     58\u001b[0m     \u001b[38;5;28mself\u001b[39m\u001b[38;5;241m.\u001b[39m_elapsed_steps \u001b[38;5;241m+\u001b[39m\u001b[38;5;241m=\u001b[39m \u001b[38;5;241m1\u001b[39m\n\u001b[1;32m     60\u001b[0m     \u001b[38;5;28;01mif\u001b[39;00m \u001b[38;5;28mself\u001b[39m\u001b[38;5;241m.\u001b[39m_elapsed_steps \u001b[38;5;241m>\u001b[39m\u001b[38;5;241m=\u001b[39m \u001b[38;5;28mself\u001b[39m\u001b[38;5;241m.\u001b[39m_max_episode_steps:\n",
      "File \u001b[0;32m/opt/anaconda3/envs/2024_mva_robotics_exercises/lib/python3.10/site-packages/gymnasium/wrappers/order_enforcing.py:56\u001b[0m, in \u001b[0;36mOrderEnforcing.step\u001b[0;34m(self, action)\u001b[0m\n\u001b[1;32m     54\u001b[0m \u001b[38;5;28;01mif\u001b[39;00m \u001b[38;5;129;01mnot\u001b[39;00m \u001b[38;5;28mself\u001b[39m\u001b[38;5;241m.\u001b[39m_has_reset:\n\u001b[1;32m     55\u001b[0m     \u001b[38;5;28;01mraise\u001b[39;00m ResetNeeded(\u001b[38;5;124m\"\u001b[39m\u001b[38;5;124mCannot call env.step() before calling env.reset()\u001b[39m\u001b[38;5;124m\"\u001b[39m)\n\u001b[0;32m---> 56\u001b[0m \u001b[38;5;28;01mreturn\u001b[39;00m \u001b[38;5;28;43mself\u001b[39;49m\u001b[38;5;241;43m.\u001b[39;49m\u001b[43menv\u001b[49m\u001b[38;5;241;43m.\u001b[39;49m\u001b[43mstep\u001b[49m\u001b[43m(\u001b[49m\u001b[43maction\u001b[49m\u001b[43m)\u001b[49m\n",
      "File \u001b[0;32m/opt/anaconda3/envs/2024_mva_robotics_exercises/lib/python3.10/site-packages/gymnasium/wrappers/env_checker.py:51\u001b[0m, in \u001b[0;36mPassiveEnvChecker.step\u001b[0;34m(self, action)\u001b[0m\n\u001b[1;32m     49\u001b[0m     \u001b[38;5;28;01mreturn\u001b[39;00m env_step_passive_checker(\u001b[38;5;28mself\u001b[39m\u001b[38;5;241m.\u001b[39menv, action)\n\u001b[1;32m     50\u001b[0m \u001b[38;5;28;01melse\u001b[39;00m:\n\u001b[0;32m---> 51\u001b[0m     \u001b[38;5;28;01mreturn\u001b[39;00m \u001b[38;5;28;43mself\u001b[39;49m\u001b[38;5;241;43m.\u001b[39;49m\u001b[43menv\u001b[49m\u001b[38;5;241;43m.\u001b[39;49m\u001b[43mstep\u001b[49m\u001b[43m(\u001b[49m\u001b[43maction\u001b[49m\u001b[43m)\u001b[49m\n",
      "File \u001b[0;32m/opt/anaconda3/envs/2024_mva_robotics_exercises/lib/python3.10/site-packages/gymnasium/envs/mujoco/inverted_pendulum_v4.py:123\u001b[0m, in \u001b[0;36mInvertedPendulumEnv.step\u001b[0;34m(self, a)\u001b[0m\n\u001b[1;32m    121\u001b[0m terminated \u001b[38;5;241m=\u001b[39m \u001b[38;5;28mbool\u001b[39m(\u001b[38;5;129;01mnot\u001b[39;00m np\u001b[38;5;241m.\u001b[39misfinite(ob)\u001b[38;5;241m.\u001b[39mall() \u001b[38;5;129;01mor\u001b[39;00m (np\u001b[38;5;241m.\u001b[39mabs(ob[\u001b[38;5;241m1\u001b[39m]) \u001b[38;5;241m>\u001b[39m \u001b[38;5;241m0.2\u001b[39m))\n\u001b[1;32m    122\u001b[0m \u001b[38;5;28;01mif\u001b[39;00m \u001b[38;5;28mself\u001b[39m\u001b[38;5;241m.\u001b[39mrender_mode \u001b[38;5;241m==\u001b[39m \u001b[38;5;124m\"\u001b[39m\u001b[38;5;124mhuman\u001b[39m\u001b[38;5;124m\"\u001b[39m:\n\u001b[0;32m--> 123\u001b[0m     \u001b[38;5;28;43mself\u001b[39;49m\u001b[38;5;241;43m.\u001b[39;49m\u001b[43mrender\u001b[49m\u001b[43m(\u001b[49m\u001b[43m)\u001b[49m\n\u001b[1;32m    124\u001b[0m \u001b[38;5;28;01mreturn\u001b[39;00m ob, reward, terminated, \u001b[38;5;28;01mFalse\u001b[39;00m, {}\n",
      "File \u001b[0;32m/opt/anaconda3/envs/2024_mva_robotics_exercises/lib/python3.10/site-packages/gymnasium/envs/mujoco/mujoco_env.py:409\u001b[0m, in \u001b[0;36mMujocoEnv.render\u001b[0;34m(self)\u001b[0m\n\u001b[1;32m    408\u001b[0m \u001b[38;5;28;01mdef\u001b[39;00m \u001b[38;5;21mrender\u001b[39m(\u001b[38;5;28mself\u001b[39m):\n\u001b[0;32m--> 409\u001b[0m     \u001b[38;5;28;01mreturn\u001b[39;00m \u001b[38;5;28;43mself\u001b[39;49m\u001b[38;5;241;43m.\u001b[39;49m\u001b[43mmujoco_renderer\u001b[49m\u001b[38;5;241;43m.\u001b[39;49m\u001b[43mrender\u001b[49m\u001b[43m(\u001b[49m\n\u001b[1;32m    410\u001b[0m \u001b[43m        \u001b[49m\u001b[38;5;28;43mself\u001b[39;49m\u001b[38;5;241;43m.\u001b[39;49m\u001b[43mrender_mode\u001b[49m\u001b[43m,\u001b[49m\u001b[43m \u001b[49m\u001b[38;5;28;43mself\u001b[39;49m\u001b[38;5;241;43m.\u001b[39;49m\u001b[43mcamera_id\u001b[49m\u001b[43m,\u001b[49m\u001b[43m \u001b[49m\u001b[38;5;28;43mself\u001b[39;49m\u001b[38;5;241;43m.\u001b[39;49m\u001b[43mcamera_name\u001b[49m\n\u001b[1;32m    411\u001b[0m \u001b[43m    \u001b[49m\u001b[43m)\u001b[49m\n",
      "File \u001b[0;32m/opt/anaconda3/envs/2024_mva_robotics_exercises/lib/python3.10/site-packages/gymnasium/envs/mujoco/mujoco_rendering.py:673\u001b[0m, in \u001b[0;36mMujocoRenderer.render\u001b[0;34m(self, render_mode, camera_id, camera_name)\u001b[0m\n\u001b[1;32m    670\u001b[0m     \u001b[38;5;28;01mreturn\u001b[39;00m img\n\u001b[1;32m    672\u001b[0m \u001b[38;5;28;01melif\u001b[39;00m render_mode \u001b[38;5;241m==\u001b[39m \u001b[38;5;124m\"\u001b[39m\u001b[38;5;124mhuman\u001b[39m\u001b[38;5;124m\"\u001b[39m:\n\u001b[0;32m--> 673\u001b[0m     \u001b[38;5;28;01mreturn\u001b[39;00m \u001b[43mviewer\u001b[49m\u001b[38;5;241;43m.\u001b[39;49m\u001b[43mrender\u001b[49m\u001b[43m(\u001b[49m\u001b[43m)\u001b[49m\n",
      "File \u001b[0;32m/opt/anaconda3/envs/2024_mva_robotics_exercises/lib/python3.10/site-packages/gymnasium/envs/mujoco/mujoco_rendering.py:413\u001b[0m, in \u001b[0;36mWindowViewer.render\u001b[0;34m(self)\u001b[0m\n\u001b[1;32m    411\u001b[0m         \u001b[38;5;28mself\u001b[39m\u001b[38;5;241m.\u001b[39m_loop_count \u001b[38;5;241m=\u001b[39m \u001b[38;5;241m1\u001b[39m\n\u001b[1;32m    412\u001b[0m     \u001b[38;5;28;01mwhile\u001b[39;00m \u001b[38;5;28mself\u001b[39m\u001b[38;5;241m.\u001b[39m_loop_count \u001b[38;5;241m>\u001b[39m \u001b[38;5;241m0\u001b[39m:\n\u001b[0;32m--> 413\u001b[0m         \u001b[43mupdate\u001b[49m\u001b[43m(\u001b[49m\u001b[43m)\u001b[49m\n\u001b[1;32m    414\u001b[0m         \u001b[38;5;28mself\u001b[39m\u001b[38;5;241m.\u001b[39m_loop_count \u001b[38;5;241m-\u001b[39m\u001b[38;5;241m=\u001b[39m \u001b[38;5;241m1\u001b[39m\n\u001b[1;32m    416\u001b[0m \u001b[38;5;66;03m# clear overlay\u001b[39;00m\n",
      "File \u001b[0;32m/opt/anaconda3/envs/2024_mva_robotics_exercises/lib/python3.10/site-packages/gymnasium/envs/mujoco/mujoco_rendering.py:394\u001b[0m, in \u001b[0;36mWindowViewer.render.<locals>.update\u001b[0;34m()\u001b[0m\n\u001b[1;32m    384\u001b[0m     \u001b[38;5;28;01mfor\u001b[39;00m gridpos, [t1, t2] \u001b[38;5;129;01min\u001b[39;00m \u001b[38;5;28mself\u001b[39m\u001b[38;5;241m.\u001b[39m_overlays\u001b[38;5;241m.\u001b[39mitems():\n\u001b[1;32m    385\u001b[0m         mujoco\u001b[38;5;241m.\u001b[39mmjr_overlay(\n\u001b[1;32m    386\u001b[0m             mujoco\u001b[38;5;241m.\u001b[39mmjtFontScale\u001b[38;5;241m.\u001b[39mmjFONTSCALE_150,\n\u001b[1;32m    387\u001b[0m             gridpos,\n\u001b[0;32m   (...)\u001b[0m\n\u001b[1;32m    391\u001b[0m             \u001b[38;5;28mself\u001b[39m\u001b[38;5;241m.\u001b[39mcon,\n\u001b[1;32m    392\u001b[0m         )\n\u001b[0;32m--> 394\u001b[0m \u001b[43mglfw\u001b[49m\u001b[38;5;241;43m.\u001b[39;49m\u001b[43mswap_buffers\u001b[49m\u001b[43m(\u001b[49m\u001b[38;5;28;43mself\u001b[39;49m\u001b[38;5;241;43m.\u001b[39;49m\u001b[43mwindow\u001b[49m\u001b[43m)\u001b[49m\n\u001b[1;32m    395\u001b[0m glfw\u001b[38;5;241m.\u001b[39mpoll_events()\n\u001b[1;32m    396\u001b[0m \u001b[38;5;28mself\u001b[39m\u001b[38;5;241m.\u001b[39m_time_per_render \u001b[38;5;241m=\u001b[39m \u001b[38;5;241m0.9\u001b[39m \u001b[38;5;241m*\u001b[39m \u001b[38;5;28mself\u001b[39m\u001b[38;5;241m.\u001b[39m_time_per_render \u001b[38;5;241m+\u001b[39m \u001b[38;5;241m0.1\u001b[39m \u001b[38;5;241m*\u001b[39m (\n\u001b[1;32m    397\u001b[0m     time\u001b[38;5;241m.\u001b[39mtime() \u001b[38;5;241m-\u001b[39m render_start\n\u001b[1;32m    398\u001b[0m )\n",
      "File \u001b[0;32m/opt/anaconda3/envs/2024_mva_robotics_exercises/lib/python3.10/site-packages/glfw/__init__.py:2377\u001b[0m, in \u001b[0;36mswap_buffers\u001b[0;34m(window)\u001b[0m\n\u001b[1;32m   2370\u001b[0m \u001b[38;5;28;01mdef\u001b[39;00m \u001b[38;5;21mswap_buffers\u001b[39m(window):\n\u001b[1;32m   2371\u001b[0m \u001b[38;5;250m    \u001b[39m\u001b[38;5;124;03m\"\"\"\u001b[39;00m\n\u001b[1;32m   2372\u001b[0m \u001b[38;5;124;03m    Swaps the front and back buffers of the specified window.\u001b[39;00m\n\u001b[1;32m   2373\u001b[0m \n\u001b[1;32m   2374\u001b[0m \u001b[38;5;124;03m    Wrapper for:\u001b[39;00m\n\u001b[1;32m   2375\u001b[0m \u001b[38;5;124;03m        void glfwSwapBuffers(GLFWwindow* window);\u001b[39;00m\n\u001b[1;32m   2376\u001b[0m \u001b[38;5;124;03m    \"\"\"\u001b[39;00m\n\u001b[0;32m-> 2377\u001b[0m     \u001b[43m_glfw\u001b[49m\u001b[38;5;241;43m.\u001b[39;49m\u001b[43mglfwSwapBuffers\u001b[49m\u001b[43m(\u001b[49m\u001b[43mwindow\u001b[49m\u001b[43m)\u001b[49m\n",
      "File \u001b[0;32m/opt/anaconda3/envs/2024_mva_robotics_exercises/lib/python3.10/site-packages/glfw/__init__.py:684\u001b[0m, in \u001b[0;36m_prepare_errcheck.<locals>.errcheck\u001b[0;34m(result, *args)\u001b[0m\n\u001b[1;32m    676\u001b[0m \u001b[38;5;28;01mdef\u001b[39;00m \u001b[38;5;21m_prepare_errcheck\u001b[39m():\n\u001b[1;32m    677\u001b[0m \u001b[38;5;250m    \u001b[39m\u001b[38;5;124;03m\"\"\"\u001b[39;00m\n\u001b[1;32m    678\u001b[0m \u001b[38;5;124;03m    This function sets the errcheck attribute of all ctypes wrapped functions\u001b[39;00m\n\u001b[1;32m    679\u001b[0m \u001b[38;5;124;03m    to evaluate the _exc_info_from_callback global variable and re-raise any\u001b[39;00m\n\u001b[0;32m   (...)\u001b[0m\n\u001b[1;32m    682\u001b[0m \u001b[38;5;124;03m    using the _callback_exception_decorator.\u001b[39;00m\n\u001b[1;32m    683\u001b[0m \u001b[38;5;124;03m    \"\"\"\u001b[39;00m\n\u001b[0;32m--> 684\u001b[0m     \u001b[38;5;28;01mdef\u001b[39;00m \u001b[38;5;21merrcheck\u001b[39m(result, \u001b[38;5;241m*\u001b[39margs):\n\u001b[1;32m    685\u001b[0m         \u001b[38;5;28;01mglobal\u001b[39;00m _exc_info_from_callback\n\u001b[1;32m    686\u001b[0m         \u001b[38;5;28;01mif\u001b[39;00m _exc_info_from_callback \u001b[38;5;129;01mis\u001b[39;00m \u001b[38;5;129;01mnot\u001b[39;00m \u001b[38;5;28;01mNone\u001b[39;00m:\n",
      "\u001b[0;31mKeyboardInterrupt\u001b[0m: "
     ]
    }
   ],
   "source": [
    "from stable_baselines3 import PPO\n",
    "\n",
    "with gym.make(\"InvertedPendulum-v4\", render_mode=\"human\") as env:\n",
    "    first_policy = PPO(\"MlpPolicy\", env, verbose=0)\n",
    "    first_policy.learn(total_timesteps=1000, progress_bar=False)"
   ]
  },
  {
   "cell_type": "markdown",
   "id": "6323400b-18ca-43f6-a81e-a5e7f033a536",
   "metadata": {},
   "source": [
    "By instantiating the algorithm with no further ado, we let the library decide for us on a sane set of default hyperparameters, including:\n",
    "\n",
    "- Rollout buffers of `n_steps = 2048` steps, which we will visit `n_epochs = 10` times with mini-batches of size `batch_size = 64`.\n",
    "- Clipping range: ``0.2``.\n",
    "- No entropy regularization.\n",
    "- Learning rate for the Adam optimizer: ``3e-4``\n",
    "- Policy and value-function network architectures: two layers of 64 neurons with $\\tanh$ activation functions.\n",
    "\n",
    "We then called the `learn` function to execute PPO over a fixed total number of timesteps, here just a thousand."
   ]
  },
  {
   "cell_type": "markdown",
   "id": "8b82173c-6609-4b83-8618-36f82c1c1373",
   "metadata": {},
   "source": [
    "Rendering actually took a significant chunk of time. Let's instantiate and keep an environment open without rendering:"
   ]
  },
  {
   "cell_type": "code",
   "execution_count": 12,
   "id": "460fe1c7-ee3b-450a-b09c-03b96f9086bf",
   "metadata": {
    "ExecuteTime": {
     "end_time": "2024-11-27T16:35:43.819044Z",
     "start_time": "2024-11-27T16:35:43.814420Z"
    }
   },
   "outputs": [],
   "source": [
    "env = gym.make(\"InvertedPendulum-v4\")"
   ]
  },
  {
   "cell_type": "markdown",
   "id": "a9bd090f-ca34-41e0-9900-52977eef9c4b",
   "metadata": {},
   "source": [
    "We can use it to train much more steps in roughly the same time, reporting training metrics every `n_steps` step:"
   ]
  },
  {
   "cell_type": "code",
   "execution_count": 47,
   "id": "b7262602-c277-4697-8987-ba126a87e75b",
   "metadata": {
    "ExecuteTime": {
     "end_time": "2024-11-25T17:40:32.567723Z",
     "start_time": "2024-11-22T13:20:03.922007Z"
    }
   },
   "outputs": [
    {
     "name": "stdout",
     "output_type": "stream",
     "text": [
      "Using cpu device\n",
      "Wrapping the env with a `Monitor` wrapper\n",
      "Wrapping the env in a DummyVecEnv.\n",
      "---------------------------------\n",
      "| rollout/           |          |\n",
      "|    ep_len_mean     | 8.93     |\n",
      "|    ep_rew_mean     | 8.93     |\n",
      "| time/              |          |\n",
      "|    fps             | 8181     |\n",
      "|    iterations      | 1        |\n",
      "|    time_elapsed    | 0        |\n",
      "|    total_timesteps | 2048     |\n",
      "---------------------------------\n",
      "-----------------------------------------\n",
      "| rollout/                |             |\n",
      "|    ep_len_mean          | 11.9        |\n",
      "|    ep_rew_mean          | 11.9        |\n",
      "| time/                   |             |\n",
      "|    fps                  | 5165        |\n",
      "|    iterations           | 2           |\n",
      "|    time_elapsed         | 0           |\n",
      "|    total_timesteps      | 4096        |\n",
      "| train/                  |             |\n",
      "|    approx_kl            | 0.023883808 |\n",
      "|    clip_fraction        | 0.199       |\n",
      "|    clip_range           | 0.2         |\n",
      "|    entropy_loss         | -1.39       |\n",
      "|    explained_variance   | -0.000761   |\n",
      "|    learning_rate        | 0.0003      |\n",
      "|    loss                 | 3.27        |\n",
      "|    n_updates            | 10          |\n",
      "|    policy_gradient_loss | -0.0259     |\n",
      "|    std                  | 0.951       |\n",
      "|    value_loss           | 16.5        |\n",
      "-----------------------------------------\n",
      "-----------------------------------------\n",
      "| rollout/                |             |\n",
      "|    ep_len_mean          | 14.8        |\n",
      "|    ep_rew_mean          | 14.8        |\n",
      "| time/                   |             |\n",
      "|    fps                  | 4367        |\n",
      "|    iterations           | 3           |\n",
      "|    time_elapsed         | 1           |\n",
      "|    total_timesteps      | 6144        |\n",
      "| train/                  |             |\n",
      "|    approx_kl            | 0.019490108 |\n",
      "|    clip_fraction        | 0.17        |\n",
      "|    clip_range           | 0.2         |\n",
      "|    entropy_loss         | -1.35       |\n",
      "|    explained_variance   | 0.117       |\n",
      "|    learning_rate        | 0.0003      |\n",
      "|    loss                 | 9.2         |\n",
      "|    n_updates            | 20          |\n",
      "|    policy_gradient_loss | -0.0279     |\n",
      "|    std                  | 0.913       |\n",
      "|    value_loss           | 18.1        |\n",
      "-----------------------------------------\n",
      "-----------------------------------------\n",
      "| rollout/                |             |\n",
      "|    ep_len_mean          | 24.9        |\n",
      "|    ep_rew_mean          | 24.9        |\n",
      "| time/                   |             |\n",
      "|    fps                  | 4188        |\n",
      "|    iterations           | 4           |\n",
      "|    time_elapsed         | 1           |\n",
      "|    total_timesteps      | 8192        |\n",
      "| train/                  |             |\n",
      "|    approx_kl            | 0.020265657 |\n",
      "|    clip_fraction        | 0.199       |\n",
      "|    clip_range           | 0.2         |\n",
      "|    entropy_loss         | -1.3        |\n",
      "|    explained_variance   | 0.148       |\n",
      "|    learning_rate        | 0.0003      |\n",
      "|    loss                 | 12.6        |\n",
      "|    n_updates            | 30          |\n",
      "|    policy_gradient_loss | -0.0329     |\n",
      "|    std                  | 0.87        |\n",
      "|    value_loss           | 27.5        |\n",
      "-----------------------------------------\n",
      "---------------------------------------\n",
      "| rollout/                |           |\n",
      "|    ep_len_mean          | 30.9      |\n",
      "|    ep_rew_mean          | 30.9      |\n",
      "| time/                   |           |\n",
      "|    fps                  | 4120      |\n",
      "|    iterations           | 5         |\n",
      "|    time_elapsed         | 2         |\n",
      "|    total_timesteps      | 10240     |\n",
      "| train/                  |           |\n",
      "|    approx_kl            | 0.0080858 |\n",
      "|    clip_fraction        | 0.098     |\n",
      "|    clip_range           | 0.2       |\n",
      "|    entropy_loss         | -1.26     |\n",
      "|    explained_variance   | 0.11      |\n",
      "|    learning_rate        | 0.0003    |\n",
      "|    loss                 | 20        |\n",
      "|    n_updates            | 40        |\n",
      "|    policy_gradient_loss | -0.0189   |\n",
      "|    std                  | 0.844     |\n",
      "|    value_loss           | 45.3      |\n",
      "---------------------------------------\n"
     ]
    },
    {
     "data": {
      "text/plain": [
       "<stable_baselines3.ppo.ppo.PPO at 0x3154c92a0>"
      ]
     },
     "execution_count": 47,
     "metadata": {},
     "output_type": "execute_result"
    }
   ],
   "source": [
    "second_policy = PPO(\"MlpPolicy\", env, verbose=1)\n",
    "second_policy.learn(total_timesteps=10_000, progress_bar=False)"
   ]
  },
  {
   "cell_type": "markdown",
   "id": "6219aab8-1143-4606-a44f-b62fdffebbf1",
   "metadata": {},
   "source": [
    "Let's see how this policy performs:"
   ]
  },
  {
   "cell_type": "code",
   "execution_count": 13,
   "id": "f17dc178-bb9c-4155-8047-feed1e575226",
   "metadata": {
    "ExecuteTime": {
     "end_time": "2024-11-27T16:35:45.281663Z",
     "start_time": "2024-11-27T16:35:45.279265Z"
    }
   },
   "outputs": [],
   "source": [
    "def policy_closure(policy):\n",
    "    \"\"\"Utility function to turn our policy instance into a function.\n",
    "\n",
    "    Args:\n",
    "        policy: Policy to turn into a function.\n",
    "        \n",
    "    Returns:\n",
    "        Function from observation to policy action.\n",
    "    \"\"\"\n",
    "    def policy_function(observation):\n",
    "        action, _ = policy.predict(observation)\n",
    "        return action\n",
    "    return policy_function"
   ]
  },
  {
   "cell_type": "code",
   "execution_count": 14,
   "id": "7e4e3cd4-4572-4c40-94b1-688d472a4b8c",
   "metadata": {
    "ExecuteTime": {
     "end_time": "2024-11-27T14:38:53.185357Z",
     "start_time": "2024-11-27T14:38:53.157777Z"
    }
   },
   "outputs": [
    {
     "ename": "NameError",
     "evalue": "name 'second_policy' is not defined",
     "output_type": "error",
     "traceback": [
      "\u001b[0;31m---------------------------------------------------------------------------\u001b[0m",
      "\u001b[0;31mNameError\u001b[0m                                 Traceback (most recent call last)",
      "Cell \u001b[0;32mIn[14], line 1\u001b[0m\n\u001b[0;32m----> 1\u001b[0m episode \u001b[38;5;241m=\u001b[39m rollout(policy_closure(\u001b[43msecond_policy\u001b[49m), show\u001b[38;5;241m=\u001b[39m\u001b[38;5;28;01mTrue\u001b[39;00m)\n",
      "\u001b[0;31mNameError\u001b[0m: name 'second_policy' is not defined"
     ]
    }
   ],
   "source": [
    "episode = rollout(policy_closure(second_policy), show=True)"
   ]
  },
  {
   "cell_type": "markdown",
   "id": "941219f1-9b3c-4e66-86e5-d42f2473b149",
   "metadata": {},
   "source": [
    "Okay, it looks like we didn't train for long enough!"
   ]
  },
  {
   "cell_type": "markdown",
   "id": "195f2a85-8dd7-4f3a-8368-7427f1caadca",
   "metadata": {},
   "source": [
    "## Monitoring performance during training\n",
    "\n",
    "Let's train for longer, and use TensorBoard to keep track. We don't know how long training will take so let's put a rather large total number of steps (you can interrupt training once you observed convergence in TensorBoard):"
   ]
  },
  {
   "cell_type": "code",
   "execution_count": 24,
   "id": "8de8d8aad1f5b04",
   "metadata": {
    "ExecuteTime": {
     "end_time": "2024-11-27T16:38:50.918657Z",
     "start_time": "2024-11-27T16:38:50.915310Z"
    }
   },
   "outputs": [],
   "source": [
    "%reload_ext tensorboard"
   ]
  },
  {
   "cell_type": "code",
   "execution_count": 25,
   "id": "d2707fcb8a143462",
   "metadata": {
    "ExecuteTime": {
     "end_time": "2024-11-27T16:38:55.318678Z",
     "start_time": "2024-11-27T16:38:52.295327Z"
    }
   },
   "outputs": [
    {
     "data": {
      "text/html": [
       "\n",
       "      <iframe id=\"tensorboard-frame-25f8a7cbcbbe7f56\" width=\"100%\" height=\"800\" frameborder=\"0\">\n",
       "      </iframe>\n",
       "      <script>\n",
       "        (function() {\n",
       "          const frame = document.getElementById(\"tensorboard-frame-25f8a7cbcbbe7f56\");\n",
       "          const url = new URL(\"/\", window.location);\n",
       "          const port = 6006;\n",
       "          if (port) {\n",
       "            url.port = port;\n",
       "          }\n",
       "          frame.src = url;\n",
       "        })();\n",
       "      </script>\n",
       "    "
      ],
      "text/plain": [
       "<IPython.core.display.HTML object>"
      ]
     },
     "metadata": {},
     "output_type": "display_data"
    }
   ],
   "source": [
    "%tensorboard --logdir ./inverted_pendulum_tensorboard/"
   ]
  },
  {
   "cell_type": "code",
   "execution_count": 13,
   "id": "196da0ad-1e83-441e-ac10-6c9ecd83c224",
   "metadata": {
    "ExecuteTime": {
     "end_time": "2024-11-27T15:55:59.568187Z",
     "start_time": "2024-11-27T15:55:57.995144Z"
    }
   },
   "outputs": [
    {
     "ename": "KeyboardInterrupt",
     "evalue": "",
     "output_type": "error",
     "traceback": [
      "\u001b[0;31m---------------------------------------------------------------------------\u001b[0m",
      "\u001b[0;31mKeyboardInterrupt\u001b[0m                         Traceback (most recent call last)",
      "Cell \u001b[0;32mIn[13], line 8\u001b[0m\n\u001b[1;32m      1\u001b[0m erudite_policy \u001b[38;5;241m=\u001b[39m PPO(\n\u001b[1;32m      2\u001b[0m     \u001b[38;5;124m\"\u001b[39m\u001b[38;5;124mMlpPolicy\u001b[39m\u001b[38;5;124m\"\u001b[39m,\n\u001b[1;32m      3\u001b[0m     env,\n\u001b[1;32m      4\u001b[0m     tensorboard_log\u001b[38;5;241m=\u001b[39m\u001b[38;5;124m\"\u001b[39m\u001b[38;5;124m./inverted_pendulum_tensorboard/\u001b[39m\u001b[38;5;124m\"\u001b[39m,\n\u001b[1;32m      5\u001b[0m     verbose\u001b[38;5;241m=\u001b[39m\u001b[38;5;241m0\u001b[39m,\n\u001b[1;32m      6\u001b[0m )\n\u001b[0;32m----> 8\u001b[0m \u001b[43merudite_policy\u001b[49m\u001b[38;5;241;43m.\u001b[39;49m\u001b[43mlearn\u001b[49m\u001b[43m(\u001b[49m\n\u001b[1;32m      9\u001b[0m \u001b[43m    \u001b[49m\u001b[43mtotal_timesteps\u001b[49m\u001b[38;5;241;43m=\u001b[39;49m\u001b[38;5;241;43m1_000_000\u001b[39;49m\u001b[43m,\u001b[49m\n\u001b[1;32m     10\u001b[0m \u001b[43m    \u001b[49m\u001b[43mprogress_bar\u001b[49m\u001b[38;5;241;43m=\u001b[39;49m\u001b[38;5;28;43;01mFalse\u001b[39;49;00m\u001b[43m,\u001b[49m\n\u001b[1;32m     11\u001b[0m \u001b[43m    \u001b[49m\u001b[43mtb_log_name\u001b[49m\u001b[38;5;241;43m=\u001b[39;49m\u001b[38;5;124;43m\"\u001b[39;49m\u001b[38;5;124;43merudite\u001b[39;49m\u001b[38;5;124;43m\"\u001b[39;49m\u001b[43m,\u001b[49m\n\u001b[1;32m     12\u001b[0m \u001b[43m)\u001b[49m\n",
      "File \u001b[0;32m/opt/anaconda3/envs/2024_mva_robotics_exercises/lib/python3.10/site-packages/stable_baselines3/ppo/ppo.py:315\u001b[0m, in \u001b[0;36mPPO.learn\u001b[0;34m(self, total_timesteps, callback, log_interval, tb_log_name, reset_num_timesteps, progress_bar)\u001b[0m\n\u001b[1;32m    306\u001b[0m \u001b[38;5;28;01mdef\u001b[39;00m \u001b[38;5;21mlearn\u001b[39m(\n\u001b[1;32m    307\u001b[0m     \u001b[38;5;28mself\u001b[39m: SelfPPO,\n\u001b[1;32m    308\u001b[0m     total_timesteps: \u001b[38;5;28mint\u001b[39m,\n\u001b[0;32m   (...)\u001b[0m\n\u001b[1;32m    313\u001b[0m     progress_bar: \u001b[38;5;28mbool\u001b[39m \u001b[38;5;241m=\u001b[39m \u001b[38;5;28;01mFalse\u001b[39;00m,\n\u001b[1;32m    314\u001b[0m ) \u001b[38;5;241m-\u001b[39m\u001b[38;5;241m>\u001b[39m SelfPPO:\n\u001b[0;32m--> 315\u001b[0m     \u001b[38;5;28;01mreturn\u001b[39;00m \u001b[38;5;28;43msuper\u001b[39;49m\u001b[43m(\u001b[49m\u001b[43m)\u001b[49m\u001b[38;5;241;43m.\u001b[39;49m\u001b[43mlearn\u001b[49m\u001b[43m(\u001b[49m\n\u001b[1;32m    316\u001b[0m \u001b[43m        \u001b[49m\u001b[43mtotal_timesteps\u001b[49m\u001b[38;5;241;43m=\u001b[39;49m\u001b[43mtotal_timesteps\u001b[49m\u001b[43m,\u001b[49m\n\u001b[1;32m    317\u001b[0m \u001b[43m        \u001b[49m\u001b[43mcallback\u001b[49m\u001b[38;5;241;43m=\u001b[39;49m\u001b[43mcallback\u001b[49m\u001b[43m,\u001b[49m\n\u001b[1;32m    318\u001b[0m \u001b[43m        \u001b[49m\u001b[43mlog_interval\u001b[49m\u001b[38;5;241;43m=\u001b[39;49m\u001b[43mlog_interval\u001b[49m\u001b[43m,\u001b[49m\n\u001b[1;32m    319\u001b[0m \u001b[43m        \u001b[49m\u001b[43mtb_log_name\u001b[49m\u001b[38;5;241;43m=\u001b[39;49m\u001b[43mtb_log_name\u001b[49m\u001b[43m,\u001b[49m\n\u001b[1;32m    320\u001b[0m \u001b[43m        \u001b[49m\u001b[43mreset_num_timesteps\u001b[49m\u001b[38;5;241;43m=\u001b[39;49m\u001b[43mreset_num_timesteps\u001b[49m\u001b[43m,\u001b[49m\n\u001b[1;32m    321\u001b[0m \u001b[43m        \u001b[49m\u001b[43mprogress_bar\u001b[49m\u001b[38;5;241;43m=\u001b[39;49m\u001b[43mprogress_bar\u001b[49m\u001b[43m,\u001b[49m\n\u001b[1;32m    322\u001b[0m \u001b[43m    \u001b[49m\u001b[43m)\u001b[49m\n",
      "File \u001b[0;32m/opt/anaconda3/envs/2024_mva_robotics_exercises/lib/python3.10/site-packages/stable_baselines3/common/on_policy_algorithm.py:313\u001b[0m, in \u001b[0;36mOnPolicyAlgorithm.learn\u001b[0;34m(self, total_timesteps, callback, log_interval, tb_log_name, reset_num_timesteps, progress_bar)\u001b[0m\n\u001b[1;32m    310\u001b[0m         \u001b[38;5;28;01massert\u001b[39;00m \u001b[38;5;28mself\u001b[39m\u001b[38;5;241m.\u001b[39mep_info_buffer \u001b[38;5;129;01mis\u001b[39;00m \u001b[38;5;129;01mnot\u001b[39;00m \u001b[38;5;28;01mNone\u001b[39;00m\n\u001b[1;32m    311\u001b[0m         \u001b[38;5;28mself\u001b[39m\u001b[38;5;241m.\u001b[39m_dump_logs(iteration)\n\u001b[0;32m--> 313\u001b[0m     \u001b[38;5;28;43mself\u001b[39;49m\u001b[38;5;241;43m.\u001b[39;49m\u001b[43mtrain\u001b[49m\u001b[43m(\u001b[49m\u001b[43m)\u001b[49m\n\u001b[1;32m    315\u001b[0m callback\u001b[38;5;241m.\u001b[39mon_training_end()\n\u001b[1;32m    317\u001b[0m \u001b[38;5;28;01mreturn\u001b[39;00m \u001b[38;5;28mself\u001b[39m\n",
      "File \u001b[0;32m/opt/anaconda3/envs/2024_mva_robotics_exercises/lib/python3.10/site-packages/stable_baselines3/ppo/ppo.py:281\u001b[0m, in \u001b[0;36mPPO.train\u001b[0;34m(self)\u001b[0m\n\u001b[1;32m    279\u001b[0m     loss\u001b[38;5;241m.\u001b[39mbackward()\n\u001b[1;32m    280\u001b[0m     \u001b[38;5;66;03m# Clip grad norm\u001b[39;00m\n\u001b[0;32m--> 281\u001b[0m     \u001b[43mth\u001b[49m\u001b[38;5;241;43m.\u001b[39;49m\u001b[43mnn\u001b[49m\u001b[38;5;241;43m.\u001b[39;49m\u001b[43mutils\u001b[49m\u001b[38;5;241;43m.\u001b[39;49m\u001b[43mclip_grad_norm_\u001b[49m\u001b[43m(\u001b[49m\u001b[38;5;28;43mself\u001b[39;49m\u001b[38;5;241;43m.\u001b[39;49m\u001b[43mpolicy\u001b[49m\u001b[38;5;241;43m.\u001b[39;49m\u001b[43mparameters\u001b[49m\u001b[43m(\u001b[49m\u001b[43m)\u001b[49m\u001b[43m,\u001b[49m\u001b[43m \u001b[49m\u001b[38;5;28;43mself\u001b[39;49m\u001b[38;5;241;43m.\u001b[39;49m\u001b[43mmax_grad_norm\u001b[49m\u001b[43m)\u001b[49m\n\u001b[1;32m    282\u001b[0m     \u001b[38;5;28mself\u001b[39m\u001b[38;5;241m.\u001b[39mpolicy\u001b[38;5;241m.\u001b[39moptimizer\u001b[38;5;241m.\u001b[39mstep()\n\u001b[1;32m    284\u001b[0m \u001b[38;5;28mself\u001b[39m\u001b[38;5;241m.\u001b[39m_n_updates \u001b[38;5;241m+\u001b[39m\u001b[38;5;241m=\u001b[39m \u001b[38;5;241m1\u001b[39m\n",
      "File \u001b[0;32m/opt/anaconda3/envs/2024_mva_robotics_exercises/lib/python3.10/site-packages/torch/nn/utils/clip_grad.py:75\u001b[0m, in \u001b[0;36mclip_grad_norm_\u001b[0;34m(parameters, max_norm, norm_type, error_if_nonfinite, foreach)\u001b[0m\n\u001b[1;32m     73\u001b[0m clip_coef_clamped \u001b[38;5;241m=\u001b[39m torch\u001b[38;5;241m.\u001b[39mclamp(clip_coef, \u001b[38;5;28mmax\u001b[39m\u001b[38;5;241m=\u001b[39m\u001b[38;5;241m1.0\u001b[39m)\n\u001b[1;32m     74\u001b[0m \u001b[38;5;28;01mfor\u001b[39;00m ((device, _), ([grads], _)) \u001b[38;5;129;01min\u001b[39;00m grouped_grads\u001b[38;5;241m.\u001b[39mitems():  \u001b[38;5;66;03m# type: ignore[assignment]\u001b[39;00m\n\u001b[0;32m---> 75\u001b[0m     \u001b[38;5;28;01mif\u001b[39;00m (foreach \u001b[38;5;129;01mis\u001b[39;00m \u001b[38;5;28;01mNone\u001b[39;00m \u001b[38;5;129;01mor\u001b[39;00m foreach) \u001b[38;5;129;01mand\u001b[39;00m \u001b[43m_has_foreach_support\u001b[49m\u001b[43m(\u001b[49m\u001b[43mgrads\u001b[49m\u001b[43m,\u001b[49m\u001b[43m \u001b[49m\u001b[43mdevice\u001b[49m\u001b[38;5;241;43m=\u001b[39;49m\u001b[43mdevice\u001b[49m\u001b[43m)\u001b[49m:  \u001b[38;5;66;03m# type: ignore[arg-type]\u001b[39;00m\n\u001b[1;32m     76\u001b[0m         torch\u001b[38;5;241m.\u001b[39m_foreach_mul_(grads, clip_coef_clamped\u001b[38;5;241m.\u001b[39mto(device))  \u001b[38;5;66;03m# type: ignore[call-overload]\u001b[39;00m\n\u001b[1;32m     77\u001b[0m     \u001b[38;5;28;01melif\u001b[39;00m foreach:\n",
      "File \u001b[0;32m/opt/anaconda3/envs/2024_mva_robotics_exercises/lib/python3.10/site-packages/torch/utils/_foreach_utils.py:46\u001b[0m, in \u001b[0;36m_has_foreach_support\u001b[0;34m(tensors, device)\u001b[0m\n\u001b[1;32m     34\u001b[0m \u001b[38;5;129m@no_grad\u001b[39m()\n\u001b[1;32m     35\u001b[0m \u001b[38;5;28;01mdef\u001b[39;00m \u001b[38;5;21m_group_tensors_by_device_and_dtype\u001b[39m(\n\u001b[1;32m     36\u001b[0m     tensorlistlist: TensorListList,\n\u001b[1;32m     37\u001b[0m     with_indices: \u001b[38;5;28mbool\u001b[39m \u001b[38;5;241m=\u001b[39m \u001b[38;5;28;01mFalse\u001b[39;00m,\n\u001b[1;32m     38\u001b[0m ) \u001b[38;5;241m-\u001b[39m\u001b[38;5;241m>\u001b[39m Dict[Tuple[torch\u001b[38;5;241m.\u001b[39mdevice, torch\u001b[38;5;241m.\u001b[39mdtype], Tuple[TensorListList, Indices]]:\n\u001b[1;32m     39\u001b[0m     \u001b[38;5;28;01mreturn\u001b[39;00m {\n\u001b[1;32m     40\u001b[0m         (device, \u001b[38;5;28mgetattr\u001b[39m(torch, str_dtype)): value\n\u001b[1;32m     41\u001b[0m         \u001b[38;5;28;01mfor\u001b[39;00m (device, str_dtype), value \u001b[38;5;129;01min\u001b[39;00m\n\u001b[1;32m     42\u001b[0m         torch\u001b[38;5;241m.\u001b[39m_C\u001b[38;5;241m.\u001b[39m_group_tensors_by_device_and_dtype(tensorlistlist, with_indices)\u001b[38;5;241m.\u001b[39mitems()\n\u001b[1;32m     43\u001b[0m     }\n\u001b[0;32m---> 46\u001b[0m \u001b[38;5;28;01mdef\u001b[39;00m \u001b[38;5;21m_has_foreach_support\u001b[39m(tensors: List[Tensor], device: torch\u001b[38;5;241m.\u001b[39mdevice) \u001b[38;5;241m-\u001b[39m\u001b[38;5;241m>\u001b[39m \u001b[38;5;28mbool\u001b[39m:\n\u001b[1;32m     47\u001b[0m     \u001b[38;5;28;01mif\u001b[39;00m device\u001b[38;5;241m.\u001b[39mtype \u001b[38;5;129;01mnot\u001b[39;00m \u001b[38;5;129;01min\u001b[39;00m \u001b[38;5;28mset\u001b[39m(_get_foreach_kernels_supported_devices() \u001b[38;5;241m+\u001b[39m [\u001b[38;5;124m\"\u001b[39m\u001b[38;5;124mcpu\u001b[39m\u001b[38;5;124m\"\u001b[39m]) \u001b[38;5;129;01mor\u001b[39;00m torch\u001b[38;5;241m.\u001b[39mjit\u001b[38;5;241m.\u001b[39mis_scripting():\n\u001b[1;32m     48\u001b[0m         \u001b[38;5;28;01mreturn\u001b[39;00m \u001b[38;5;28;01mFalse\u001b[39;00m\n",
      "\u001b[0;31mKeyboardInterrupt\u001b[0m: "
     ]
    }
   ],
   "source": [
    "erudite_policy = PPO(\n",
    "    \"MlpPolicy\",\n",
    "    env,\n",
    "    tensorboard_log=\"./inverted_pendulum_tensorboard/\",\n",
    "    verbose=0,\n",
    ")\n",
    "\n",
    "erudite_policy.learn(\n",
    "    total_timesteps=1_000_000,\n",
    "    progress_bar=False,\n",
    "    tb_log_name=\"erudite\",\n",
    ")"
   ]
  },
  {
   "cell_type": "markdown",
   "id": "ad91d14e-53e2-443f-b7ab-edd69d480add",
   "metadata": {},
   "source": [
    "Run TensorBoard on the directory thus created to open a dashboard in your Web browser:\n",
    "\n",
    "```\n",
    "tensorboard --logdir ./inverted_pendulum_tensorboard/\n",
    "```\n",
    "\n",
    "The link will typically be http://localhost:6006 (port number increases if you run TensorBoard multiple times in parallel). Tips:\n",
    "\n",
    "- Click the Settings icon in the top-right corner and enable \"Reload data\"\n",
    "- Uncheck \"Ignore outliers in chart scaling\" (your preference)"
   ]
  },
  {
   "cell_type": "markdown",
   "id": "68771e35-48cd-43be-89ff-0055dc196d0b",
   "metadata": {},
   "source": [
    "## Saving our policy\n",
    "\n",
    "Now that you spent some computing to optimize an actual policy, better save it to disk:"
   ]
  },
  {
   "cell_type": "code",
   "execution_count": 88,
   "id": "effeccfc-8b95-48e1-98c4-1b96838bb28e",
   "metadata": {
    "ExecuteTime": {
     "end_time": "2024-11-25T17:40:32.580514Z",
     "start_time": "2024-11-16T17:15:23.942628Z"
    }
   },
   "outputs": [],
   "source": [
    "erudite_policy.save(\"pendulum_erudite\")"
   ]
  },
  {
   "cell_type": "markdown",
   "id": "ea09c56e-8647-414d-aae0-5e1b16ba3a0f",
   "metadata": {},
   "source": [
    "You can then reload it later by:"
   ]
  },
  {
   "cell_type": "code",
   "execution_count": 14,
   "id": "994dae4f-b651-4488-925e-2ba369eeedc7",
   "metadata": {
    "ExecuteTime": {
     "end_time": "2024-11-27T15:40:30.954879Z",
     "start_time": "2024-11-27T15:40:30.748752Z"
    }
   },
   "outputs": [],
   "source": [
    "erudite_policy = PPO.load(\"pendulum_erudite\", env=env)"
   ]
  },
  {
   "cell_type": "markdown",
   "id": "dded4f1e-ae57-4c94-b2e1-3a6d019aecc4",
   "metadata": {},
   "source": [
    "## Question 2: How many steps does it take to train a successful policy?\n",
    "\n",
    "We consider a policy successful if it consistently achieves the maximum return of 1000."
   ]
  },
  {
   "cell_type": "markdown",
   "id": "a0c5ac6fa2fff59",
   "metadata": {},
   "source": [
    "According to the rollout graphs, it takes 137,216 steps to train a successful policy. "
   ]
  },
  {
   "cell_type": "code",
   "execution_count": 17,
   "id": "7a1381e6e6046dc3",
   "metadata": {
    "ExecuteTime": {
     "end_time": "2024-11-27T15:40:54.466725Z",
     "start_time": "2024-11-27T15:40:39.475635Z"
    }
   },
   "outputs": [],
   "source": [
    "env = gym.make(\"InvertedPendulum-v4\")\n",
    "episode = rollout(policy_closure(erudite_policy), show=True)"
   ]
  },
  {
   "cell_type": "code",
   "execution_count": 18,
   "id": "786d0046fad04d8f",
   "metadata": {
    "ExecuteTime": {
     "end_time": "2024-11-27T15:40:57.153520Z",
     "start_time": "2024-11-27T15:40:57.086479Z"
    }
   },
   "outputs": [
    {
     "data": {
      "text/plain": [
       "<matplotlib.legend.Legend at 0x1796dff40>"
      ]
     },
     "execution_count": 18,
     "metadata": {},
     "output_type": "execute_result"
    },
    {
     "data": {
      "image/png": "[encoded data removed]",
      "text/plain": [
       "<Figure size 640x480 with 1 Axes>"
      ]
     },
     "metadata": {},
     "output_type": "display_data"
    }
   ],
   "source": [
    "observations = np.array(episode[::3])\n",
    "\n",
    "plt.plot(np.array(observations)[:, :2])\n",
    "plt.legend(OBSERVATION_LEGEND)"
   ]
  },
  {
   "cell_type": "markdown",
   "id": "15ba099618d7a61e",
   "metadata": {},
   "source": [
    "It seems to work our pendulum is stable!"
   ]
  },
  {
   "cell_type": "markdown",
   "id": "553b846f-db13-43ba-81cb-57b039852c86",
   "metadata": {},
   "source": [
    "## A more realistic environment\n",
    "\n",
    "Real systems suffer from the two main issues we saw in the [Perception and estimation](https://scaron.info/robotics-mva/#5-perception-estimation) class: *bias* and *variance*. In this section, we model bias in actuation and perception by adding delays (via low-pass filtering) to respectively the action and observation vectors. Empirically this is an effective model, as for instance it contributes to sim2real transfer on Upkie. To add these delays, we use an [`environment wrapper`](https://gymnasium.farama.org/api/wrappers/), which is a convenient way to compose environments, used in both the Gymnasium and Stable Baselines3 APIs:"
   ]
  },
  {
   "cell_type": "code",
   "execution_count": 19,
   "id": "6e8a3140-7ee7-4d6f-afd9-19d6ca4816c0",
   "metadata": {
    "ExecuteTime": {
     "end_time": "2024-11-27T15:41:00.413245Z",
     "start_time": "2024-11-27T15:41:00.406946Z"
    }
   },
   "outputs": [
    {
     "name": "stderr",
     "output_type": "stream",
     "text": [
      "/opt/anaconda3/envs/2024_mva_robotics_exercises/lib/python3.10/site-packages/gymnasium/core.py:311: UserWarning: \u001b[33mWARN: env.dt to get variables from other wrappers is deprecated and will be removed in v1.0, to get this variable you can do `env.unwrapped.dt` for environment variables or `env.get_wrapper_attr('dt')` that will search the reminding wrappers.\u001b[0m\n",
      "  logger.warn(\n"
     ]
    }
   ],
   "source": [
    "class DelayWrapper(gym.Wrapper):\n",
    "    def __init__(self, env, time_constant: float = 0.2):\n",
    "        \"\"\"Wrap environment with some actuation and perception modeling.\n",
    "\n",
    "        Args:\n",
    "            env: Environment to wrap.\n",
    "            time_constant: Constant of the internal low-pass filter, in seconds.\n",
    "                Feel free to play with different values but leave it to the default\n",
    "                of 0.2 seconds when handing out your homework.\n",
    "\n",
    "        Note:\n",
    "            Delays are implemented by a low-pass filter. The same time constant\n",
    "            is used for both actions and observations, which is not realistic, but\n",
    "            makes for less tutorial code ;)\n",
    "        \"\"\"\n",
    "        alpha = env.dt / time_constant\n",
    "        assert 0.0 < alpha < 1.0\n",
    "        super().__init__(env)\n",
    "        self._alpha = alpha\n",
    "        self._prev_action = 0.0 * env.action_space.sample()\n",
    "        self._prev_observation = np.zeros(4)\n",
    "\n",
    "    def low_pass_filter(self, old_value, new_value):\n",
    "        return old_value + self._alpha * (new_value - old_value)\n",
    "        \n",
    "    def step(self, action):\n",
    "        new_action = self.low_pass_filter(self._prev_action, action)\n",
    "        observation, reward, terminated, truncated, info = self.env.step(new_action)\n",
    "        new_observation = self.low_pass_filter(self._prev_observation, observation)\n",
    "        self._prev_action = new_action\n",
    "        self._prev_observation = new_observation\n",
    "        return new_observation, reward, terminated, truncated, info\n",
    "\n",
    "delay_env = DelayWrapper(env)"
   ]
  },
  {
   "cell_type": "markdown",
   "id": "b1b5de5e-50ca-4049-bb5f-b9203919e0ba",
   "metadata": {},
   "source": [
    "We can check how our current policy fares against the delayed environment. Spoiler alert: no great."
   ]
  },
  {
   "cell_type": "code",
   "execution_count": 21,
   "id": "4e1508e6-e04f-4b22-8009-80baae1bae7d",
   "metadata": {
    "ExecuteTime": {
     "end_time": "2024-11-27T15:41:05.404750Z",
     "start_time": "2024-11-27T15:41:05.340348Z"
    }
   },
   "outputs": [
    {
     "data": {
      "text/plain": [
       "<matplotlib.legend.Legend at 0x309cd6b60>"
      ]
     },
     "execution_count": 21,
     "metadata": {},
     "output_type": "execute_result"
    },
    {
     "data": {
      "image/png": "[encoded data removed]",
      "text/plain": [
       "<Figure size 640x480 with 1 Axes>"
      ]
     },
     "metadata": {},
     "output_type": "display_data"
    }
   ],
   "source": [
    "delay_episode = rollout_from_env(delay_env, policy_closure(erudite_policy))\n",
    "observations = np.array(delay_episode[::3])\n",
    "\n",
    "plt.plot(observations[:, :2])\n",
    "plt.legend(OBSERVATION_LEGEND)"
   ]
  },
  {
   "cell_type": "markdown",
   "id": "70af3932-751e-47e4-8334-bd55be62aaa1",
   "metadata": {},
   "source": [
    "## Question 3: Can't we just re-train a policy on the new environment?\n",
    "\n",
    "At this point of the tutorial this is a rethorical question, but we should check anyway. Re-train a policy on the delayed environment and comment on its performance:"
   ]
  },
  {
   "cell_type": "code",
   "execution_count": 169,
   "id": "693aa97c-3ee2-4cbd-bc06-7cb224e8bc86",
   "metadata": {
    "ExecuteTime": {
     "end_time": "2024-11-25T17:40:32.582785Z",
     "start_time": "2024-11-22T15:23:03.197290Z"
    }
   },
   "outputs": [
    {
     "data": {
      "text/plain": [
       "<stable_baselines3.ppo.ppo.PPO at 0x3197994e0>"
      ]
     },
     "execution_count": 169,
     "metadata": {},
     "output_type": "execute_result"
    }
   ],
   "source": [
    "# Your code here\n",
    "erudite_policy_real_env = PPO(\n",
    "    \"MlpPolicy\",\n",
    "    delay_env,\n",
    "    tensorboard_log=\"./inverted_pendulum_tensorboard/\",\n",
    "    verbose=0,\n",
    ")\n",
    "\n",
    "erudite_policy_real_env.learn(\n",
    "    total_timesteps=1_000_000,\n",
    "    progress_bar=False,\n",
    "    tb_log_name=\"erudite-delayed-env\",\n",
    ")"
   ]
  },
  {
   "cell_type": "code",
   "execution_count": 93,
   "id": "12b4635b6de0d601",
   "metadata": {
    "ExecuteTime": {
     "end_time": "2024-11-25T17:40:32.582970Z",
     "start_time": "2024-11-16T17:35:34.339623Z"
    }
   },
   "outputs": [],
   "source": [
    "erudite_policy_real_env.save(\"pendulum_erudite_real_env\")"
   ]
  },
  {
   "cell_type": "code",
   "execution_count": 23,
   "id": "e7fddd1448fe5b8",
   "metadata": {
    "ExecuteTime": {
     "end_time": "2024-11-27T15:41:36.876586Z",
     "start_time": "2024-11-27T15:41:36.863693Z"
    }
   },
   "outputs": [],
   "source": [
    "erudite_policy_real_env = PPO.load(\"pendulum_erudite_real_env\", env=delay_env)"
   ]
  },
  {
   "cell_type": "code",
   "execution_count": 24,
   "id": "6b6e6e18eb1d8835",
   "metadata": {
    "ExecuteTime": {
     "end_time": "2024-11-27T15:41:37.850933Z",
     "start_time": "2024-11-27T15:41:37.786810Z"
    }
   },
   "outputs": [
    {
     "data": {
      "text/plain": [
       "<matplotlib.legend.Legend at 0x309b10490>"
      ]
     },
     "execution_count": 24,
     "metadata": {},
     "output_type": "execute_result"
    },
    {
     "data": {
      "image/png": "[encoded data removed]",
      "text/plain": [
       "<Figure size 640x480 with 1 Axes>"
      ]
     },
     "metadata": {},
     "output_type": "display_data"
    }
   ],
   "source": [
    "delay_episode = rollout_from_env(delay_env, policy_closure(erudite_policy_real_env))\n",
    "observations = np.array(delay_episode[::3])\n",
    "\n",
    "plt.plot(observations[:, :2])\n",
    "plt.legend(OBSERVATION_LEGEND)"
   ]
  },
  {
   "cell_type": "raw",
   "id": "48928906-bcd9-40d5-b17e-35fd06d6c6ac",
   "metadata": {},
   "source": [
    "== Your observations here =="
   ]
  },
  {
   "cell_type": "markdown",
   "id": "7c7e9a03e5bfe692",
   "metadata": {},
   "source": [
    "The performance of the new policy trained on the delayed environment seems to be very bad! Indeed, the maximum return that we can get during the training is around 30, which is very low compared to 1000. \n",
    "\n",
    "Moreover, according to the graphic above, the pitch and position of the pendulum are much far away from the initial position than in the case of an environment without delays. "
   ]
  },
  {
   "cell_type": "markdown",
   "id": "c0e2df30-259f-477a-ab14-d39c17e5f15f",
   "metadata": {},
   "source": [
    "## The Real Question 3: Why do delays degrade both runtime and training performance?\n",
    "\n",
    "Loss in runtime performance refers to the one we observed when executing a policy trained without delay on an environment with delays. Loss in training performance refers to the fact that, even when we train a new policy on the environment with delays, by the end of training it does not achieve maximum return."
   ]
  },
  {
   "cell_type": "raw",
   "id": "3b7459d5-93d0-49cb-85c7-2172e2b08073",
   "metadata": {},
   "source": [
    "== Your explanation here =="
   ]
  },
  {
   "cell_type": "markdown",
   "id": "fd1605e34df68ff1",
   "metadata": {},
   "source": [
    "- Runtime Performance:\n",
    "When a policy is trained in an environment without delays but is later deployed in an environment with delays, its assumptions about the timing of feedback become incorrect. Indeed, by the time an action is executed in the environment, the state of the environment may have already changed significantly, making the action suboptimal. The agent is essentially reacting to the past rather than the current state.\n",
    "\n",
    "\n",
    "- Training performance:\n",
    "The agent has to essentially learn a more complex mapping between observations, actions, and rewards, considering not only the immediate effects but also the delayed ones. This increased complexity can prevent the agent from achieving maximum return, even after extensive training."
   ]
  },
  {
   "cell_type": "markdown",
   "id": "e63a441a-a84d-49ab-aecc-7362dee66b91",
   "metadata": {},
   "source": [
    "Propose and implement a way to overcome this. Train the resulting policy in a variable called `iron_policy`."
   ]
  },
  {
   "cell_type": "markdown",
   "id": "a82d138e7a738c6c",
   "metadata": {},
   "source": [
    "A way to overcome this will be to augment observations with history to restore the Markov property"
   ]
  },
  {
   "cell_type": "code",
   "execution_count": 25,
   "id": "5d592089ef4e4b4f",
   "metadata": {
    "ExecuteTime": {
     "end_time": "2024-11-27T15:41:44.648126Z",
     "start_time": "2024-11-27T15:41:44.644886Z"
    }
   },
   "outputs": [],
   "source": [
    "import gymnasium as gym\n",
    "from gymnasium.wrappers import FrameStack\n",
    "\n",
    "corrected_delay_env = FrameStack(delay_env, num_stack=4)"
   ]
  },
  {
   "cell_type": "code",
   "execution_count": 42,
   "id": "6ec45d1cdc8f5b51",
   "metadata": {
    "ExecuteTime": {
     "end_time": "2024-11-27T15:13:09.106352Z",
     "start_time": "2024-11-27T15:03:15.784408Z"
    }
   },
   "outputs": [
    {
     "data": {
      "text/plain": [
       "<stable_baselines3.ppo.ppo.PPO at 0x30a6960e0>"
      ]
     },
     "execution_count": 42,
     "metadata": {},
     "output_type": "execute_result"
    }
   ],
   "source": [
    "# Your code here\n",
    "iron_policy = PPO(\n",
    "    \"MlpPolicy\",\n",
    "    corrected_delay_env,\n",
    "    tensorboard_log=\"./inverted_pendulum_tensorboard/\",\n",
    "    verbose=0,\n",
    ")\n",
    "\n",
    "iron_policy.learn(\n",
    "    total_timesteps=1_000_000,\n",
    "    progress_bar=False,\n",
    "    tb_log_name=\"erudite-corrected-delayed-env\",\n",
    ")"
   ]
  },
  {
   "cell_type": "code",
   "execution_count": 43,
   "id": "5a7a876f-e78e-47bb-9b42-9423618d1e42",
   "metadata": {
    "ExecuteTime": {
     "end_time": "2024-11-27T15:13:16.742593Z",
     "start_time": "2024-11-27T15:13:16.733631Z"
    }
   },
   "outputs": [],
   "source": [
    "iron_policy.save(\"iron_policy\")"
   ]
  },
  {
   "cell_type": "code",
   "execution_count": 26,
   "id": "67239ebe455dc834",
   "metadata": {
    "ExecuteTime": {
     "end_time": "2024-11-27T15:42:18.585804Z",
     "start_time": "2024-11-27T15:42:18.570116Z"
    }
   },
   "outputs": [],
   "source": [
    "iron_policy = PPO.load(\"iron_policy\", env = corrected_delay_env)"
   ]
  },
  {
   "cell_type": "markdown",
   "id": "d2a70b63-7fda-4c0f-b777-ef0dc2128ab2",
   "metadata": {},
   "source": [
    "Roll out an episode and plot the outcome to show that your policy handles delays properly."
   ]
  },
  {
   "cell_type": "code",
   "execution_count": 27,
   "id": "45f13a2b-6a1c-4d44-bb84-2fffaf6bf6e3",
   "metadata": {
    "ExecuteTime": {
     "end_time": "2024-11-27T15:42:20.228758Z",
     "start_time": "2024-11-27T15:42:20.068352Z"
    }
   },
   "outputs": [
    {
     "data": {
      "text/plain": [
       "<matplotlib.legend.Legend at 0x30812e1d0>"
      ]
     },
     "execution_count": 27,
     "metadata": {},
     "output_type": "execute_result"
    },
    {
     "data": {
      "image/png": "[encoded data removed]",
      "text/plain": [
       "<Figure size 640x480 with 1 Axes>"
      ]
     },
     "metadata": {},
     "output_type": "display_data"
    }
   ],
   "source": [
    "# Your episode rollout here\n",
    "corrected_delay_episode = rollout_from_env(corrected_delay_env, policy_closure(iron_policy))\n",
    "observations = np.array(corrected_delay_episode[::3])\n",
    "\n",
    "plt.plot(observations[:, 0, :2])\n",
    "plt.legend(OBSERVATION_LEGEND)"
   ]
  },
  {
   "cell_type": "markdown",
   "id": "1e12fcf1-88b9-4899-b79d-866c67e4a3f5",
   "metadata": {},
   "source": [
    "## Question 4: Can you improve sampling efficiency?\n",
    "\n",
    "This last question is open: what can you change in the pipeline to train a policy that achieves maximum return using less samples? Report on at least one thing that allowed you to train with less environment steps."
   ]
  },
  {
   "cell_type": "markdown",
   "id": "30a4d6b94251589f",
   "metadata": {},
   "source": [
    "== Your report here ==\n",
    "\n",
    "To improve sampling efficiency, we could try different things:\n",
    "\n",
    "- Normalize observations and actions between -1 and 1 to avoid sampled actions cluster around zero or saturate sampled actions \n",
    "- Prioritized Experience Replay (PER) : PER prioritizes transitions that have higher temporal-difference error, meaning the agent focuses on experiences where it made the largest prediction errors. These transitions are more likely to lead to significant updates in the policy. By sampling important transitions more frequently, the agent spends more time learning from crucial experiences, thus reducing the total number of environment steps needed to achieve good performance.\n",
    "- Reward shaping : is the use of small intermediate ‘fake’ rewards given to the learning agent that help it converge more quickly.\n",
    "\n"
   ]
  },
  {
   "cell_type": "markdown",
   "id": "131966f5-9524-4b44-9843-0c1a662ba2e1",
   "metadata": {},
   "source": [
    "Here is a state-of-the-art™ utility function if you want to experiment with scheduling some of the ``Callable[[float], float]`` [hyperparameters](https://stable-baselines3.readthedocs.io/en/master/modules/ppo.html#parameters):"
   ]
  },
  {
   "cell_type": "code",
   "execution_count": null,
   "id": "3de11ab9-2534-4723-8868-1582772d038c",
   "metadata": {},
   "outputs": [],
   "source": [
    "def affine_schedule(y_0: float, y_1: float):\n",
    "    \"\"\"Affine schedule as a function over the [0, 1] interval.\n",
    "\n",
    "    Args:\n",
    "        y_0: Function value at zero.\n",
    "        y_1: Function value at one.\n",
    "        \n",
    "    Returns:\n",
    "        Corresponding affine function.\n",
    "    \"\"\"\n",
    "    def schedule(x: float) -> float:\n",
    "        return y_0 + x * (y_1 - y_0)\n",
    "    return schedule"
   ]
  },
  {
   "cell_type": "markdown",
   "id": "b21d78dd-f80e-4183-8fa7-55c803e38404",
   "metadata": {},
   "source": [
    "And here is a wrapper template if you want to experiment with reward shaping:"
   ]
  },
  {
   "cell_type": "code",
   "execution_count": 29,
   "id": "2cf9a3ed-8f76-4fac-98f2-3a23df818deb",
   "metadata": {
    "ExecuteTime": {
     "end_time": "2024-11-27T16:49:01.620548Z",
     "start_time": "2024-11-27T16:49:01.616962Z"
    }
   },
   "outputs": [],
   "source": [
    "class CustomRewardWrapper(gym.Wrapper):\n",
    "   def __init__(self, env):\n",
    "        super().__init__(env)\n",
    "        # Tunable penalty coefficients\n",
    "        self.alpha = 20.0  # Penalty coefficient for pendulum angle\n",
    "        self.beta = 5   # Penalty coefficient for cart position\n",
    "        self.gamma = 1  # Penalty coefficient for cart velocity\n",
    "        self.delta = 1  # Penalty coefficient for pendulum angular velocity\n",
    "        self.survival_bonus = 1.0  # Reward for each time step of survival\n",
    "\n",
    "   def step(self, action):\n",
    "        observation, reward, terminated, truncated, info = self.env.step(action)\n",
    "        \n",
    "        position, angle, linear_velocity, angular_velocity = observation      \n",
    "        # Reward shaping formula\n",
    "        # Penalize angle (larger penalties for larger deviations from vertical)\n",
    "        angle_penalty = self.alpha * abs(angle)\n",
    "        \n",
    "        # Penalize cart position (keep cart near the center)\n",
    "        position_penalty = self.beta * abs(position)\n",
    "        \n",
    "        # Penalize high velocities (both for cart and pendulum)\n",
    "        velocity_penalty = self.gamma * abs(linear_velocity) + self.delta * abs(angular_velocity)\n",
    "        \n",
    "        # Total new reward is survival bonus + base reward - penalties\n",
    "        new_reward = reward + self.survival_bonus - (angle_penalty + position_penalty + velocity_penalty) # your formula here\n",
    "    \n",
    "        return observation, new_reward, terminated, truncated, info\n",
    "   \n",
    "less_samples_env = CustomRewardWrapper(env)"
   ]
  },
  {
   "cell_type": "code",
   "execution_count": 28,
   "id": "edf4fea371fbe111",
   "metadata": {
    "ExecuteTime": {
     "end_time": "2024-11-27T16:49:01.542825Z",
     "start_time": "2024-11-27T16:45:12.283556Z"
    }
   },
   "outputs": [
    {
     "data": {
      "text/plain": [
       "<stable_baselines3.ppo.ppo.PPO at 0x30e0cdc00>"
      ]
     },
     "execution_count": 28,
     "metadata": {},
     "output_type": "execute_result"
    }
   ],
   "source": [
    "erudite_policy_less_samples = PPO(\n",
    "    \"MlpPolicy\",\n",
    "    less_samples_env,\n",
    "    tensorboard_log=\"./inverted_pendulum_tensorboard/\",\n",
    "    verbose=0,\n",
    ")\n",
    "\n",
    "erudite_policy_less_samples.learn(\n",
    "    total_timesteps=1_000_000,\n",
    "    progress_bar=False,\n",
    "    tb_log_name=\"erudite_policy_less_samples\",\n",
    ")"
   ]
  },
  {
   "cell_type": "code",
   "execution_count": 31,
   "id": "d908fed614c55c6a",
   "metadata": {
    "ExecuteTime": {
     "end_time": "2024-11-27T19:56:22.196418Z",
     "start_time": "2024-11-27T19:56:22.066714Z"
    }
   },
   "outputs": [
    {
     "data": {
      "text/plain": [
       "<matplotlib.legend.Legend at 0x30e155c30>"
      ]
     },
     "execution_count": 31,
     "metadata": {},
     "output_type": "execute_result"
    },
    {
     "data": {
      "image/png": "[encoded data removed]",
      "text/plain": [
       "<Figure size 640x480 with 1 Axes>"
      ]
     },
     "metadata": {},
     "output_type": "display_data"
    }
   ],
   "source": [
    "corrected_delay_episode = rollout_from_env(less_samples_env, policy_closure(erudite_policy_less_samples))\n",
    "observations = np.array(corrected_delay_episode[::3])\n",
    "\n",
    "plt.plot(observations[:, :2])\n",
    "plt.legend(OBSERVATION_LEGEND)"
   ]
  },
  {
   "cell_type": "markdown",
   "id": "efb96de25b5cc135",
   "metadata": {},
   "source": [
    "The results seem to be a little better than before: the pitch and the position are closer to zero. However, the number of training needed to obtain these results is similar to the one obtained before"
   ]
  },
  {
   "cell_type": "markdown",
   "id": "2c4dd0df-6dc7-4d51-b29b-c77b49bde437",
   "metadata": {},
   "source": [
    "# Bonus: training a policy for a real robot\n",
    "\n",
    "This section is entirely optional and will only work on Linux or macOS. In this part, we follow the same training pipeline but with the open source software of [Upkie](https://hackaday.io/project/185729-upkie-wheeled-biped-robots)."
   ]
  },
  {
   "cell_type": "markdown",
   "id": "9634ff93-f09f-4e0a-8d0f-547848f3900b",
   "metadata": {},
   "source": [
    "## Setup\n",
    "\n",
    "<img src=\"https://user-images.githubusercontent.com/1189580/170496331-e1293dd3-b50c-40ee-9c2e-f75f3096ebd8.png\" style=\"height: 100px\" align=\"right\" />\n",
    "\n",
    "First, make sure you have a C++ compiler (setup one-liners: [Fedora](https://github.com/upkie/upkie/discussions/100), [Ubuntu](https://github.com/upkie/upkie/discussions/101)). You can run an Upkie simulation right from the command line. It won't install anything on your machine, everything will run locally from the repository:\n",
    "\n",
    "```console\n",
    "git clone https://github.com/upkie/upkie.git\n",
    "cd upkie\n",
    "git checkout fb9a0ab1f67a8014c08b34d7c0d317c7a8f71662\n",
    "./start_simulation.sh\n",
    "cd ..\n",
    "pip install upkie\n",
    "```\n",
    "\n",
    "**NB:** this tutorial is written for the specific commit checked out above. If some instructions don't work it's likely you forgot to check it out."
   ]
  },
  {
   "cell_type": "markdown",
   "id": "ba44abc0-f7e9-4c2b-9d4e-a3579213e138",
   "metadata": {},
   "source": [
    "## Stepping the environment\n",
    "\n",
    "If everything worked well, you should be able to step an environment as follows:"
   ]
  },
  {
   "cell_type": "code",
   "execution_count": null,
   "id": "acedf0d6-fc2f-43f4-9ff6-a8e12dbd7ae0",
   "metadata": {},
   "outputs": [],
   "source": [
    "import gymnasium as gym\n",
    "import upkie.envs\n",
    "\n",
    "upkie.envs.register()\n",
    "\n",
    "episode_return = 0.0\n",
    "with gym.make(\"UpkieGroundVelocity-v1\", frequency=200.0) as env:\n",
    "    observation, _ = env.reset()  # connects to the spine (simulator or real robot)\n",
    "    action = 0.0 * env.action_space.sample()\n",
    "    for step in range(1000):\n",
    "        pitch = observation[0]\n",
    "        action[0] = 10.0 * pitch  # 1D action: [ground_velocity]\n",
    "        observation, reward, terminated, truncated, _ = env.step(action)\n",
    "        episode_return += reward\n",
    "        if terminated or truncated:\n",
    "            observation, _ = env.reset()\n",
    "\n",
    "print(f\"We have stepped the environment {step + 1} times\")\n",
    "print(f\"The return of our episode is {episode_return}\")"
   ]
  },
  {
   "cell_type": "markdown",
   "id": "031343b5-cf94-46ae-98f3-a4c5ebbc037c",
   "metadata": {},
   "source": [
    "(If you see a message \"Waiting for spine /vulp to start\", it means the simulation is not running.)"
   ]
  },
  {
   "cell_type": "markdown",
   "id": "aecfd91f-676c-4d6f-beb0-a286dc681ae3",
   "metadata": {},
   "source": [
    "We can double-check the last observation from the episode:"
   ]
  },
  {
   "cell_type": "code",
   "execution_count": null,
   "id": "ed6d972f-4cc9-4005-b9a1-4a7433a19938",
   "metadata": {},
   "outputs": [],
   "source": [
    "def report_last_observation(observation):\n",
    "    print(\"The last observation of the episode is:\")\n",
    "    print(f\"- Pitch from torso to world: {observation[0]:.2} rad\")\n",
    "    print(f\"- Ground position: {observation[1]:.2} m\")\n",
    "    print(f\"- Angular velocity from torso to world in torso: {observation[2]:.2} rad/s\")\n",
    "    print(f\"- Ground velocity: {observation[3]:.2} m/s\")\n",
    "    \n",
    "report_last_observation(observation)"
   ]
  },
  {
   "cell_type": "markdown",
   "id": "d5a269e3-d876-4d05-88e5-b0d73be6f939",
   "metadata": {},
   "source": [
    "## Question B1: PID control\n",
    "\n",
    "Adapt your code from Question 1 to this environment:"
   ]
  },
  {
   "cell_type": "code",
   "execution_count": null,
   "id": "1e8e9f1e-f2a1-4a18-aa38-256a425d018c",
   "metadata": {},
   "outputs": [],
   "source": [
    "def policy_b1(observation):\n",
    "    return np.array([0.0])  # replace with your solution\n",
    "\n",
    "\n",
    "def run(policy, nb_steps: int):\n",
    "    episode_return = 0.0\n",
    "    with gym.make(\"UpkieGroundVelocity-v1\", frequency=200.0) as env:\n",
    "        observation, _ = env.reset()  # connects to the spine (simulator or real robot)\n",
    "        for step in range(nb_steps):\n",
    "            action = policy_b1(observation)\n",
    "            observation, reward, terminated, truncated, _ = env.step(action)\n",
    "            if terminated or truncated:\n",
    "                print(\"Fall detected!\")\n",
    "                return episode_return\n",
    "    report_last_observation(observation)\n",
    "    return episode_return\n",
    "\n",
    "\n",
    "episode_return = run(policy_b1, 1000)\n",
    "print(f\"The return of our episode is {episode_return}\")"
   ]
  },
  {
   "cell_type": "markdown",
   "id": "e999eb22-a94a-4a58-ac06-9a7dbc15a7ee",
   "metadata": {},
   "source": [
    "## Training a new policy\n",
    "\n",
    "The Upkie repository ships three agents based on PID control, model predictive control and reinforcement learning. We now focus on the latter, called the \"PPO balancer\".\n",
    "\n",
    "Check that you can run the training part by running, from the root of the repository:\n",
    "\n",
    "```\n",
    "./tools/bazel run //agents/ppo_balancer:train -- --nb-envs 1 --show\n",
    "```\n",
    "\n",
    "A simulation window should pop, and verbose output from SB3 should be printed to your terminal.\n",
    "\n",
    "By default, training data will be logged to `/tmp`. You can select a different output path by setting the `UPKIE_TRAINING_PATH` environment variable in your shell. For instance:\n",
    "\n",
    "```\n",
    "export UPKIE_TRAINING_PATH=\"${HOME}/src/upkie/training\"\n",
    "```\n",
    "\n",
    "Run TensorBoard from the training directory:\n",
    "\n",
    "```\n",
    "tensorboard --logdir ${UPKIE_TRAINING_PATH}  # or /tmp if you keep the default\n",
    "```\n",
    "\n",
    "Each training will be named after a word picked at random in an English dictionary."
   ]
  },
  {
   "cell_type": "markdown",
   "id": "a7e47aad-7787-409c-af7e-b83bfccaa592",
   "metadata": {},
   "source": [
    "## Selecting the number of processes\n",
    "\n",
    "We can increase the number of parallel CPU environments ``--nb-envs`` to a value suitable to your computer. Let training run for a minute and check `time/fps`. Increase the number of environments and compare the stationary regime of `time/fps`. You should see a performance increase when adding the first few environments, followed by a declined when there are two many parallel processes compared to your number of CPU cores. Pick the value that works best for you."
   ]
  },
  {
   "cell_type": "markdown",
   "id": "696a0943-cc10-4cd0-a2d8-d5313dbe37e5",
   "metadata": {},
   "source": [
    "## Running a trained policy\n",
    "\n",
    "Copy the file `final.zip` from your trained policy directory to `agents/ppo_balancer/policy/params.zip`. Start a simulation and run the policy by:\n",
    "\n",
    "```\n",
    "./tools/bazel run //agents/ppo_balancer\n",
    "```\n",
    "\n",
    "What kind of behavior do you observe?"
   ]
  },
  {
   "cell_type": "raw",
   "id": "eaabe73c-f412-44b5-a714-241077720d01",
   "metadata": {},
   "source": [
    "== Your observations here =="
   ]
  },
  {
   "cell_type": "markdown",
   "id": "6c356c81-b5ef-4364-a5db-c8e2600e104a",
   "metadata": {},
   "source": [
    "## Question B2: Improve this baseline"
   ]
  },
  {
   "cell_type": "markdown",
   "id": "527ecb8c-7292-432f-b0d3-b90c36de8719",
   "metadata": {},
   "source": [
    "The policy you are testing here is not the one we saw in class. Open question: improve on it using any of the methods we discussed. Measure the improvement by `ep_len_mean` or any other quantitative criterion:"
   ]
  },
  {
   "cell_type": "raw",
   "id": "ce7d720b-17b8-493d-8128-e66c6571d3ff",
   "metadata": {},
   "source": [
    "== Your experiments here ==\n",
    "\n",
    "- Tried: ... / Measured outcome: ..."
   ]
  },
  {
   "cell_type": "code",
   "execution_count": 32,
   "id": "c598079b1bb8ef74",
   "metadata": {
    "ExecuteTime": {
     "end_time": "2024-11-27T19:59:11.010109Z",
     "start_time": "2024-11-27T19:59:10.017118Z"
    }
   },
   "outputs": [
    {
     "name": "stdout",
     "output_type": "stream",
     "text": [
      "Currently running servers:\r\n",
      "http://localhost:8888/?token=9c63c08f201d72fbf05406531a758e5cb60a21d08a70c95c :: /Users/mjolif/Documents/A-MVA/S1/Robotics/2024_mva_robotics_exercises\r\n"
     ]
    }
   ],
   "source": [
    "!jupyter server list"
   ]
  }
 ],
 "metadata": {
  "kernelspec": {
   "display_name": "Python 3 (ipykernel)",
   "language": "python",
   "name": "python3"
  },
  "language_info": {
   "codemirror_mode": {
    "name": "ipython",
    "version": 3
   },
   "file_extension": ".py",
   "mimetype": "text/x-python",
   "name": "python",
   "nbconvert_exporter": "python",
   "pygments_lexer": "ipython3",
   "version": "3.10.15"
  }
 },
 "nbformat": 4,
 "nbformat_minor": 5
}
