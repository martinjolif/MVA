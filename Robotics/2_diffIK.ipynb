{
 "cells": [
  {
   "cell_type": "markdown",
   "metadata": {},
   "source": [
    "# Inverse kinematics\n",
    "This notebook considers the problem of inverse kinematics, ie solving at each control cycle of the robot a quadratic program from the derivatives (jacobian) of the current state. It introduces the basic function to compute the Jacobians of the robot, and how to use them to compute an inverse-kinematics control law. One of the key difficulties is to understand in which frames each quantities is computed (might be in the world frame, in the local frame attached to the end effector, in some arbitrary goal frame, etc), as we should never mixed quantities expressed in different frames without transporting them in the right frame. \n"
   ]
  },
  {
   "cell_type": "code",
   "execution_count": 170,
   "metadata": {
    "ExecuteTime": {
     "end_time": "2024-10-27T21:11:32.029578Z",
     "start_time": "2024-10-27T21:11:32.024612Z"
    }
   },
   "outputs": [
    {
     "name": "stdout",
     "output_type": "stream",
     "text": [
      "NB: as for all the tutorials, a magic command %do_not_load is introduced to hide the solutions to some questions. Change it for %load if you want to see (and execute) the solution.\n"
     ]
    }
   ],
   "source": [
    "import magic_donotload  # noqa: F401"
   ]
  },
  {
   "cell_type": "markdown",
   "metadata": {},
   "source": [
    "## Set up\n",
    "We will MeshCat for visualization and NumPy for linear algebra. Note that the [@ operator](https://numpy.org/doc/stable/reference/routines.linalg.html#the-operator) is a way to compute the matrix (dot) product between two NumPy arrays, similar to ``np.dot(A, B)``."
   ]
  },
  {
   "cell_type": "code",
   "execution_count": 171,
   "metadata": {
    "ExecuteTime": {
     "end_time": "2024-10-27T21:11:37.797867Z",
     "start_time": "2024-10-27T21:11:37.793694Z"
    }
   },
   "outputs": [],
   "source": [
    "import pinocchio as pin\n",
    "import numpy as np\n",
    "import time\n",
    "from numpy.linalg import pinv,inv,norm,svd,eig\n",
    "from tp2.tiago_loader import loadTiago\n",
    "import matplotlib.pylab as plt; plt.ion()\n",
    "from utils.meshcat_viewer_wrapper import MeshcatVisualizer"
   ]
  },
  {
   "cell_type": "markdown",
   "metadata": {},
   "source": [
    "We will use the [Tiago](https://youtu.be/6BwRqwD066g) robot, a mobile manipulator from PAL Robotics:"
   ]
  },
  {
   "cell_type": "code",
   "execution_count": 172,
   "metadata": {
    "ExecuteTime": {
     "end_time": "2024-10-27T21:11:39.801871Z",
     "start_time": "2024-10-27T21:11:38.983454Z"
    }
   },
   "outputs": [
    {
     "name": "stdout",
     "output_type": "stream",
     "text": [
      "You can open the visualizer by visiting the following URL:\n",
      "http://127.0.0.1:7004/static/\n"
     ]
    }
   ],
   "source": [
    "robot = loadTiago()\n",
    "viz = MeshcatVisualizer(robot)"
   ]
  },
  {
   "cell_type": "markdown",
   "metadata": {},
   "source": [
    "Click on the link above to open the viewer in a separate window, or execute the following cell to embed the viewer here:"
   ]
  },
  {
   "cell_type": "code",
   "execution_count": 173,
   "metadata": {
    "ExecuteTime": {
     "end_time": "2024-10-27T21:11:45.427587Z",
     "start_time": "2024-10-27T21:11:45.424467Z"
    }
   },
   "outputs": [
    {
     "data": {
      "text/html": [
       "\n",
       "            <div style=\"height: 400px; width: 100%; overflow-x: auto; overflow-y: hidden; resize: both\">\n",
       "            <iframe src=\"http://127.0.0.1:7004/static/\" style=\"width: 100%; height: 100%; border: none\"></iframe>\n",
       "            </div>\n",
       "            "
      ],
      "text/plain": [
       "<IPython.core.display.HTML object>"
      ]
     },
     "execution_count": 173,
     "metadata": {},
     "output_type": "execute_result"
    }
   ],
   "source": [
    "viz.viewer.jupyter_cell()"
   ]
  },
  {
   "cell_type": "markdown",
   "metadata": {},
   "source": [
    "Tiago consists of:\n",
    "\n",
    "- A mobile base that can move in the plane (the corresponding joint will be a *floating base* in $SE(2)$, thus with three degrees of freedom).\n",
    "- A manipulator arm (seven DOFs).\n",
    "- An articulated head (two DOFs).\n",
    "- A prismatic axis moving vertically (one DOF), on which arm and head are mounted.\n",
    "- Two extra joints to represent the wheels under the mobile base (two DOFs), which we won't use in this tutorial.\n",
    "\n",
    "The wheel and the base rotations are represented by the vector $[\\cos \\theta\\ \\sin \\theta]$ corresponding to their angle $\\theta$. This choice of representation results in a larger vector, subject to the constraint $\\cos(\\theta)^2 + \\sin(\\theta)^2 = 1$, but with no discontinuity at the boundary of the angular interval chosen to select a unique angle. The dimension of the configuration space (equivalently, the size of the configuration vector) is then:\n",
    "\n",
    "| Joint          | DOFs | Dim. of config. repr. | Dim. of tangent repr. |\n",
    "|----------------|------|-----------------------|-----------------------|\n",
    "| Mobile base    | 3    | 4  | 3 |\n",
    "| Manipulator    | 7    | 7  | 7 |\n",
    "| Head           | 2    | 2  | 2 |\n",
    "| Prismatic axis | 1    | 1  | 1 |\n",
    "| Wheels         | 2    | 4  | 2 |\n",
    "| **Total**      | **15** | **18** | **15** |\n",
    "\n",
    "You can check these values in ``robot.model.nq`` and ``robot.model.nv``.\n",
    "\n",
    "The configuration is represented by a vector of larger dimension, subject to constraints $\\cos(\\theta)^2 + \\sin(\\theta)^2 = 1$. It is not possible to randomly sample a configuration vector $q$ using the distributions from NumPy, as the results won't respect these constraints. Similarly, we should take care when integrating velocities, as summing a configuration $q$ with a velocity $v$ is undefined (dimensions don't match). Two functions in Pinocchio implements these functionnalities."
   ]
  },
  {
   "cell_type": "code",
   "execution_count": 174,
   "metadata": {
    "ExecuteTime": {
     "end_time": "2024-10-27T21:11:48.907340Z",
     "start_time": "2024-10-27T21:11:48.904071Z"
    }
   },
   "outputs": [],
   "source": [
    "q = pin.randomConfiguration(robot.model)\n",
    "vq = np.random.rand(robot.model.nv)*2 - 1\n",
    "DT = 1e-3\n",
    "qnext = pin.integrate(robot.model,q,vq*DT)"
   ]
  },
  {
   "cell_type": "markdown",
   "metadata": {},
   "source": [
    "Here is a simple example where we move the robot in the viewer following a constant (random) velocity:"
   ]
  },
  {
   "cell_type": "code",
   "execution_count": 175,
   "metadata": {
    "ExecuteTime": {
     "end_time": "2024-10-27T21:11:58.354948Z",
     "start_time": "2024-10-27T21:11:50.485838Z"
    }
   },
   "outputs": [],
   "source": [
    "for t in range(1000):\n",
    "    q = pin.integrate(robot.model,q,vq*DT)\n",
    "    viz.display(q)\n",
    "    time.sleep(DT/10)"
   ]
  },
  {
   "cell_type": "markdown",
   "metadata": {},
   "source": [
    "The robot is mobile, hence the camera view in the viewer is not always centered. Also, don't worry if you see the torso fly above the prismatic joint: we are not including joint limits yet 😉"
   ]
  },
  {
   "cell_type": "markdown",
   "metadata": {},
   "source": [
    "## Forward kinematics and Jacobian\n",
    "\n",
    "Here's a quick recap on forward kinematics. Let's consider two frames of interest: the first one, named \"frametool\" is at the tip of the end-effector; the second one, named \"framebasis\", is at the fore of the robot's mobile base, 10 cm above the ground. Both are represented in MeshCat by a triad of RGB arrows:"
   ]
  },
  {
   "cell_type": "code",
   "execution_count": 176,
   "metadata": {
    "ExecuteTime": {
     "end_time": "2024-10-27T21:11:58.360280Z",
     "start_time": "2024-10-27T21:11:58.358425Z"
    }
   },
   "outputs": [],
   "source": [
    "IDX_TOOL = robot.model.getFrameId('frametool')\n",
    "IDX_BASIS = robot.model.getFrameId('framebasis')"
   ]
  },
  {
   "cell_type": "code",
   "execution_count": 177,
   "metadata": {
    "ExecuteTime": {
     "end_time": "2024-10-27T21:11:58.374037Z",
     "start_time": "2024-10-27T21:11:58.369965Z"
    }
   },
   "outputs": [
    {
     "data": {
      "text/plain": [
       "Frame name: frametool paired to (parent joint/ previous frame)(9/52)\n",
       "with relative placement wrt parent joint:\n",
       "  R =\n",
       "1 0 0\n",
       "0 1 0\n",
       "0 0 1\n",
       "  p =    0    0 0.08\n",
       "containing inertia:\n",
       "  m = 0\n",
       "  c = 0 0 0\n",
       "  I = \n",
       "0 0 0\n",
       "0 0 0\n",
       "0 0 0"
      ]
     },
     "execution_count": 177,
     "metadata": {},
     "output_type": "execute_result"
    }
   ],
   "source": [
    "robot.model.frames[IDX_TOOL]"
   ]
  },
  {
   "cell_type": "markdown",
   "metadata": {},
   "source": [
    "The `frames` vector in a `robot.model` contains relative placements in $SE(3)$: ``frames[i]`` gives the placement from frame $i$ to its parent frame in the kinematic tree. If the frame is that of a link rather than a joint, it will also contain non-zero inertias."
   ]
  },
  {
   "cell_type": "markdown",
   "metadata": {},
   "source": [
    "### Computing frame placement\n",
    "\n",
    "The global placement of the frames is computed by the Pinocchio function `framesForwardKinematics`, whose results are stored in `robot.data.oMf`. Read `oMf` as ${}^0 M_f$, where $0$ is the index of our inertial frame (*a.k.a.* the world frame)."
   ]
  },
  {
   "cell_type": "code",
   "execution_count": 178,
   "metadata": {
    "ExecuteTime": {
     "end_time": "2024-10-27T21:11:58.395190Z",
     "start_time": "2024-10-27T21:11:58.392412Z"
    }
   },
   "outputs": [
    {
     "name": "stdout",
     "output_type": "stream",
     "text": [
      "Tool placement:   R =\n",
      " 0.786829   -0.1214  0.605113\n",
      "-0.411681 -0.833702  0.368048\n",
      " 0.459803 -0.538705 -0.705959\n",
      "  p = -0.231358  -1.44814   1.23078\n",
      "\n",
      "Basis placement:   R =\n",
      " 0.519231  0.854634         0\n",
      "-0.854634  0.519231         0\n",
      "        0         0         1\n",
      "  p = -0.274601  -1.30347      0.15\n",
      "\n"
     ]
    }
   ],
   "source": [
    "pin.framesForwardKinematics(robot.model, robot.data, q)\n",
    "\n",
    "oMtool = robot.data.oMf[IDX_TOOL]\n",
    "oMbasis = robot.data.oMf[IDX_BASIS]\n",
    "\n",
    "print(\"Tool placement:\",oMtool)\n",
    "print(\"Basis placement:\",oMbasis)"
   ]
  },
  {
   "cell_type": "markdown",
   "metadata": {},
   "source": [
    "It is important to note the instruction pattern, which is standard in all Pinocchion functions: first, call an algorithm (here ``pin.framesForwardKinematics``); then, access the results in *robot.data*. Our `robot.model` contains the abstract structure (the model) of our robot, whereas `robot.data` contains a particular instance of that structure, populated by the algorithm for a given instance of configuration, velocity, etc."
   ]
  },
  {
   "cell_type": "markdown",
   "metadata": {},
   "source": [
    "The tool-placement matrix $^0M_{tool}$ represents the displacement between the tool frame $F_{tool}$ and the world frame $F_{world}$. It is the affine transform matrix that maps vectors expressed in $F_{tool}$ to their corresponding vectors expressed in $F_0$. It consists of a $3 \\times 3$ rotation matrix $^0 R_{tool}$, and a 3D position vector:\n",
    "\n",
    "$$\n",
    "^0T_{tool} = {}^0 (p_{tool} - p_{0}) = {}^0 p_{tool} - {}^0 p_{0} = {}^0 p_{tool}.\n",
    "$$\n",
    "\n",
    "This is the vector from the origin of frame $F_0$ to the origin of frame $F_{tool}$, expressed in the world frame $F_0$. We can also express $p_{tool} - p_{0}$ in the tool frame $F_{tool}$ by multiplying $^0T_{tool}$ by ${}^{tool} R _0 = {}^{0}R_{tool}^T$:\n",
    "\n",
    "$$\n",
    "{}^{tool} (p_{tool} - p_0) = - {}^{tool}p_0 = R_0 {}^0 T_{tool}.\n",
    "$$"
   ]
  },
  {
   "cell_type": "markdown",
   "metadata": {},
   "source": [
    "Take care with the multiplication operator in NumPy: the operator ``*`` is (unintuitively) mapped to the coefficient-wise multiplication (*a.k.a.* the [Hadamard product](Hadamard product)), that is, **not** the usual matrix multiplication. You should use the operator ``@`` to get an actual matrix-to-matrix dot product. (Or never mind: you will likely be tricked at least once by this, then remember it out of spite 😅) "
   ]
  },
  {
   "cell_type": "markdown",
   "metadata": {},
   "source": [
    "### Computing Jacobians\n",
    "The Jacobian of a frame of the robot is computed using `pin.computeFrameJacobian`:"
   ]
  },
  {
   "cell_type": "code",
   "execution_count": 179,
   "metadata": {
    "ExecuteTime": {
     "end_time": "2024-10-27T21:12:00.126708Z",
     "start_time": "2024-10-27T21:12:00.123278Z"
    }
   },
   "outputs": [
    {
     "data": {
      "text/plain": [
       "(6, 15)"
      ]
     },
     "execution_count": 179,
     "metadata": {},
     "output_type": "execute_result"
    }
   ],
   "source": [
    "Jtool = pin.computeFrameJacobian(robot.model, robot.data, q, IDX_TOOL)\n",
    "Jtool.shape"
   ]
  },
  {
   "cell_type": "markdown",
   "metadata": {},
   "source": [
    "This matrix has 6 rows and ``robot.model.nv == 15`` columns. It corresponds to the \"body\" 6D velocity of the end effector, that is, vectors in the image of this Jacobian matrix are expressed in $F_{tool}$ rather than in $F_0$. Let's first focus on the first three rows. Those correspond to the linear velocity of the tool frame, in the tool frame:"
   ]
  },
  {
   "cell_type": "code",
   "execution_count": 180,
   "metadata": {
    "ExecuteTime": {
     "end_time": "2024-10-27T21:12:01.702120Z",
     "start_time": "2024-10-27T21:12:01.699789Z"
    }
   },
   "outputs": [],
   "source": [
    "Jtool3 = Jtool[:3,:]"
   ]
  },
  {
   "cell_type": "markdown",
   "metadata": {},
   "source": [
    "#### Jacobian as a velocity operator\n",
    "A first way to understand what is this matrix is to see that as an operator that converts the velocity in the configuration space to the linear velocity of the tool:"
   ]
  },
  {
   "cell_type": "code",
   "execution_count": 181,
   "metadata": {
    "ExecuteTime": {
     "end_time": "2024-10-27T21:12:02.788387Z",
     "start_time": "2024-10-27T21:12:02.785968Z"
    }
   },
   "outputs": [],
   "source": [
    "vtool = Jtool3 @ vq"
   ]
  },
  {
   "cell_type": "markdown",
   "metadata": {},
   "source": [
    "But in which frame is $v_{tool}$ expressed? The choice in Pinocchio (following the principles described in [Rigid body dynamics algorithms](https://doi.org/10.1007/978-1-4899-7560-7)) is to express quantities in the local frame by default. Therefore, ``vtool`` here is ${}^{tool} v_{tool}$, expressed in the tool frame $F_{tool}$. We can compute the velocity in the world frame $F_0$ by applying the rotation matrix $^{0}R_{tool}$:"
   ]
  },
  {
   "cell_type": "code",
   "execution_count": 182,
   "metadata": {
    "ExecuteTime": {
     "end_time": "2024-10-27T21:12:04.688943Z",
     "start_time": "2024-10-27T21:12:04.686936Z"
    }
   },
   "outputs": [],
   "source": [
    "tool_vtool = vtool\n",
    "o_vtool = oMtool.rotation @ vtool"
   ]
  },
  {
   "cell_type": "markdown",
   "metadata": {},
   "source": [
    "The resulting velocity, that we denote by ${}^0 v_{tool}$ here, is ${}^{tool} v_{tool}$ rotated to the world frame."
   ]
  },
  {
   "cell_type": "code",
   "execution_count": 183,
   "metadata": {
    "ExecuteTime": {
     "end_time": "2024-10-27T21:12:07.012345Z",
     "start_time": "2024-10-27T21:12:07.009031Z"
    }
   },
   "outputs": [],
   "source": [
    "tool_Jtool = pin.computeFrameJacobian(robot.model, robot.data, q, IDX_TOOL, pin.LOCAL)\n",
    "tool_Jtool3 = tool_Jtool[:3,:]"
   ]
  },
  {
   "cell_type": "markdown",
   "metadata": {},
   "source": [
    "We are using long variable names here to keep track. (A common practice is to only shorten these variable names when their full meaning is clear from context.) We can generalize this notation to the Jacobian part dedidcated to linear velocity expressed in the world frame $F_0$:"
   ]
  },
  {
   "cell_type": "code",
   "execution_count": 184,
   "metadata": {
    "ExecuteTime": {
     "end_time": "2024-10-27T21:12:08.582766Z",
     "start_time": "2024-10-27T21:12:08.580943Z"
    }
   },
   "outputs": [],
   "source": [
    "o_Jtool3 = oMtool.rotation @ tool_Jtool3"
   ]
  },
  {
   "cell_type": "markdown",
   "metadata": {},
   "source": [
    "To be more precise, the relation between Jacobian, motion and frame is:\n",
    "$$\n",
    "^{tool}J_{tool} \\dot{q} = ^{tool}\\xi_{tool} = \\begin{bmatrix} ^{tool}v_{tool} \\\\ ^{tool}\\omega_{tool} \\end{bmatrix}\n",
    "$$\n",
    "Here ${}^{tool} \\xi_{tool}$ is the *twist* (the instantaneous rigid-body motion, including both linear and angular velocity) from frame $F_{tool}$ to frame $F_0$, expressed in $F_{tool}$ itself. Mathematically, twist is just a name for any element of the Lie algebra $\\mathfrak{se}(3)$. We can interpret $^{tool}v_{tool}$ as the point velocity of the origin of frame $F_{tool}$, expressed in itself, and $^{tool}\\omega_{tool}$ as the instaneous rotation axis/amplitude."
   ]
  },
  {
   "cell_type": "markdown",
   "metadata": {},
   "source": [
    "#### Adjoint operator\n",
    "\n",
    "We can also compute the twist ${}^0 w_{tool}$ in the world frame. Its formula is given by:\n",
    "$$\n",
    "{}^{0}\\xi_{tool} = {}^{0}J_{tool}\\dot{q} = {}^{0}X_{tool}{}^{tool}\\xi_{tool} = ({}^{0}X_{tool}{}^{tool}J_{tool}) \\dot{q}\n",
    "$$\n",
    "where $^{0}X_{tool}$ is the *adjoint operator* related to $[{}^{0}R_{tool}, {}^{0}T_{tool}]$ that allows us to change frame for elements of $\\mathfrak{se}(3)$.\n",
    "It express:\n",
    "$$\n",
    "{}^{0}X_{tool} = \\begin{bmatrix} ^{0}R_{tool} &  [{}^{0}T_{tool}]_\\times {}^{0}R_{tool} \\\\\n",
    "0 & {}^{0}R_{tool} \\end{bmatrix}\n",
    "$$\n",
    "Recall that $^{tool}\\xi_{tool} = [^{tool}v_{tool}, ^{tool}\\omega_{tool}]$. We calculate:\n",
    "$$\n",
    "^{0}\\xi_{tool} =  {}^{0}X_{tool}{}^{tool}\\xi_{tool} = [{}^{0}R_{tool}{}^{tool}v_{tool} + {}^{0}T_{tool} \\times {}^{0}R_{tool}{}^{tool}\\omega_{tool},  {}^0R_{tool}{}^{tool}\\omega_{tool}]\n",
    "$$\n",
    "And we have:\n",
    "$$\n",
    "^{0}\\xi_{tool}=[^0v_{tool} + {}^0T_{tool} \\times {}^{0}\\omega_{tool}, ^{0}\\omega_{tool}]\n",
    "$$\n",
    "Note here that the angular component of $^{0}\\xi_{tool}$ is indeed $^{0}\\omega_{tool}$, but the linear part of $^{0}\\xi_{tool}$ is **not** the vector $^0v_{tool}$ from above. Instead, the Varignon formula applies. The interpretation of the linear part of $^{0}\\xi_{tool}$ is a little tricky: it corresponds to the instantaneous velocity of a point of the tool frame that coincides with the origin of the world frame, expressed in the world frame."
   ]
  },
  {
   "cell_type": "markdown",
   "metadata": {},
   "source": [
    "#### Jacobian as a derivative of frame placements\n",
    "\n",
    "Previously, we saw Jacobians as operators transforming configuration velocities into twists. A second interpretation of is to observe that it is the derivative of forward kinematics with respect to $q$. For the three first colums, it is the derivative of the vector $^0T_{tool} = {}^0(o_{tool} - o_0)$ the tool position in world frame. Indeed $^0T_{tool}$ is a function of $q$, $^0T_{tool}(q)$ in full writing. We can take its derivative with respect to $q$, itself express in the world frame,  denoted ${}^{0}\\frac{\\partial {}^{0}T_{tool}}{\\partial q}$. This derivative is equal to the Jacobian expressed in the world frame $F_0$:\n",
    "$$\n",
    "\\vphantom{\\frac{\\partial}{\\partial}}^{0}\\frac{\\partial ^0T_{tool}}{\\partial q} = {}^{0}J_{tool}^{(3)}.\n",
    "$$\n",
    "The global Jacobian is the same for the whole motion expression, using the algebra of the Lie group $SE(3)$:\n",
    "\n",
    "$$\n",
    "^{tool}J_{tool}(q) u = \\vphantom{\\frac{\\partial}{\\partial}}^{tool}\\frac{\\partial {}^0M_{tool}}{\\partial q} u = \\lim_{t \\to 0^+}\\frac{^{0}M_{tool}(q \\oplus_{\\mathcal{C}} tu) \\ominus_{SE(3)} \\vphantom{.}^{0}M_{tool}(q)}{t}\n",
    "$$\n",
    "\n",
    "where the $\\oplus_{\\mathcal{C}}$ operator is the exponential on the configuration space $\\mathcal{C}$, implemented for us by Pinocchio's `pin.integrate(model, q, dq)` function. You can think of it by analogy with $SE(3)$:\n",
    "\n",
    "$$\n",
    "{}^{0} M_{tool} \\oplus_{SE(3)} {}^{tool} \\xi_{tool} = {}^0 M_{tool} \\exp({}^{tool} \\xi_{tool})\n",
    "$$\n",
    "\n",
    "The minus operator $\\ominus_{SE(3)}$ corresponds to the logarithm:\n",
    "\n",
    "$$\n",
    "{}^{0} M_{goal} \\ominus_{SE(3)} {}^0 M_{tool} = \\log({}^0 M_{tool}^{-1} {}^0 M_{goal}) = \\log({}^{tool} M_{goal})\n",
    "$$\n",
    "\n",
    "In this expression, the resulting vector $\\log({}^{tool} M_{goal})$ belongs to the tool frame $F_{tool}$ (informally, $\\log({}^b M_a)$ is in frame $b$). In Lie groups, be it $SE(3)$ to describe rigid-body transformations, or $\\mathcal{C}$ the configuration space of our robot, things don't commute. If we had taken ${}^{0} M_{tool} \\ominus_{SE(3)} {}^{0} M_{goal}$ instead, we would have obtained a twist in the goal frame.\n",
    "\n",
    "To convince ourselves of these observations, let's check finite differences. We can take a small displacement $\\delta q$, and check that the change in position ${}^0 T_{tool}(q + \\delta q)$ matches the linear prediction ${}^{0}J_{tool}^{(3)} \\delta q$:\n"
   ]
  },
  {
   "cell_type": "code",
   "execution_count": 185,
   "metadata": {
    "ExecuteTime": {
     "end_time": "2024-10-27T21:12:10.956243Z",
     "start_time": "2024-10-27T21:12:10.952584Z"
    }
   },
   "outputs": [
    {
     "name": "stdout",
     "output_type": "stream",
     "text": [
      "Full Jacobian in the tool frame:\n",
      "With a Jac: [ 0.26332998 -0.35975327  0.75134955  0.05765077  1.01637553  0.64406731]\n",
      "With a log: [ 0.26331892 -0.35972969  0.75135145  0.05764722  1.0163788   0.6440514 ]\n",
      "\n",
      "Origin velocity in the world frame:\n",
      "With a Jac: [ 0.70552126  0.46805226 -0.21554136]\n",
      "With a log: [ 0.70551084  0.46803784 -0.21556048]\n",
      "With fdiff: [ 0.70554051  0.46800678 -0.21553082]\n"
     ]
    }
   ],
   "source": [
    "# Sample between -0.001 and 0.001\n",
    "EPS = 1e-4\n",
    "u = (2 * np.random.rand(robot.model.nv) - 1)\n",
    "dq = u*EPS\n",
    "\n",
    "# q2 = q+dq\n",
    "q2 = pin.integrate(robot.model, q, dq)\n",
    "\n",
    "# tool position for q\n",
    "pin.framesForwardKinematics(robot.model,robot.data,q)\n",
    "o_M_tool = robot.data.oMf[IDX_TOOL].copy()\n",
    "o_T_tool = o_M_tool.translation\n",
    "\n",
    "# tool position for q+dq\n",
    "pin.framesForwardKinematics(robot.model,robot.data,q2)\n",
    "o_M_tool2 = robot.data.oMf[IDX_TOOL].copy()\n",
    "o_T_tool2 = o_M_tool2.translation\n",
    "\n",
    "print(\"Full Jacobian in the tool frame:\")\n",
    "print(f\"With a Jac: {tool_Jtool @ u}\")\n",
    "print(f\"With a log: {pin.log(o_M_tool.inverse() * o_M_tool2).vector / EPS}\")\n",
    "\n",
    "print(\"\\nOrigin velocity in the world frame:\")\n",
    "print(f\"With a Jac: {o_Jtool3 @ u}\")\n",
    "print(f\"With a log: {o_M_tool.rotation @ pin.log(o_M_tool.inverse() * o_M_tool2).linear / EPS}\")\n",
    "print(f\"With fdiff: {(o_T_tool2 - o_T_tool) / EPS}\")"
   ]
  },
  {
   "cell_type": "markdown",
   "metadata": {},
   "source": [
    "#### Frame options in Pinocchio\n",
    "\n",
    "Most algorithms accept an option to specify in wich frame the spatial quantity should be expressed. The two basic options are `pin.LOCAL` and `pin.WORLD`. When related to velocity, *LOCAL* is the linear velocity of the center of the local frame (the TOOL_IDX frame, here) and the angular velocity, both expressed in the local frame. With *WORLD* frame, this is the instantaneous motion expressed in the world frame. It is also composed of linear and angular velocity terms, but remember that the linear velocity term of a twist is different from classical linear velocity.\n",
    "\n",
    "Another option is provided for convenience, which gives the spatial velocity of the local frame, but the local frame axes aligned with the world frame. `pin.LOCAL_WORLD_ALIGNED` gives the linear velocity of the center of the local frame and the angular velocity, both expressed in the world frame. It is convenient especially when we are interested to consider the linear velocity as the derivative of the position. This is what we did above.\n",
    "\n",
    "To recap:\n",
    "- `pin.LOCAL` gives $^{tool}\\xi_{tool} = [^{tool}v_{tool}, ^{tool}\\omega_{tool}]$\n",
    "- `pin.WORLD` gives $^{0}\\xi_{tool} =\\vphantom{.}^{0}X_{tool}\\vphantom{.}^{tool}\\xi_{tool}=\\left(\\begin{array}{c|c} \n",
    "  ^0R_{tool} & [^0T_{tool}]_{\\times}\\vphantom{.}^0R_{tool} \\\\ \n",
    "  \\hline \n",
    "  0 & ^0R_{tool}\n",
    "\\end{array} \n",
    "\\right)\\vphantom{.}^{tool}\\xi_{tool} = [^0v_{tool} + {}^0T_{tool} \\times {}^{0}\\omega_{tool}, ^{0}\\omega_{tool}]$\n",
    "- `pin.LOCAL_WORLD_ALIGNED` gives $[^{0}v_{tool}, ^{0}\\omega_{tool}]=\\left(\n",
    "\\begin{array}{c|c} \n",
    "  ^0R_{tool} & 0 \\\\ \n",
    "  \\hline \n",
    "  0 & ^0R_{tool}\n",
    "\\end{array} \n",
    "\\right)\\vphantom{.}^{0}\\xi_{tool}$\n"
   ]
  },
  {
   "cell_type": "code",
   "execution_count": 186,
   "metadata": {
    "ExecuteTime": {
     "end_time": "2024-10-27T21:12:13.312032Z",
     "start_time": "2024-10-27T21:12:13.308139Z"
    }
   },
   "outputs": [
    {
     "name": "stdout",
     "output_type": "stream",
     "text": [
      "With spatial Jacobian:        [ 2.89883708  0.62595774  0.38254412  0.31170724 -0.63404042 -0.97570328]\n",
      "With adjoint * body Jacobian: [ 2.89883708  0.62595774  0.38254412  0.31170724 -0.63404042 -0.97570328]\n",
      "o_Jtool3 from body Jacobian:  [ 0.70558059  0.46799014 -0.21548204]\n",
      "Local-world-aligned Jacobian: [ 0.70552126  0.46805226 -0.21554136]\n"
     ]
    }
   ],
   "source": [
    "# 0_w_tool and tool_w_tool\n",
    "tool_Jtool = pin.computeFrameJacobian(robot.model,robot.data,q,IDX_TOOL, pin.LOCAL)\n",
    "o_Jtool = pin.computeFrameJacobian(robot.model,robot.data,q,IDX_TOOL, pin.WORLD)\n",
    "print(f\"With spatial Jacobian:        {o_Jtool @ u}\")\n",
    "print(f\"With adjoint * body Jacobian: {oMtool.action @ (tool_Jtool @ u)}\")\n",
    "\n",
    "# 0_v_tool and tool_w_tool\n",
    "o_Jtool3 = oMtool.rotation @ tool_Jtool[:3, :]\n",
    "new_o_Jtool3 = pin.computeFrameJacobian(robot.model,robot.data,q,IDX_TOOL, pin.LOCAL_WORLD_ALIGNED)[:3,:]\n",
    "print(f\"o_Jtool3 from body Jacobian:  {o_Jtool3 @ u}\")\n",
    "print(f\"Local-world-aligned Jacobian: {new_o_Jtool3 @ u}\")"
   ]
  },
  {
   "cell_type": "markdown",
   "metadata": {},
   "source": [
    "You can also check out [this video](https://www.youtube.com/watch?v=MLFtHLTprE4) for more illustrations on these three frame options."
   ]
  },
  {
   "cell_type": "markdown",
   "metadata": {},
   "source": [
    "## Inverse kinematics for the moving the robot effector\n",
    "We will first move only the robot end effector, to reach a target defined by a frame F_goal."
   ]
  },
  {
   "cell_type": "code",
   "execution_count": 187,
   "metadata": {
    "ExecuteTime": {
     "end_time": "2024-10-27T21:12:15.029970Z",
     "start_time": "2024-10-27T21:12:15.025941Z"
    }
   },
   "outputs": [],
   "source": [
    "# Goal placement, and integration in the viewer of the goal.\n",
    "oMgoal = pin.SE3(pin.Quaternion(-0.5, 0.58, -0.39, 0.52).normalized().matrix(), np.array([1.2, .4, .7]))\n",
    "viz.addBox('goal', [.1,.1,.1], [ .1,.1,.5, .6])\n",
    "viz.applyConfiguration('goal',oMgoal)"
   ]
  },
  {
   "cell_type": "code",
   "execution_count": 188,
   "metadata": {
    "ExecuteTime": {
     "end_time": "2024-10-27T21:12:16.167227Z",
     "start_time": "2024-10-27T21:12:16.163615Z"
    }
   },
   "outputs": [
    {
     "data": {
      "text/plain": [
       "(array([[ 0.16245416,  0.06700367,  0.9844385 ],\n",
       "        [-0.96382198, -0.20289424,  0.17286153],\n",
       "        [ 0.21131926, -0.97690554,  0.03161859]]),\n",
       " array([1.2, 0.4, 0.7]))"
      ]
     },
     "execution_count": 188,
     "metadata": {},
     "output_type": "execute_result"
    }
   ],
   "source": [
    "oMgoal.rotation, oMgoal.translation"
   ]
  },
  {
   "cell_type": "markdown",
   "metadata": {},
   "source": [
    "### Position the effector (3D)\n",
    "\n",
    "It is time to write your first control law. Write a for loop to simulate the control cycles of the robot. At each control cycle, you should:\n",
    "\n",
    "* compute the Jacobian 3D in the world frame `o_Jtool3`\n",
    "* compute the vector from the tool to the goal, expressed in world frame: `o_TG = o_goal - o_tool`\n",
    "* compute the control law as `vq = pinv(o_Jtool3) @ o_TG`\n",
    "* integrate this during a duration `DT` to get to a new configuration `q`.\n",
    "\n",
    "You might want to start from the following initial configuration, or from any random one.\n",
    "\n",
    "Note that [`numpy.linalg.pinv`](https://numpy.org/doc/stable/reference/generated/numpy.linalg.pinv.html) in `pinv(J)` computes $J^+$, the Moore-Penrose pseudo-inverse of $J$. Precisely, for any vector $e$, $J^+ e$ is the solution of the linear least square problem:\n",
    "$\\min_x \\|Jx - e\\|_2^2.$ (If $J$ is not full rank and there are multiple such solutions, it corresponds to the one of minimum L2 norm $\\| x \\|$.)"
   ]
  },
  {
   "cell_type": "code",
   "execution_count": 189,
   "metadata": {
    "ExecuteTime": {
     "end_time": "2024-10-27T21:12:18.077473Z",
     "start_time": "2024-10-27T21:12:18.060786Z"
    }
   },
   "outputs": [],
   "source": [
    "# Robot initial configuration\n",
    "q0 = np.array([ 0.  ,  0.  ,  1.  ,  0.  ,  0.18,  1.37, -0.24, -0.98,  0.98,\n",
    "                0.  ,  0.  ,  0.  ,  0.  , -0.13,  0.  ,  0.  ,  0.  ,  0.  ])\n",
    "DT = 1e-2  # seconds\n",
    "viz.display(q0)"
   ]
  },
  {
   "cell_type": "markdown",
   "metadata": {},
   "source": [
    "It is a good idea to store the values of the error between tool and goal (`o_TG`), to plot them later. For that, simply append each `o_TG` computed at every control cycle to a list:"
   ]
  },
  {
   "cell_type": "code",
   "execution_count": 190,
   "metadata": {
    "ExecuteTime": {
     "end_time": "2024-10-27T21:12:24.086059Z",
     "start_time": "2024-10-27T21:12:19.635477Z"
    }
   },
   "outputs": [],
   "source": [
    "q = q0.copy()\n",
    "herr = [] # Log the value of the error between tool and goal.\n",
    "\n",
    "for i in range(500):  # Integrate over 2 second of robot life\n",
    "    # REPLACE WITH YOUR CODE\n",
    "    o_Jtool3 = pin.computeFrameJacobian(robot.model,robot.data,q,IDX_TOOL, pin.LOCAL_WORLD_ALIGNED)[:3,:]\n",
    "    \n",
    "    o_goal = oMgoal.translation \n",
    "    o_tool = robot.data.oMf[IDX_TOOL].translation # = o_T_tool\n",
    "    o_TG = o_goal - o_tool\n",
    "    \n",
    "    vq = pinv(o_Jtool3) @ o_TG\n",
    "    q = pin.integrate(robot.model,q,vq*DT)\n",
    "\n",
    "    viz.display(q)\n",
    "    time.sleep(1e-3)\n",
    "\n",
    "    herr.append(o_TG) \n"
   ]
  },
  {
   "cell_type": "markdown",
   "metadata": {},
   "source": [
    "And the solution if you need it"
   ]
  },
  {
   "cell_type": "code",
   "execution_count": 32,
   "metadata": {
    "ExecuteTime": {
     "end_time": "2024-10-27T13:13:24.406549Z",
     "start_time": "2024-10-27T13:13:24.404622Z"
    }
   },
   "outputs": [],
   "source": [
    "%do_not_load tp2/generated/inverse_kinematics_3d_loop"
   ]
  },
  {
   "cell_type": "markdown",
   "metadata": {},
   "source": [
    "It is interesting to plot the behavior of the robot. If the error at each iteration has been stored as a list of 3x1 matrices, the following code plots it."
   ]
  },
  {
   "cell_type": "code",
   "execution_count": 191,
   "metadata": {
    "ExecuteTime": {
     "end_time": "2024-10-27T21:12:26.165971Z",
     "start_time": "2024-10-27T21:12:26.073848Z"
    }
   },
   "outputs": [
    {
     "data": {
      "image/png": "[encoded data removed]",
      "text/plain": [
       "<Figure size 640x480 with 1 Axes>"
      ]
     },
     "metadata": {},
     "output_type": "display_data"
    }
   ],
   "source": [
    "plt.plot(herr)\n",
    "plt.xlabel('control cycle (iter)')\n",
    "plt.ylabel('error (m)');"
   ]
  },
  {
   "cell_type": "markdown",
   "metadata": {},
   "source": [
    "We can observe that each component of the error converges to zero exponentially. The convergence is asymptotic. For faster convergence, increase the control law gain ($v_q = - \\lambda J^+ e$), where the gain $\\lambda$ was so far implicitly one."
   ]
  },
  {
   "cell_type": "markdown",
   "metadata": {},
   "source": [
    "### Place the end effector (6D)\n",
    "The previous control law brings the center of the effector toward the center of the goal frame. However, it does not control the orientation of the end effector: the axes of the two frames $F_{tool}$ and $F_{goal}$ do not converge.\n",
    "\n",
    "We now want to modify the control law to take into account both tool translation and tool orientation. For that, let us compute the error in $SE(3)$. We will use the full ${}^{0} J_{tool}$ rather than ${}^o J_{tool3}$, and compute the error vector as the generalized difference between the tool frame and the goal frame:\n",
    "\n",
    "$$^{tool}M_{goal} = \\vphantom{.}^{0}M_{tool}^{-1} \\vphantom{.}^{0}M_{goal}$$\n",
    "$$^{tool}\\xi_{goal} = \\vphantom{.}^{0}M_{tool} \\ominus_{SE(3)} \\vphantom{.}^{0}M_{tool} = \\log(^{tool}M_{goal})$$\n",
    "where $^{tool}\\xi_{goal}$ is a twist in the local frame."
   ]
  },
  {
   "cell_type": "code",
   "execution_count": 192,
   "metadata": {
    "ExecuteTime": {
     "end_time": "2024-10-27T21:12:30.432575Z",
     "start_time": "2024-10-27T21:12:30.430230Z"
    }
   },
   "outputs": [],
   "source": [
    "toolMgoal = oMtool.inverse() * oMgoal\n",
    "tool_w = pin.log(toolMgoal).vector"
   ]
  },
  {
   "cell_type": "code",
   "execution_count": 193,
   "metadata": {
    "ExecuteTime": {
     "end_time": "2024-10-27T21:12:31.841167Z",
     "start_time": "2024-10-27T21:12:31.837929Z"
    }
   },
   "outputs": [
    {
     "data": {
      "text/plain": [
       "array([ 1.41139684e-03, -4.70910369e-04,  3.35893240e-03, -2.70738294e-01,\n",
       "        8.14694267e-01,  1.63977504e+00])"
      ]
     },
     "execution_count": 193,
     "metadata": {},
     "output_type": "execute_result"
    }
   ],
   "source": [
    "tool_w"
   ]
  },
  {
   "cell_type": "markdown",
   "metadata": {},
   "source": [
    "This error `tool_w` is can be interpreted as the twist that should be applied during one second to displace the tool frame $F_{tool}$ (located at ${}^0 M_{tool}$) to the goal frame $F_{goal}$ (located at ${}^0 M_{goal}$).\n",
    "\n",
    "Implement a second control law, following the same pattern as with positions. At each control cycle, you should:\n",
    "\n",
    "* compute the displacement between $F_{tool}$ and $F_{goal}$, denoted by ``toolMgoal``\n",
    "* compute the error twist ``tool_w`` using the logarithm over $SE(3)$\n",
    "* compute the 6D Jacobian `tool_Jtool`\n",
    "* compute the control law `vq = pinv(J) @ nu`\n",
    "* integrate the robot velocity `vq` during `DT` to get to a new configuration `q`\n",
    "* log the error by storing it in a list `herr`."
   ]
  },
  {
   "cell_type": "code",
   "execution_count": 194,
   "metadata": {
    "ExecuteTime": {
     "end_time": "2024-10-27T21:12:33.347398Z",
     "start_time": "2024-10-27T21:12:33.335061Z"
    }
   },
   "outputs": [],
   "source": [
    "# Robot initial configuration\n",
    "q0 = np.array([ 0.  ,  0.  ,  1.  ,  0.  ,  0.18,  1.37, -0.24, -0.98,  0.98,\n",
    "                0.  ,  0.  ,  0.  ,  0.  , -0.13,  0.  ,  0.  ,  0.  ,  0.  ])\n",
    "DT = 1e-2  # seconds\n",
    "viz.display(q0)"
   ]
  },
  {
   "cell_type": "code",
   "execution_count": 195,
   "metadata": {
    "ExecuteTime": {
     "end_time": "2024-10-27T21:12:39.038516Z",
     "start_time": "2024-10-27T21:12:35.307336Z"
    }
   },
   "outputs": [],
   "source": [
    "# Your code\n",
    "q = q0.copy()\n",
    "herr = [] # Log the value of the error between tool and goal.\n",
    "\n",
    "for i in range(500):  # Integrate over 2 second of robot life\n",
    "    #update robot.data for the next line\n",
    "    pin.framesForwardKinematics(robot.model,robot.data,q)\n",
    "    \n",
    "    oMtool = robot.data.oMf[IDX_TOOL]\n",
    "    toolMgoal = oMtool.inverse() * oMgoal\n",
    "    \n",
    "    tool_w = pin.log(toolMgoal).vector\n",
    "    \n",
    "    tool_Jtool = pin.computeFrameJacobian(robot.model,robot.data,q,IDX_TOOL, pin.LOCAL)\n",
    "\n",
    "    vq = pinv(tool_Jtool) @ tool_w\n",
    "    \n",
    "    q = pin.integrate(robot.model,q,vq*DT)\n",
    "\n",
    "    viz.display(q)\n",
    "    time.sleep(1e-3)\n",
    "\n",
    "    herr.append(tool_w) "
   ]
  },
  {
   "cell_type": "markdown",
   "metadata": {},
   "source": [
    "And the solution:"
   ]
  },
  {
   "cell_type": "code",
   "execution_count": 196,
   "metadata": {
    "ExecuteTime": {
     "end_time": "2024-10-27T21:12:41.970419Z",
     "start_time": "2024-10-27T21:12:41.968183Z"
    }
   },
   "outputs": [],
   "source": [
    "%do_not_load tp2/generated/inverse_kinematics_6d_loop"
   ]
  },
  {
   "cell_type": "markdown",
   "metadata": {},
   "source": [
    "The tool frame $F_{tool}$ converges toward the gooal frame $F_{goal}$: the center and the axes are finally aligned. The trajectory of the tool center is not a straight line, as the frame $F_{tool}$ follows a \"straight\" line, not in $\\mathbb{R}^3$ but in $SE(3)$.\n",
    "We can also plot the error (assuming that herr is a list of the 6D errors herr)."
   ]
  },
  {
   "cell_type": "code",
   "execution_count": 197,
   "metadata": {
    "ExecuteTime": {
     "end_time": "2024-10-27T21:12:43.311246Z",
     "start_time": "2024-10-27T21:12:43.230017Z"
    }
   },
   "outputs": [
    {
     "data": {
      "text/plain": [
       "Text(0, 0.5, 'error (rad)')"
      ]
     },
     "execution_count": 197,
     "metadata": {},
     "output_type": "execute_result"
    },
    {
     "data": {
      "image/png": "[encoded data removed]",
      "text/plain": [
       "<Figure size 640x480 with 2 Axes>"
      ]
     },
     "metadata": {},
     "output_type": "display_data"
    }
   ],
   "source": [
    "plt.subplot(211)\n",
    "plt.plot([ e[:3] for e in herr])\n",
    "plt.xlabel('control cycle (iter)')\n",
    "plt.ylabel('error (m)')\n",
    "plt.subplot(212)\n",
    "plt.plot([ e[3:] for e in herr])\n",
    "plt.xlabel('control cycle (iter)')\n",
    "plt.ylabel('error (rad)')"
   ]
  },
  {
   "cell_type": "markdown",
   "metadata": {},
   "source": [
    "### Inverse kinematics with two tasks\n",
    "\n",
    "So far we controlled the robot with a single task, either the 3D position or 6D placement of the tool frame. Let's see how to take into account a second task: gaze control.\n",
    "\n",
    "#### Gaze control\n",
    "\n",
    "The robot has an additional frame, named $F_{gaze}$, attached to its head and located 40 cm in front of its cameras. The task will be to position (3D) the origin of this frame on an object of interest (a red ball)."
   ]
  },
  {
   "cell_type": "code",
   "execution_count": 198,
   "metadata": {
    "ExecuteTime": {
     "end_time": "2024-10-27T21:12:47.084836Z",
     "start_time": "2024-10-27T21:12:46.306704Z"
    }
   },
   "outputs": [
    {
     "name": "stdout",
     "output_type": "stream",
     "text": [
      "You can open the visualizer by visiting the following URL:\n",
      "http://127.0.0.1:7005/static/\n"
     ]
    }
   ],
   "source": [
    "robot = loadTiago(addGazeFrame=True)\n",
    "viz = MeshcatVisualizer(robot)"
   ]
  },
  {
   "cell_type": "code",
   "execution_count": 199,
   "metadata": {
    "ExecuteTime": {
     "end_time": "2024-10-27T21:12:51.811529Z",
     "start_time": "2024-10-27T21:12:51.800192Z"
    }
   },
   "outputs": [],
   "source": [
    "IDX_GAZE = robot.model.getFrameId('framegaze')\n",
    "\n",
    "# Add a small ball as a visual target to be reached by the robot\n",
    "ball = np.array([ 1.2,0.5,1.1 ])\n",
    "viz.addSphere('ball', .05, [ .8,.1,.5, .8])\n",
    "viz.applyConfiguration('ball', list(ball)+[0,0,0,1])\n",
    "\n",
    "# Add the box again\n",
    "oMgoal = pin.SE3(pin.Quaternion(-0.5, 0.58, -0.39, 0.52).normalized().matrix(), np.array([1.2, .4, .7]))\n",
    "viz.addBox('goal', [.1,.1,.1], [ .1,.1,.5, .6])\n",
    "viz.applyConfiguration('goal', oMgoal)"
   ]
  },
  {
   "cell_type": "code",
   "execution_count": 200,
   "metadata": {
    "ExecuteTime": {
     "end_time": "2024-10-27T21:12:53.193383Z",
     "start_time": "2024-10-27T21:12:53.164824Z"
    }
   },
   "outputs": [
    {
     "data": {
      "text/html": [
       "\n",
       "            <div style=\"height: 400px; width: 100%; overflow-x: auto; overflow-y: hidden; resize: both\">\n",
       "            <iframe src=\"http://127.0.0.1:7005/static/\" style=\"width: 100%; height: 100%; border: none\"></iframe>\n",
       "            </div>\n",
       "            "
      ],
      "text/plain": [
       "<IPython.core.display.HTML object>"
      ]
     },
     "execution_count": 200,
     "metadata": {},
     "output_type": "execute_result"
    }
   ],
   "source": [
    "viz.display(q0)\n",
    "viz.viewer.jupyter_cell()"
   ]
  },
  {
   "cell_type": "markdown",
   "metadata": {},
   "source": [
    "Controlling this point can be done by achieving a simple variation of the control law for positioning (3D) the robot tool:"
   ]
  },
  {
   "cell_type": "code",
   "execution_count": 201,
   "metadata": {
    "ExecuteTime": {
     "end_time": "2024-10-27T21:13:01.913982Z",
     "start_time": "2024-10-27T21:12:55.727265Z"
    }
   },
   "outputs": [],
   "source": [
    "# Your code\n",
    "q = q0.copy()\n",
    "herr = [] # Log the value of the error between tool and goal.\n",
    "\n",
    "for i in range(500):  # Integrate over 2 second of robot life\n",
    "    # REPLACE WITH YOUR CODE\n",
    "    o_Jgaze3 = pin.computeFrameJacobian(robot.model,robot.data,q,IDX_GAZE, pin.LOCAL_WORLD_ALIGNED)[:3,:]\n",
    "    \n",
    "    o_goal = ball \n",
    "    o_gaze = robot.data.oMf[IDX_GAZE].translation # = o_T_tool\n",
    "    o_GG = o_goal - o_gaze\n",
    "    \n",
    "    vq = pinv(o_Jgaze3) @ o_GG\n",
    "    q = pin.integrate(robot.model,q,vq*DT)\n",
    "\n",
    "    viz.display(q)\n",
    "    time.sleep(1e-3)\n",
    "\n",
    "    herr.append(o_GG) \n"
   ]
  },
  {
   "cell_type": "markdown",
   "metadata": {},
   "source": [
    "Here is the solution if you need it."
   ]
  },
  {
   "cell_type": "code",
   "execution_count": 104,
   "metadata": {
    "ExecuteTime": {
     "end_time": "2024-10-27T14:29:23.177845Z",
     "start_time": "2024-10-27T14:29:23.175544Z"
    }
   },
   "outputs": [],
   "source": [
    "%do_not_load tp2/generated/control_head_gaze_loop"
   ]
  },
  {
   "cell_type": "markdown",
   "metadata": {},
   "source": [
    "#### Multi-tasking\n",
    "\n",
    "We now have two tasks: $(e_1, J_1)$ for controlling the tool placement, and $(e_2, J_2)$ for controlling the gaze position. We can use the previous derivation to compute the optimal (in a least square sense) control for task 1:\n",
    "$$\n",
    "\\min_{x\\in \\mathbb{R}^n} \\|J_1 x - v_1^*\\|_2^2\n",
    "$$\n",
    "with solution:\n",
    "$$\n",
    "vq_1 = J_1^+ v_1^*\n",
    "$$\n",
    "\n",
    "We may now add to $vq_1$ any vector that lies is in the nullspace of $J_1$ to perform the second task. We thus search for $vq_2 = vq_1 + dvq_2$, where $dvq_2$ gives an optimal control for task 2 while constraining $dvq_2$ is in the nullspace of $J_1$.\n",
    "$$\n",
    "\\min_{x\\in Ker(J_1)} \\|J_2 (vq_1 + x) - v_2^*\\|_2^2\n",
    "$$\n",
    "The orthogonal nullspace projector of $J_1$ can be computed using the pseudoinverse:\n",
    "$$\n",
    "P_1 = I_{nv} - J_1^+ J_1\n",
    "$$\n",
    "Instead we can solve the problem:\n",
    "$$\n",
    "\\min_{x\\mathbb{R}^n} \\|J_2 (vq_1 + P_1 x) - v_2^*\\|_2^2\n",
    "$$\n",
    "with solution:\n",
    "$$\n",
    "dvq_2 = (J_2 P_1)^+ (v_2^* - J_2 vq_1)\n",
    "$$\n",
    "Finally, the control law to perform task 1 and task 2 in the nullspace of task 1 is:\n",
    "$$\n",
    "vq_2 = J_1^+ v_1^* + P_1 (J_2 P_1)^+ ( v_2^* - J_2 J_1^+ v_1^*)\n",
    "$$"
   ]
  },
  {
   "cell_type": "code",
   "execution_count": 202,
   "metadata": {
    "ExecuteTime": {
     "end_time": "2024-10-27T21:13:10.089771Z",
     "start_time": "2024-10-27T21:13:04.310171Z"
    }
   },
   "outputs": [],
   "source": [
    "q = q0.copy()\n",
    "herr = [] # Log the value of the error between tool and goal\n",
    "herr2 = [] # Log the value of the error between gaze and ball\n",
    "\n",
    "# Your code\n",
    "for i in range(500):  # Integrate over 2 second of robot life\n",
    "    #----------\n",
    "    #First task\n",
    "    #----------\n",
    "    #update robot.data for the next line\n",
    "    pin.framesForwardKinematics(robot.model,robot.data,q)\n",
    "    \n",
    "    oMtool = robot.data.oMf[IDX_TOOL]\n",
    "    toolMgoal = oMtool.inverse() * oMgoal\n",
    "    \n",
    "    tool_w = pin.log(toolMgoal).vector\n",
    "    \n",
    "    tool_Jtool = pin.computeFrameJacobian(robot.model,robot.data,q,IDX_TOOL, pin.LOCAL)\n",
    "\n",
    "    vq1 = pinv(tool_Jtool) @ tool_w\n",
    "    \n",
    "    #------------\n",
    "    #Second task\n",
    "    #------------\n",
    "    o_Jgaze3 = pin.computeFrameJacobian(robot.model,robot.data,q,IDX_GAZE, pin.LOCAL_WORLD_ALIGNED)[:3,:]\n",
    "    \n",
    "    o_goal = ball \n",
    "    o_gaze = robot.data.oMf[IDX_GAZE].translation # = o_T_tool\n",
    "    o_GG = o_goal - o_gaze\n",
    "    \n",
    "    P1 = np.eye(tool_Jtool.shape[1]) - pinv(tool_Jtool) @ tool_Jtool\n",
    "    \n",
    "    vq2 = vq1 + P1 @ pinv(o_Jgaze3 @ P1) @ (o_GG - o_Jgaze3 @ vq1)\n",
    "    \n",
    "    #---------\n",
    "    #update q\n",
    "    #---------\n",
    "    q = pin.integrate(robot.model,q,vq2*DT)\n",
    "    \n",
    "    viz.display(q)\n",
    "    time.sleep(1e-3)\n",
    "\n",
    "    herr.append(tool_w) \n",
    "    herr2.append(o_GG)"
   ]
  },
  {
   "cell_type": "markdown",
   "metadata": {},
   "source": [
    "Here is the solution:"
   ]
  },
  {
   "cell_type": "code",
   "execution_count": 113,
   "metadata": {
    "ExecuteTime": {
     "end_time": "2024-10-27T14:54:30.091736Z",
     "start_time": "2024-10-27T14:54:30.089839Z"
    }
   },
   "outputs": [],
   "source": [
    "%do_not_load tp2/generated/control_head_multi"
   ]
  },
  {
   "cell_type": "code",
   "execution_count": 203,
   "metadata": {
    "ExecuteTime": {
     "end_time": "2024-10-27T21:13:12.959268Z",
     "start_time": "2024-10-27T21:13:12.830970Z"
    }
   },
   "outputs": [
    {
     "data": {
      "text/plain": [
       "Text(0, 0.5, 'error (rad)')"
      ]
     },
     "execution_count": 203,
     "metadata": {},
     "output_type": "execute_result"
    },
    {
     "data": {
      "image/png": "[encoded data removed]",
      "text/plain": [
       "<Figure size 640x480 with 3 Axes>"
      ]
     },
     "metadata": {},
     "output_type": "display_data"
    }
   ],
   "source": [
    "plt.subplot(311)\n",
    "plt.plot([ e[:3] for e in herr])\n",
    "plt.xlabel('control cycle (iter)')\n",
    "plt.ylabel('error (m)')\n",
    "plt.subplot(312)\n",
    "plt.plot([ e[3:] for e in herr])\n",
    "plt.xlabel('control cycle (iter)')\n",
    "plt.ylabel('error (rad)');\n",
    "plt.subplot(313)\n",
    "plt.plot([ e for e in herr2])\n",
    "plt.xlabel('control cycle (iter)')\n",
    "plt.ylabel('error (rad)')"
   ]
  },
  {
   "cell_type": "markdown",
   "metadata": {},
   "source": [
    "## Extension to three tasks"
   ]
  },
  {
   "cell_type": "markdown",
   "metadata": {},
   "source": [
    "Note that the previous reasoning can be extended recursively and we have more than 2 tasks.\n",
    "\n",
    "A third task can be implemented as well by computing the nullspace of the two first tasks:"
   ]
  },
  {
   "cell_type": "code",
   "execution_count": 204,
   "metadata": {
    "ExecuteTime": {
     "end_time": "2024-10-27T21:13:30.264596Z",
     "start_time": "2024-10-27T21:13:30.260468Z"
    }
   },
   "outputs": [],
   "source": [
    "Ptool = P1 # as follows my notation from the previous cell, Ptool = P1"
   ]
  },
  {
   "cell_type": "code",
   "execution_count": 205,
   "metadata": {
    "ExecuteTime": {
     "end_time": "2024-10-27T21:13:31.588651Z",
     "start_time": "2024-10-27T21:13:31.585886Z"
    }
   },
   "outputs": [],
   "source": [
    "Pgaze = Ptool - pinv(o_Jgaze3 @ Ptool) @ o_Jgaze3 @ Ptool"
   ]
  },
  {
   "cell_type": "markdown",
   "metadata": {},
   "source": [
    "Load an extra cube in the viewer to figure a table. First, control the robot hand to reach an arbitrary point on the table (don't worry about collisions). Then, implement a control law to control three tasks:\n",
    "* The tool frame should be kept on the table (only the vertical component of the error matters, select the third row of the Jacobian and error accordingly).\n",
    "* The gaze should reach the position of a ball positionned on the table.\n",
    "* The center of the mobile base frame should reach a given goal on the floor. For this task, only the horizontal components (x- and y-) of the task matter, select only the first two rows of the Jacobian and error accordingly."
   ]
  },
  {
   "cell_type": "code",
   "metadata": {
    "ExecuteTime": {
     "end_time": "2024-10-27T21:26:09.337510Z",
     "start_time": "2024-10-27T21:26:09.310566Z"
    }
   },
   "source": [
    "viz.delete('goal')\n",
    "viz.delete('ball')\n",
    "viz.delete('ball_gaze')\n",
    "viz.delete('ball_floor')\n",
    "viz.delete('table')\n",
    "viz.delete('target_table')\n",
    "\n",
    "IDX_TOOL = robot.model.getFrameId('frametool')\n",
    "IDX_BASIS = robot.model.getFrameId('framebasis')\n",
    "\n",
    "# Robot initial configuration\n",
    "q0 = np.array([ 0.  ,  0.  ,  1.  ,  0.  ,  0.18,  1.37, -0.24, -0.98,  0.98,\n",
    "                0.  ,  0.  ,  0.  ,  0.  , -0.13,  0.  ,  0.  ,  0.  ,  0.  ])\n",
    "DT = 1e-2  # seconds\n",
    "viz.display(q0)"
   ],
   "outputs": [],
   "execution_count": 234
  },
  {
   "cell_type": "code",
   "metadata": {
    "ExecuteTime": {
     "end_time": "2024-10-27T21:26:10.495336Z",
     "start_time": "2024-10-27T21:26:10.486419Z"
    }
   },
   "source": [
    "# Goal placement, and integration in the viewer of the goal.\n",
    "table = np.array([1.2, 0.4, 0.7])\n",
    "viz.addBox('table', [.5,.6,.1], [ .1,.1,.5, .6])\n",
    "viz.applyConfiguration('table',list(table) + [0,0,0,1])\n",
    "\n",
    "# Add a small ball as a visual target to be reached by the robot\n",
    "IDX_GAZE = robot.model.getFrameId('framegaze')\n",
    "ball = np.array([ 1.1, 0.6, 0.8])\n",
    "viz.addSphere('ball_gaze', .05, [ .8,.1,.5, .8])\n",
    "viz.applyConfiguration('ball_gaze', list(ball)+[0,0,0,1])\n",
    "\n",
    "#goal to be reached on the table\n",
    "point_table = np.array([1.1, .25, .75]) \n",
    "viz.addSphere('target_table', .05, [ .6,.2,.2, .8])\n",
    "viz.applyConfiguration('target_table', list(point_table)+[0,0,0,1])\n",
    "oMtable = pin.SE3(pin.Quaternion(0, 0, -1, 0).normalized().matrix(), point_table)\n",
    "\n",
    "#goal to be reached on the floor\n",
    "point_floor = np.array([0.85, 0.6, 0.15]) \n",
    "viz.addSphere('ball_floor', .05, [ .3,.1,.5, .7])\n",
    "viz.applyConfiguration('ball_floor', list(point_floor)+[0,0,0,1])\n",
    "oMgoal = pin.SE3(pin.Quaternion(-1, 0, 0, 0).normalized().matrix(), point_floor)"
   ],
   "outputs": [],
   "execution_count": 235
  },
  {
   "cell_type": "markdown",
   "metadata": {},
   "source": [
    "First, control the robot hand to reach an arbitrary point on the table (don't worry about collisions):"
   ]
  },
  {
   "cell_type": "code",
   "metadata": {
    "ExecuteTime": {
     "end_time": "2024-10-27T21:34:38.779196Z",
     "start_time": "2024-10-27T21:34:31.926349Z"
    }
   },
   "source": [
    "q = q0.copy()\n",
    "herr = [] # Log the value of the error between tool and goal.\n",
    "\n",
    "for i in range(500):  # Integrate over 2 second of robot life\n",
    "    #update robot.data for the next line\n",
    "    pin.framesForwardKinematics(robot.model,robot.data,q)\n",
    "    \n",
    "    oMtool = robot.data.oMf[IDX_TOOL]\n",
    "    toolMtable = oMtool.inverse() * oMtable\n",
    "    \n",
    "    tool_w = pin.log(toolMtable).vector\n",
    "    \n",
    "    tool_Jtool = pin.computeFrameJacobian(robot.model,robot.data,q,IDX_TOOL, pin.LOCAL)\n",
    "\n",
    "    vq = pinv(tool_Jtool) @ tool_w\n",
    "    \n",
    "    q = pin.integrate(robot.model,q,vq*DT)\n",
    "\n",
    "    viz.display(q)\n",
    "    time.sleep(1e-3)\n",
    "\n",
    "    herr.append(tool_w) "
   ],
   "outputs": [],
   "execution_count": 270
  },
  {
   "cell_type": "markdown",
   "metadata": {},
   "source": [
    "Then, implement a control law to control three tasks"
   ]
  },
  {
   "cell_type": "markdown",
   "metadata": {},
   "source": [
    "First implementation without considering only the vertical component for the tool frame and the horizontal components for the mobile frame"
   ]
  },
  {
   "cell_type": "code",
   "metadata": {
    "ExecuteTime": {
     "end_time": "2024-10-27T21:34:45.550700Z",
     "start_time": "2024-10-27T21:34:38.783134Z"
    }
   },
   "source": [
    "herr = [] # Log the value of the error between tool and goal on table\n",
    "herr2 = [] # Log the value of the error between gaze and ball\n",
    "herr3 = [] # Log the value of the error between basis and goal on the floor\n",
    "\n",
    "# Your code\n",
    "for i in range(500):  # Integrate over 2 second of robot life\n",
    "    #----------\n",
    "    #First task\n",
    "    #----------\n",
    "    #update robot.data for the next line\n",
    "    pin.framesForwardKinematics(robot.model,robot.data,q)\n",
    "    \n",
    "    oMtool = robot.data.oMf[IDX_TOOL]\n",
    "    toolMtable = oMtool.inverse() * oMtable\n",
    "    \n",
    "    tool_w = pin.log(toolMtable).vector\n",
    "    \n",
    "    tool_Jtool = pin.computeFrameJacobian(robot.model,robot.data,q,IDX_TOOL, pin.LOCAL)\n",
    "\n",
    "    vq1 = pinv(tool_Jtool) @ tool_w\n",
    "    \n",
    "    #------------\n",
    "    #Second task\n",
    "    #------------\n",
    "    o_Jgaze3 = pin.computeFrameJacobian(robot.model,robot.data,q,IDX_GAZE, pin.LOCAL_WORLD_ALIGNED)[:3,:]\n",
    "    \n",
    "    o_goal = ball \n",
    "    o_gaze = robot.data.oMf[IDX_GAZE].translation \n",
    "    o_GG = o_goal - o_gaze\n",
    "    \n",
    "    P1 = np.eye(tool_Jtool.shape[1]) - pinv(tool_Jtool) @ tool_Jtool\n",
    "    \n",
    "    vq2 = vq1 + P1 @ pinv(o_Jgaze3 @ P1) @ (o_GG - o_Jgaze3 @ vq1)\n",
    "    \n",
    "    #------------\n",
    "    #Third task\n",
    "    #------------\n",
    "    o_Jbasis3 = pin.computeFrameJacobian(robot.model,robot.data,q,IDX_BASIS, pin.LOCAL_WORLD_ALIGNED)[:3,:]\n",
    "    \n",
    "    o_goal = point_floor \n",
    "    o_basis = robot.data.oMf[IDX_BASIS].translation \n",
    "    o_GB = o_goal - o_basis\n",
    "    \n",
    "    P2 = P1 - pinv(o_Jgaze3 @ P1) @ o_Jgaze3 @ P1\n",
    "    \n",
    "    vq3 = vq2 + P2 @ pinv(o_Jbasis3 @ P2) @ (o_GB - o_Jbasis3 @ vq2)\n",
    "    \n",
    "    #---------\n",
    "    #update q\n",
    "    #---------\n",
    "    q = pin.integrate(robot.model,q,vq3*DT)\n",
    "    \n",
    "    viz.display(q)\n",
    "    time.sleep(1e-3)\n",
    "\n",
    "    herr.append(tool_w) \n",
    "    herr2.append(o_GG)\n",
    "    herr3.append(o_GB)"
   ],
   "outputs": [],
   "execution_count": 271
  },
  {
   "metadata": {
    "ExecuteTime": {
     "end_time": "2024-10-27T21:34:54.355019Z",
     "start_time": "2024-10-27T21:34:54.178245Z"
    }
   },
   "cell_type": "code",
   "source": [
    "plt.subplot(311)\n",
    "plt.plot([ e[:3] for e in herr])\n",
    "plt.xlabel('control cycle (iter)')\n",
    "plt.ylabel('error (m)')\n",
    "plt.subplot(312)\n",
    "plt.plot([ e for e in herr2])\n",
    "plt.xlabel('control cycle (iter)')\n",
    "plt.ylabel('error (m)')\n",
    "plt.subplot(313)\n",
    "plt.plot([ e for e in herr3])\n",
    "plt.xlabel('control cycle (iter)')\n",
    "plt.ylabel('error (m)')"
   ],
   "outputs": [
    {
     "data": {
      "text/plain": [
       "Text(0, 0.5, 'error (m)')"
      ]
     },
     "execution_count": 273,
     "metadata": {},
     "output_type": "execute_result"
    },
    {
     "data": {
      "text/plain": [
       "<Figure size 640x480 with 3 Axes>"
      ],
      "image/png": "[encoded data removed]"
     },
     "metadata": {},
     "output_type": "display_data"
    }
   ],
   "execution_count": 273
  },
  {
   "cell_type": "markdown",
   "metadata": {},
   "source": [
    "Second implementation considering only the vertical component for the tool frame and only the horizontal components for the mobile frame"
   ]
  },
  {
   "cell_type": "code",
   "metadata": {
    "ExecuteTime": {
     "end_time": "2024-10-27T21:33:56.585186Z",
     "start_time": "2024-10-27T21:33:49.913464Z"
    }
   },
   "source": [
    "herr = []  # Log the value of the error between tool and goal on table\n",
    "herr2 = []  # Log the value of the error between gaze and ball\n",
    "herr3 = []  # Log the value of the error between basis and goal on the floor\n",
    "\n",
    "for i in range(500):  # Integrate over 2 second of robot life\n",
    "    #----------\n",
    "    #First task: Tool on table (only vertical component)\n",
    "    #----------\n",
    "    pin.framesForwardKinematics(robot.model, robot.data, q)\n",
    "    \n",
    "    # Get positions in world frame\n",
    "    o_tool = robot.data.oMf[IDX_TOOL].translation\n",
    "    o_target = oMtable.translation\n",
    "    \n",
    "    # Compute position error (only care about z component)\n",
    "    tool_err = o_target - o_tool\n",
    "    tool_err_z = np.array([tool_err[2]])  # Only vertical component\n",
    "    \n",
    "    tool_Jtool = pin.computeFrameJacobian(robot.model, robot.data, q, IDX_TOOL, pin.LOCAL_WORLD_ALIGNED)[:3, :]\n",
    "    # Get Jacobian (only z row)\n",
    "    tool_Jtool_z = pin.computeFrameJacobian(robot.model, robot.data, q, IDX_TOOL, pin.LOCAL_WORLD_ALIGNED)[2:3, :]\n",
    "\n",
    "    vq1 = pinv(tool_Jtool_z) @ tool_err_z\n",
    "    \n",
    "    #------------\n",
    "    #Second task: Gaze to ball (all components)\n",
    "    #------------\n",
    "    o_Jgaze3 = pin.computeFrameJacobian(robot.model, robot.data, q, IDX_GAZE, pin.LOCAL_WORLD_ALIGNED)[:3, :]\n",
    "    \n",
    "    o_goal = ball \n",
    "    o_gaze = robot.data.oMf[IDX_GAZE].translation \n",
    "    o_GG = o_goal - o_gaze\n",
    "    \n",
    "    # Project using only z-component of tool Jacobian\n",
    "    P1 = np.eye(tool_Jtool.shape[1]) - pinv(tool_Jtool) @ tool_Jtool\n",
    "    \n",
    "    vq2 = vq1 + P1 @ pinv(o_Jgaze3 @ P1) @ (o_GG - o_Jgaze3 @ vq1)\n",
    "    \n",
    "    #------------\n",
    "    #Third task: Base on floor (only x-y components)\n",
    "    #------------\n",
    "    # Select only x-y components of Jacobian\n",
    "    o_Jbasis3 = pin.computeFrameJacobian(robot.model, robot.data, q, IDX_BASIS, pin.LOCAL_WORLD_ALIGNED)[:2, :]\n",
    "    \n",
    "    o_goal = point_floor \n",
    "    o_basis = robot.data.oMf[IDX_BASIS].translation \n",
    "    # Select only x-y components of error\n",
    "    o_GB = o_goal[:2] - o_basis[:2]\n",
    "    \n",
    "    P2 = P1 - pinv(o_Jgaze3 @ P1) @ o_Jgaze3 @ P1\n",
    "    \n",
    "    vq3 = vq2 + P2 @ pinv(o_Jbasis3 @ P2) @ (o_GB - o_Jbasis3 @ vq2)\n",
    "    \n",
    "    #---------\n",
    "    #update q\n",
    "    #---------\n",
    "    q = pin.integrate(robot.model, q, vq3*DT)\n",
    "    \n",
    "    viz.display(q)\n",
    "    time.sleep(1e-3)\n",
    "\n",
    "    # Store the errors for logging\n",
    "    herr.append(tool_err)  # Vertical error for tool\n",
    "    herr2.append(o_GG)  # Full distance for gaze\n",
    "    herr3.append(o_GB)  # Horizontal distance for base"
   ],
   "outputs": [],
   "execution_count": 268
  },
  {
   "metadata": {
    "ExecuteTime": {
     "end_time": "2024-10-27T21:31:27.126828Z",
     "start_time": "2024-10-27T21:31:27.122299Z"
    }
   },
   "cell_type": "code",
   "source": "np.array([herr]).shape",
   "outputs": [
    {
     "data": {
      "text/plain": [
       "(1, 500, 3)"
      ]
     },
     "execution_count": 262,
     "metadata": {},
     "output_type": "execute_result"
    }
   ],
   "execution_count": 262
  },
  {
   "metadata": {
    "ExecuteTime": {
     "end_time": "2024-10-27T21:33:58.813528Z",
     "start_time": "2024-10-27T21:33:58.678952Z"
    }
   },
   "cell_type": "code",
   "source": [
    "plt.subplot(311)\n",
    "plt.plot([ e[2] for e in herr])\n",
    "plt.xlabel('control cycle (iter)')\n",
    "plt.ylabel('error (m)')\n",
    "plt.subplot(312)\n",
    "plt.plot([ e for e in herr2])\n",
    "plt.xlabel('control cycle (iter)')\n",
    "plt.ylabel('error (m)')\n",
    "plt.subplot(313)\n",
    "plt.plot([ e for e in herr3])\n",
    "plt.xlabel('control cycle (iter)')\n",
    "plt.ylabel('error (m)')"
   ],
   "outputs": [
    {
     "data": {
      "text/plain": [
       "Text(0, 0.5, 'error (m)')"
      ]
     },
     "execution_count": 269,
     "metadata": {},
     "output_type": "execute_result"
    },
    {
     "data": {
      "text/plain": [
       "<Figure size 640x480 with 3 Axes>"
      ],
      "image/png": "[encoded data removed]"
     },
     "metadata": {},
     "output_type": "display_data"
    }
   ],
   "execution_count": 269
  },
  {
   "cell_type": "markdown",
   "metadata": {},
   "source": [
    "Congratulations! You just implemented a local optimal controller that can solve multiple tasks at once."
   ]
  }
 ],
 "metadata": {
  "kernelspec": {
   "display_name": "Python 3 (ipykernel)",
   "language": "python",
   "name": "python3"
  },
  "language_info": {
   "codemirror_mode": {
    "name": "ipython",
    "version": 3
   },
   "file_extension": ".py",
   "mimetype": "text/x-python",
   "name": "python",
   "nbconvert_exporter": "python",
   "pygments_lexer": "ipython3",
   "version": "3.10.15"
  }
 },
 "nbformat": 4,
 "nbformat_minor": 4
}
