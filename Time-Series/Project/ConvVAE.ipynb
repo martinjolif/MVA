{
  "nbformat": 4,
  "nbformat_minor": 0,
  "metadata": {
    "colab": {
      "provenance": [],
      "gpuType": "T4"
    },
    "kernelspec": {
      "name": "python3",
      "display_name": "Python 3"
    },
    "language_info": {
      "name": "python"
    },
    "accelerator": "GPU"
  },
  "cells": [
    {
      "cell_type": "code",
      "source": [
        "%pip install librosa"
      ],
      "metadata": {
        "id": "v2gCw-dhitqz",
        "colab": {
          "base_uri": "https://localhost:8080/"
        },
        "outputId": "365b8d32-527f-42f0-f33f-a8ecba1298fd"
      },
      "execution_count": 2,
      "outputs": [
        {
          "output_type": "stream",
          "name": "stdout",
          "text": [
            "Requirement already satisfied: librosa in /usr/local/lib/python3.10/dist-packages (0.10.2.post1)\n",
            "Requirement already satisfied: audioread>=2.1.9 in /usr/local/lib/python3.10/dist-packages (from librosa) (3.0.1)\n",
            "Requirement already satisfied: numpy!=1.22.0,!=1.22.1,!=1.22.2,>=1.20.3 in /usr/local/lib/python3.10/dist-packages (from librosa) (1.26.4)\n",
            "Requirement already satisfied: scipy>=1.2.0 in /usr/local/lib/python3.10/dist-packages (from librosa) (1.13.1)\n",
            "Requirement already satisfied: scikit-learn>=0.20.0 in /usr/local/lib/python3.10/dist-packages (from librosa) (1.6.0)\n",
            "Requirement already satisfied: joblib>=0.14 in /usr/local/lib/python3.10/dist-packages (from librosa) (1.4.2)\n",
            "Requirement already satisfied: decorator>=4.3.0 in /usr/local/lib/python3.10/dist-packages (from librosa) (4.4.2)\n",
            "Requirement already satisfied: numba>=0.51.0 in /usr/local/lib/python3.10/dist-packages (from librosa) (0.60.0)\n",
            "Requirement already satisfied: soundfile>=0.12.1 in /usr/local/lib/python3.10/dist-packages (from librosa) (0.12.1)\n",
            "Requirement already satisfied: pooch>=1.1 in /usr/local/lib/python3.10/dist-packages (from librosa) (1.8.2)\n",
            "Requirement already satisfied: soxr>=0.3.2 in /usr/local/lib/python3.10/dist-packages (from librosa) (0.5.0.post1)\n",
            "Requirement already satisfied: typing-extensions>=4.1.1 in /usr/local/lib/python3.10/dist-packages (from librosa) (4.12.2)\n",
            "Requirement already satisfied: lazy-loader>=0.1 in /usr/local/lib/python3.10/dist-packages (from librosa) (0.4)\n",
            "Requirement already satisfied: msgpack>=1.0 in /usr/local/lib/python3.10/dist-packages (from librosa) (1.1.0)\n",
            "Requirement already satisfied: packaging in /usr/local/lib/python3.10/dist-packages (from lazy-loader>=0.1->librosa) (24.2)\n",
            "Requirement already satisfied: llvmlite<0.44,>=0.43.0dev0 in /usr/local/lib/python3.10/dist-packages (from numba>=0.51.0->librosa) (0.43.0)\n",
            "Requirement already satisfied: platformdirs>=2.5.0 in /usr/local/lib/python3.10/dist-packages (from pooch>=1.1->librosa) (4.3.6)\n",
            "Requirement already satisfied: requests>=2.19.0 in /usr/local/lib/python3.10/dist-packages (from pooch>=1.1->librosa) (2.32.3)\n",
            "Requirement already satisfied: threadpoolctl>=3.1.0 in /usr/local/lib/python3.10/dist-packages (from scikit-learn>=0.20.0->librosa) (3.5.0)\n",
            "Requirement already satisfied: cffi>=1.0 in /usr/local/lib/python3.10/dist-packages (from soundfile>=0.12.1->librosa) (1.17.1)\n",
            "Requirement already satisfied: pycparser in /usr/local/lib/python3.10/dist-packages (from cffi>=1.0->soundfile>=0.12.1->librosa) (2.22)\n",
            "Requirement already satisfied: charset-normalizer<4,>=2 in /usr/local/lib/python3.10/dist-packages (from requests>=2.19.0->pooch>=1.1->librosa) (3.4.0)\n",
            "Requirement already satisfied: idna<4,>=2.5 in /usr/local/lib/python3.10/dist-packages (from requests>=2.19.0->pooch>=1.1->librosa) (3.10)\n",
            "Requirement already satisfied: urllib3<3,>=1.21.1 in /usr/local/lib/python3.10/dist-packages (from requests>=2.19.0->pooch>=1.1->librosa) (2.2.3)\n",
            "Requirement already satisfied: certifi>=2017.4.17 in /usr/local/lib/python3.10/dist-packages (from requests>=2.19.0->pooch>=1.1->librosa) (2024.12.14)\n"
          ]
        }
      ]
    },
    {
      "cell_type": "code",
      "source": [
        "import torch.nn as nn\n",
        "import os\n",
        "import librosa\n",
        "import torch\n",
        "from tqdm import tqdm\n",
        "import numpy as np\n",
        "from torch.utils.data import Dataset, DataLoader,random_split\n",
        "import IPython\n",
        "import re\n",
        "from sklearn.svm import SVC\n",
        "import matplotlib.pyplot as plt\n",
        "import torch\n",
        "import torch.nn as nn\n",
        "import torch.optim as optim\n",
        "from torch.utils.data import DataLoader\n",
        "import torch.nn.functional as F"
      ],
      "metadata": {
        "id": "tP9KDzncescp"
      },
      "execution_count": 1,
      "outputs": []
    },
    {
      "cell_type": "code",
      "execution_count": 2,
      "metadata": {
        "id": "GzIQEIMuenlO"
      },
      "outputs": [],
      "source": [
        "import torch\n",
        "import torch.nn as nn\n",
        "import torch.optim as optim\n",
        "import torch.nn.functional as F\n",
        "import matplotlib.pyplot as plt\n",
        "\n",
        "class CVAE2D(nn.Module):\n",
        "    def __init__(self, input_channels=1, latent_dim=16, input_dim=(64, 64)):\n",
        "        super(CVAE2D, self).__init__()\n",
        "        self.latent_dim = latent_dim\n",
        "        self.input_channels = input_channels\n",
        "        self.input_dim = input_dim\n",
        "\n",
        "        self.encoder = nn.Sequential(\n",
        "            nn.Conv2d(input_channels, 32, kernel_size=3, stride=(2,2), padding=1),  # [batch, 32, 32, 32]\n",
        "            nn.ReLU(),\n",
        "            nn.Conv2d(32, 64, kernel_size=3, stride=(2,3), padding=1),  # [batch, 64, 16, 16]\n",
        "            nn.ReLU(),\n",
        "            nn.Conv2d(64, 128, kernel_size=3, stride=(2,3), padding=1),  # [batch, 128, 8, 8]\n",
        "            nn.ReLU(),\n",
        "            nn.Conv2d(128, 256, kernel_size=3, stride=(2,3), padding=1),  # [batch, 256, 4, 4]\n",
        "            nn.ReLU(),\n",
        "        )\n",
        "\n",
        "        self.fc_mu = nn.Linear(256 * 4 * 4, latent_dim)\n",
        "        self.fc_logvar = nn.Linear(256 * 4 * 4, latent_dim)\n",
        "        # Decoder: Deconvolutional layers\n",
        "        self.fc_decode = nn.Linear(latent_dim, 256 * 4 * 4)\n",
        "        self.decoder = nn.Sequential(\n",
        "            nn.ConvTranspose2d(256, 128, kernel_size=3, stride=(2,3), padding=1, output_padding=(1,2)),  # [batch, 128, 8, 8]\n",
        "            nn.ReLU(),\n",
        "            nn.ConvTranspose2d(128, 64, kernel_size=3, stride=(2,3), padding=1, output_padding=(1,2)),  # [batch, 64, 16, 16]\n",
        "            nn.ReLU(),\n",
        "            nn.ConvTranspose2d(64, 32, kernel_size=3, stride=(2,3), padding=1, output_padding=(1,2)),  # [batch, 32, 32, 32]\n",
        "            nn.ReLU(),\n",
        "            nn.ConvTranspose2d(32, input_channels, kernel_size=3, stride=(2,2), padding=1, output_padding=(1,1)),  # [batch, 1, 64, 64]\n",
        "            nn.Sigmoid(),  # To ensure output is between 0 and 1\n",
        "        )\n",
        "\n",
        "    def encode(self, x):\n",
        "        x = self.encoder(x)\n",
        "        x = x.view(x.size(0), -1)  # Flatten\n",
        "        mu = self.fc_mu(x)\n",
        "        logvar = self.fc_logvar(x)\n",
        "        return mu, logvar\n",
        "\n",
        "    def reparameterize(self, mu, logvar):\n",
        "        std = torch.exp(0.5 * logvar)\n",
        "        eps = torch.randn_like(std)\n",
        "        return mu + eps * std\n",
        "\n",
        "    def decode(self, z):\n",
        "        x = self.fc_decode(z)\n",
        "        x = x.view(x.size(0), 256, 4, 4)  # Reshape to match the decoder input\n",
        "        x = self.decoder(x)\n",
        "        return x\n",
        "\n",
        "    def forward(self, x):\n",
        "        mu, logvar = self.encode(x)\n",
        "        z = self.reparameterize(mu, logvar)\n",
        "        x_recon = self.decode(z)\n",
        "        return x_recon, mu, logvar\n",
        "\n",
        "\n",
        "# Define the loss function (reconstruction loss + KL divergence)\n",
        "def loss_function(recon_x, x, mu, logvar):\n",
        "    BCE = F.binary_cross_entropy(recon_x, x, reduction='sum')  # Reconstruction loss (BCE for images)\n",
        "    KLD = -0.5 * torch.sum(1 + logvar - mu.pow(2) - logvar.exp())  # KL divergence\n",
        "    return BCE + KLD\n",
        "\n",
        "\n",
        "def train_cvae2d(model, train_loader, test_loader, epochs=20, lr=0.001, device='cuda'):\n",
        "    optimizer = optim.Adam(model.parameters(), lr=lr)\n",
        "    model.to(device)\n",
        "\n",
        "    train_losses = []\n",
        "    test_losses = []\n",
        "    for epoch in range(epochs):\n",
        "        model.train()\n",
        "        train_loss = 0\n",
        "        for batch_idx, data in enumerate(train_loader):\n",
        "            data = data[0]  # Assuming data comes as tuple (data, target), take only data\n",
        "            data = data.to(device).float()\n",
        "\n",
        "            optimizer.zero_grad()\n",
        "            recon_batch, mu, logvar = model(data)\n",
        "            loss = loss_function(recon_batch, data, mu, logvar)\n",
        "            loss.backward()\n",
        "            train_loss += loss.item()\n",
        "\n",
        "            optimizer.step()\n",
        "\n",
        "        print(f\"Epoch {epoch + 1}/{epochs}, Training Loss: {train_loss / len(train_loader.dataset):.4f}\")\n",
        "        train_losses.append(train_loss / len(train_loader.dataset))\n",
        "\n",
        "        if epoch % 100 == 0:\n",
        "          with torch.no_grad():\n",
        "              model.eval()\n",
        "              test_loss = 0\n",
        "              for batch_idx, data in enumerate(test_loader):\n",
        "                  data = data[0]\n",
        "                  data = data.to(device).float()\n",
        "\n",
        "                  recon_batch, mu, logvar = model(data)\n",
        "                  loss = loss_function(recon_batch, data, mu, logvar)\n",
        "                  test_loss += loss.item()\n",
        "\n",
        "          print(f\"Epoch {epoch + 1}/{epochs}, Test Loss: {test_loss / len(test_loader.dataset):.4f}\")\n",
        "        test_losses.append(test_loss / len(test_loader.dataset))\n",
        "\n",
        "    # Plot training and test loss\n",
        "    plt.figure(figsize=(10, 6))\n",
        "    plt.plot(range(1, epochs + 1), train_losses, label='Training Loss')\n",
        "    plt.plot(range(1, epochs + 1), test_losses, label='Test Loss')\n",
        "    plt.xlabel('Epochs')\n",
        "    plt.ylabel('Loss')\n",
        "    plt.title('Training and Test Loss Over Epochs')\n",
        "    plt.legend()\n",
        "    plt.grid(True)\n",
        "    plt.show()\n",
        "    print(\"Training complete!\")\n"
      ]
    },
    {
      "cell_type": "code",
      "source": [
        "ls"
      ],
      "metadata": {
        "colab": {
          "base_uri": "https://localhost:8080/"
        },
        "id": "Lng2QQmumZ0A",
        "outputId": "2787703b-5807-4a76-ab3a-8c28f112c0bd"
      },
      "execution_count": 3,
      "outputs": [
        {
          "output_type": "stream",
          "name": "stdout",
          "text": [
            "\u001b[0m\u001b[01;34msample_data\u001b[0m/\n"
          ]
        }
      ]
    },
    {
      "cell_type": "code",
      "source": [
        "import kagglehub\n",
        "\n",
        "# Download latest version\n",
        "path = kagglehub.dataset_download(\"andradaolteanu/gtzan-dataset-music-genre-classification\")\n",
        "\n",
        "print(\"Path to dataset files:\", path)"
      ],
      "metadata": {
        "colab": {
          "base_uri": "https://localhost:8080/"
        },
        "id": "xaqP_Grye-Pw",
        "outputId": "44d38f8f-98ea-4e75-c3a4-fcee67ec2a40"
      },
      "execution_count": 4,
      "outputs": [
        {
          "output_type": "stream",
          "name": "stdout",
          "text": [
            "Downloading from https://www.kaggle.com/api/v1/datasets/download/andradaolteanu/gtzan-dataset-music-genre-classification?dataset_version_number=1...\n"
          ]
        },
        {
          "output_type": "stream",
          "name": "stderr",
          "text": [
            "100%|██████████| 1.21G/1.21G [00:32<00:00, 39.6MB/s]"
          ]
        },
        {
          "output_type": "stream",
          "name": "stdout",
          "text": [
            "Extracting files...\n"
          ]
        },
        {
          "output_type": "stream",
          "name": "stderr",
          "text": [
            "\n"
          ]
        },
        {
          "output_type": "stream",
          "name": "stdout",
          "text": [
            "Path to dataset files: /root/.cache/kagglehub/datasets/andradaolteanu/gtzan-dataset-music-genre-classification/versions/1\n"
          ]
        }
      ]
    },
    {
      "cell_type": "code",
      "source": [
        "cd .."
      ],
      "metadata": {
        "colab": {
          "base_uri": "https://localhost:8080/"
        },
        "id": "-cj6lHS2mboY",
        "outputId": "49fffd0e-94bf-454f-8b67-edc28c7cfec6"
      },
      "execution_count": 5,
      "outputs": [
        {
          "output_type": "stream",
          "name": "stdout",
          "text": [
            "/\n"
          ]
        }
      ]
    },
    {
      "cell_type": "code",
      "source": [
        "cd /root/.cache/kagglehub/datasets/andradaolteanu/gtzan-dataset-music-genre-classification/versions/1/Data/genres_original/jazz"
      ],
      "metadata": {
        "colab": {
          "base_uri": "https://localhost:8080/"
        },
        "id": "RoQxUf8gmcqB",
        "outputId": "93adf77b-beee-441b-cd0c-eb1194ce1f57"
      },
      "execution_count": 6,
      "outputs": [
        {
          "output_type": "stream",
          "name": "stdout",
          "text": [
            "/root/.cache/kagglehub/datasets/andradaolteanu/gtzan-dataset-music-genre-classification/versions/1/Data/genres_original/jazz\n"
          ]
        }
      ]
    },
    {
      "cell_type": "code",
      "source": [
        "rm jazz.00054.wav"
      ],
      "metadata": {
        "id": "BJ3gDM5amdxM"
      },
      "execution_count": 7,
      "outputs": []
    },
    {
      "cell_type": "code",
      "source": [
        "# Define the directory path\n",
        "directory = f'{path}/Data/genres_original/'\n",
        "# Initialize a variable to store the minimum length\n",
        "min_length = float('inf')\n",
        "number_files = 0\n",
        "\n",
        "# Iterate over all files in the directory\n",
        "for genre in os.listdir(directory):\n",
        "    genre_path = os.path.join(directory, genre)\n",
        "\n",
        "    # Ensure it's a directory\n",
        "    if os.path.isdir(genre_path):\n",
        "        for filename in os.listdir(genre_path):\n",
        "            if filename.endswith('.wav'):\n",
        "                file_path = os.path.join(genre_path, filename)\n",
        "                number_files += 1\n",
        "                # Load the audio file using librosa\n",
        "                y, sr = librosa.load(file_path)\n",
        "\n",
        "                # Update the minimum length if needed\n",
        "                min_length = min(min_length, len(y))\n",
        "\n",
        "print(f\"The minimum length of the music time series across all files is: {min_length}, it's corresponds to a minimum of {min_length/22050} seconds\")\n",
        "print(\"Number of files:\", number_files)"
      ],
      "metadata": {
        "colab": {
          "base_uri": "https://localhost:8080/"
        },
        "id": "q8g0m6cJfCWG",
        "outputId": "8697563a-51a0-4a8d-8c64-bcd4c1219e74"
      },
      "execution_count": 8,
      "outputs": [
        {
          "output_type": "stream",
          "name": "stdout",
          "text": [
            "The minimum length of the music time series across all files is: 660000, it's corresponds to a minimum of 29.931972789115648 seconds\n",
            "Number of files: 999\n"
          ]
        }
      ]
    },
    {
      "cell_type": "code",
      "source": [
        "# Define the directory path\n",
        "directory = f'{path}/Data/genres_original/'\n",
        "len_dataset = 0\n",
        "dataset_filenames = []\n",
        "# Iterate over all files in the directory\n",
        "for genre in os.listdir(directory):\n",
        "    genre_path = os.path.join(directory, genre)\n",
        "\n",
        "    # Ensure it's a directory\n",
        "    if os.path.isdir(genre_path):\n",
        "        for filename in os.listdir(genre_path):\n",
        "            if filename.endswith('.wav'):\n",
        "                file_path = os.path.join(genre_path, filename)\n",
        "                for i in range(min_length//1024):\n",
        "                    dataset_filenames.append([file_path, i])\n",
        "print(len(dataset_filenames))"
      ],
      "metadata": {
        "id": "eFiKNw-YfDzd",
        "colab": {
          "base_uri": "https://localhost:8080/"
        },
        "outputId": "9af79d4a-8890-4af4-ae7f-8270c65949ce"
      },
      "execution_count": 9,
      "outputs": [
        {
          "output_type": "stream",
          "name": "stdout",
          "text": [
            "643356\n"
          ]
        }
      ]
    },
    {
      "cell_type": "code",
      "source": [
        "def extract_string(input_str):\n",
        "    # Regular expression to capture the string between the first two slashes\n",
        "    match = re.search(r'/([^/]+)/', input_str)\n",
        "    if match:\n",
        "        return match.group(1)\n",
        "    else:\n",
        "        return None"
      ],
      "metadata": {
        "id": "pEK1HrfnfFhQ"
      },
      "execution_count": 10,
      "outputs": []
    },
    {
      "cell_type": "code",
      "source": [
        "#################################\n",
        "# Parameters & Configuration\n",
        "#################################\n",
        "AUDIO_DIR = f'{path}/Data/genres_original/'    # Directory containing audio files\n",
        "SAMPLE_RATE = 22050\n",
        "N_FFT = 1024\n",
        "HOP_LENGTH = 512\n",
        "N_MELS = 64     # Frequency bins for the Mel-spectrogram\n",
        "DURATION = 5.0   # Duration of each audio clip in seconds (30s is the entire clip)\n",
        "GENRES = ['blues','classical','country','disco','hiphop', 'jazz', 'metal', 'pop', 'reggae', 'rock']  # Example classes\n",
        "DEVICE = torch.device(\"cuda\" if torch.cuda.is_available() else \"mps\")\n",
        "\n",
        "# ConvRBM Hyperparameters\n",
        "VISIBLE_CHANNELS = 1  # Spectrogram is treated as a single \"image\" channel\n",
        "CD_K = 1    # Contrastive divergence steps\n",
        "EPOCHS = 1000\n",
        "BATCH_SIZE = 32"
      ],
      "metadata": {
        "id": "sQAR1kYGfG6Z"
      },
      "execution_count": 11,
      "outputs": []
    },
    {
      "cell_type": "code",
      "source": [
        "import os\n",
        "import glob\n",
        "import numpy as np\n",
        "import librosa\n",
        "from torch.utils.data import Dataset, DataLoader\n",
        "import torch\n",
        "\n",
        "class AudioDataset(Dataset):\n",
        "    def __init__(self, audio_dir, genres):\n",
        "        self.data = []\n",
        "        self.labels = []\n",
        "        self._load_audio_files(audio_dir, genres)\n",
        "\n",
        "    def _load_audio_files(self, audio_dir, genres):\n",
        "        for i, genre in enumerate(genres):\n",
        "            genre_path = os.path.join(audio_dir, genre)\n",
        "            for fname in glob.glob(os.path.join(genre_path, \"*.wav\")):\n",
        "                # Load audio\n",
        "                audio, sr = librosa.load(\n",
        "                    fname,\n",
        "                    sr=SAMPLE_RATE,\n",
        "                    duration=DURATION)\n",
        "                # print(\"audio length\", len(audio))\n",
        "\n",
        "                # Compute Mel-Spectrogram\n",
        "                mel_spec = librosa.feature.melspectrogram(\n",
        "                    y=audio,\n",
        "                    sr=SAMPLE_RATE,\n",
        "                    n_fft=N_FFT,\n",
        "                    hop_length=HOP_LENGTH,\n",
        "                    n_mels=N_MELS)\n",
        "                # Convert to log scale\n",
        "                log_mel = librosa.power_to_db(mel_spec, ref=np.max)\n",
        "                # Normalize\n",
        "                log_mel = (log_mel/85 + 1)/2\n",
        "\n",
        "                # Append data and label\n",
        "                self.data.append(log_mel)\n",
        "                # print(\"appending data\", log_mel.shape)\n",
        "                self.labels.append(i)\n",
        "                # print(\"appending label\", i)\n",
        "\n",
        "    def __len__(self):\n",
        "        return len(self.data)\n",
        "\n",
        "    def __getitem__(self, idx):\n",
        "        # Convert data and labels to PyTorch tensors\n",
        "        mel_tensor = torch.tensor(self.data[idx], dtype=torch.float32).unsqueeze(0) # Adding singe channel dimension since it is grayscale\n",
        "        label_tensor = torch.tensor(self.labels[idx], dtype=torch.long)\n",
        "        return mel_tensor, label_tensor\n",
        "\n",
        "def get_dataloader(audio_dir, genres=GENRES, batch_size=BATCH_SIZE, shuffle=True):\n",
        "    dataset = AudioDataset(audio_dir, genres)\n",
        "    return DataLoader(dataset, batch_size=BATCH_SIZE, shuffle=True)"
      ],
      "metadata": {
        "id": "Ljodd0mRfTX6"
      },
      "execution_count": 12,
      "outputs": []
    },
    {
      "cell_type": "code",
      "source": [
        "from sklearn.model_selection import train_test_split\n",
        "from torch.utils.data import Subset\n",
        "\n",
        "def split_dataset(audio_dir=AUDIO_DIR, genres=GENRES, test_size=0.1, val_size=0.1, random_seed=14):\n",
        "    # Create the full dataset\n",
        "    dataset = AudioDataset(audio_dir, genres)\n",
        "    print(\"dataset length\", len(dataset))\n",
        "\n",
        "    # Split indices for training, validation, and test sets\n",
        "    total_size = len(dataset)\n",
        "    indices = list(range(total_size))\n",
        "    train_indices, test_indices = train_test_split(\n",
        "        indices, test_size=test_size, random_state=random_seed)\n",
        "\n",
        "    # Further split the training indices into training and validation\n",
        "    train_indices, val_indices = train_test_split(\n",
        "        train_indices, test_size=val_size / (1 - test_size), random_state=random_seed)\n",
        "\n",
        "    # Create subsets\n",
        "    train_subset = Subset(dataset, train_indices)\n",
        "    val_subset = Subset(dataset, val_indices)\n",
        "    test_subset = Subset(dataset, test_indices)\n",
        "\n",
        "    return train_subset, val_subset, test_subset\n",
        "\n",
        "def get_dataloaders(audio_dir, genres=GENRES, batch_size=BATCH_SIZE, test_size=0.1, val_size=0.1, shuffle=True, random_seed=13):\n",
        "    train_subset, val_subset, test_subset = split_dataset(\n",
        "        audio_dir, genres, test_size=test_size, val_size=val_size, random_seed=random_seed)\n",
        "\n",
        "    # Create DataLoaders\n",
        "    train_loader = DataLoader(train_subset, batch_size=batch_size, shuffle=shuffle)\n",
        "    val_loader = DataLoader(val_subset, batch_size=batch_size, shuffle=False)\n",
        "    test_loader = DataLoader(test_subset, batch_size=batch_size, shuffle=False)\n",
        "\n",
        "    return train_loader, val_loader, test_loader\n"
      ],
      "metadata": {
        "id": "AjzOidmDfYB3"
      },
      "execution_count": 13,
      "outputs": []
    },
    {
      "cell_type": "code",
      "source": [
        "train_loader, val_loader, test_loader = get_dataloaders(AUDIO_DIR, GENRES, batch_size=BATCH_SIZE)"
      ],
      "metadata": {
        "id": "shNB_V8SfZeI",
        "colab": {
          "base_uri": "https://localhost:8080/"
        },
        "outputId": "9e424448-ad73-473f-ef70-8a8da976ade7"
      },
      "execution_count": 14,
      "outputs": [
        {
          "output_type": "stream",
          "name": "stdout",
          "text": [
            "dataset length 999\n"
          ]
        }
      ]
    },
    {
      "cell_type": "code",
      "source": [
        "print(\"Number of training batches:\", len(train_loader))\n",
        "print(\"Number of validation batches:\", len(val_loader))\n",
        "print(\"Number of test batches:\", len(test_loader))"
      ],
      "metadata": {
        "id": "XwbkXW5pfa9N",
        "colab": {
          "base_uri": "https://localhost:8080/"
        },
        "outputId": "6735a00c-1fc8-4704-e2c1-d77881ce86a3"
      },
      "execution_count": 15,
      "outputs": [
        {
          "output_type": "stream",
          "name": "stdout",
          "text": [
            "Number of training batches: 25\n",
            "Number of validation batches: 4\n",
            "Number of test batches: 4\n"
          ]
        }
      ]
    },
    {
      "cell_type": "code",
      "source": [
        "vae = CVAE2D(input_channels=VISIBLE_CHANNELS, latent_dim=32, input_dim=(64, 64))\n",
        "\n",
        "train_cvae2d(vae, train_loader, test_loader, epochs=100, lr=0.001, device='cpu')"
      ],
      "metadata": {
        "id": "UfTl0QqXfdLt",
        "colab": {
          "base_uri": "https://localhost:8080/",
          "height": 1000
        },
        "outputId": "e82006d8-96db-4d13-e0f3-150f71a662e7"
      },
      "execution_count": 16,
      "outputs": [
        {
          "output_type": "stream",
          "name": "stdout",
          "text": [
            "Epoch 1/100, Training Loss: 8669.4448\n",
            "Epoch 1/100, Test Loss: 8201.2626\n",
            "Epoch 2/100, Training Loss: 8092.0765\n",
            "Epoch 3/100, Training Loss: 7986.0250\n",
            "Epoch 4/100, Training Loss: 7944.3638\n",
            "Epoch 5/100, Training Loss: 7916.8276\n",
            "Epoch 6/100, Training Loss: 7903.2108\n",
            "Epoch 7/100, Training Loss: 7894.9946\n",
            "Epoch 8/100, Training Loss: 7889.4239\n",
            "Epoch 9/100, Training Loss: 7884.4891\n",
            "Epoch 10/100, Training Loss: 7880.6881\n",
            "Epoch 11/100, Training Loss: 7876.2186\n",
            "Epoch 12/100, Training Loss: 7872.9257\n",
            "Epoch 13/100, Training Loss: 7869.4693\n",
            "Epoch 14/100, Training Loss: 7867.7130\n",
            "Epoch 15/100, Training Loss: 7865.7343\n",
            "Epoch 16/100, Training Loss: 7865.3383\n",
            "Epoch 17/100, Training Loss: 7864.4252\n",
            "Epoch 18/100, Training Loss: 7862.9203\n",
            "Epoch 19/100, Training Loss: 7861.9233\n",
            "Epoch 20/100, Training Loss: 7860.8787\n",
            "Epoch 21/100, Training Loss: 7859.7336\n",
            "Epoch 22/100, Training Loss: 7859.1473\n",
            "Epoch 23/100, Training Loss: 7858.1591\n",
            "Epoch 24/100, Training Loss: 7857.5078\n",
            "Epoch 25/100, Training Loss: 7857.4840\n",
            "Epoch 26/100, Training Loss: 7856.9973\n",
            "Epoch 27/100, Training Loss: 7855.8550\n",
            "Epoch 28/100, Training Loss: 7855.6730\n",
            "Epoch 29/100, Training Loss: 7854.5381\n",
            "Epoch 30/100, Training Loss: 7854.2917\n",
            "Epoch 31/100, Training Loss: 7854.1721\n",
            "Epoch 32/100, Training Loss: 7853.5394\n",
            "Epoch 33/100, Training Loss: 7853.2586\n",
            "Epoch 34/100, Training Loss: 7852.9494\n",
            "Epoch 35/100, Training Loss: 7851.5131\n",
            "Epoch 36/100, Training Loss: 7851.2971\n",
            "Epoch 37/100, Training Loss: 7851.2784\n",
            "Epoch 38/100, Training Loss: 7852.3915\n",
            "Epoch 39/100, Training Loss: 7850.7528\n",
            "Epoch 40/100, Training Loss: 7850.2633\n",
            "Epoch 41/100, Training Loss: 7849.7317\n",
            "Epoch 42/100, Training Loss: 7849.3434\n",
            "Epoch 43/100, Training Loss: 7849.4368\n",
            "Epoch 44/100, Training Loss: 7849.0073\n",
            "Epoch 45/100, Training Loss: 7848.8310\n",
            "Epoch 46/100, Training Loss: 7848.6423\n",
            "Epoch 47/100, Training Loss: 7848.3607\n",
            "Epoch 48/100, Training Loss: 7848.3112\n",
            "Epoch 49/100, Training Loss: 7848.1356\n",
            "Epoch 50/100, Training Loss: 7847.6245\n",
            "Epoch 51/100, Training Loss: 7847.6043\n",
            "Epoch 52/100, Training Loss: 7848.2392\n",
            "Epoch 53/100, Training Loss: 7847.9924\n",
            "Epoch 54/100, Training Loss: 7847.8232\n",
            "Epoch 55/100, Training Loss: 7847.7753\n",
            "Epoch 56/100, Training Loss: 7847.3408\n",
            "Epoch 57/100, Training Loss: 7847.3554\n",
            "Epoch 58/100, Training Loss: 7847.0624\n",
            "Epoch 59/100, Training Loss: 7846.6999\n",
            "Epoch 60/100, Training Loss: 7847.0349\n",
            "Epoch 61/100, Training Loss: 7846.8362\n",
            "Epoch 62/100, Training Loss: 7846.6522\n",
            "Epoch 63/100, Training Loss: 7847.1354\n",
            "Epoch 64/100, Training Loss: 7846.4692\n",
            "Epoch 65/100, Training Loss: 7846.6639\n",
            "Epoch 66/100, Training Loss: 7846.5940\n",
            "Epoch 67/100, Training Loss: 7846.2662\n",
            "Epoch 68/100, Training Loss: 7846.7831\n",
            "Epoch 69/100, Training Loss: 7846.6819\n",
            "Epoch 70/100, Training Loss: 7847.0436\n",
            "Epoch 71/100, Training Loss: 7846.4259\n",
            "Epoch 72/100, Training Loss: 7846.5762\n",
            "Epoch 73/100, Training Loss: 7846.1615\n",
            "Epoch 74/100, Training Loss: 7846.0207\n",
            "Epoch 75/100, Training Loss: 7845.4023\n",
            "Epoch 76/100, Training Loss: 7845.4403\n",
            "Epoch 77/100, Training Loss: 7845.6367\n",
            "Epoch 78/100, Training Loss: 7845.2347\n",
            "Epoch 79/100, Training Loss: 7845.1101\n",
            "Epoch 80/100, Training Loss: 7845.1431\n",
            "Epoch 81/100, Training Loss: 7845.3429\n",
            "Epoch 82/100, Training Loss: 7845.1649\n",
            "Epoch 83/100, Training Loss: 7845.1692\n",
            "Epoch 84/100, Training Loss: 7845.2380\n",
            "Epoch 85/100, Training Loss: 7845.0490\n",
            "Epoch 86/100, Training Loss: 7845.1943\n",
            "Epoch 87/100, Training Loss: 7845.1714\n",
            "Epoch 88/100, Training Loss: 7845.3338\n",
            "Epoch 89/100, Training Loss: 7844.7001\n",
            "Epoch 90/100, Training Loss: 7844.2833\n",
            "Epoch 91/100, Training Loss: 7845.0622\n",
            "Epoch 92/100, Training Loss: 7845.2424\n",
            "Epoch 93/100, Training Loss: 7844.2717\n",
            "Epoch 94/100, Training Loss: 7844.2831\n",
            "Epoch 95/100, Training Loss: 7844.6061\n",
            "Epoch 96/100, Training Loss: 7844.9918\n",
            "Epoch 97/100, Training Loss: 7844.1189\n",
            "Epoch 98/100, Training Loss: 7843.8758\n",
            "Epoch 99/100, Training Loss: 7844.1437\n",
            "Epoch 100/100, Training Loss: 7843.7337\n"
          ]
        },
        {
          "output_type": "display_data",
          "data": {
            "text/plain": [
              "<Figure size 1000x600 with 1 Axes>"
            ],
            "image/png": "[encoded data removed]"
          },
          "metadata": {}
        },
        {
          "output_type": "stream",
          "name": "stdout",
          "text": [
            "Training complete!\n"
          ]
        }
      ]
    },
    {
      "cell_type": "code",
      "source": [
        "device = torch.device(\"cuda\" if torch.cuda.is_available() else \"cpu\")\n",
        "\n",
        "# Calculate total number of samples\n",
        "total_samples = 0\n",
        "for data in train_loader:\n",
        "    total_samples += data[0].size(0)\n",
        "\n",
        "Z_train = torch.zeros((total_samples, 32))\n",
        "labels_train = torch.zeros(total_samples)\n",
        "\n",
        "current_index = 0\n",
        "for i, data in enumerate(train_loader):\n",
        "    current_batch_size = data[0].size(0)\n",
        "\n",
        "    z = vae.encode(data[0])[0]  # get the mean not the variance\n",
        "\n",
        "    Z_train[current_index:current_index + current_batch_size] = z\n",
        "    labels_train[current_index:current_index + current_batch_size] = data[1]\n",
        "\n",
        "    current_index += current_batch_size"
      ],
      "metadata": {
        "id": "RSGryjtZ0PgM"
      },
      "execution_count": 17,
      "outputs": []
    },
    {
      "cell_type": "code",
      "source": [
        "from sklearn.linear_model import LogisticRegression\n",
        "\n",
        "clf = LogisticRegression(max_iter = 1000)\n",
        "clf.fit(Z_train.detach().numpy(), labels_train.detach().numpy())"
      ],
      "metadata": {
        "colab": {
          "base_uri": "https://localhost:8080/",
          "height": 80
        },
        "id": "Av6k0JVe0i8t",
        "outputId": "c91547ae-6c3f-4e08-9cc0-7256702d3033"
      },
      "execution_count": 18,
      "outputs": [
        {
          "output_type": "execute_result",
          "data": {
            "text/plain": [
              "LogisticRegression(max_iter=1000)"
            ],
            "text/html": [
              "<style>#sk-container-id-1 {\n",
              "  /* Definition of color scheme common for light and dark mode */\n",
              "  --sklearn-color-text: #000;\n",
              "  --sklearn-color-text-muted: #666;\n",
              "  --sklearn-color-line: gray;\n",
              "  /* Definition of color scheme for unfitted estimators */\n",
              "  --sklearn-color-unfitted-level-0: #fff5e6;\n",
              "  --sklearn-color-unfitted-level-1: #f6e4d2;\n",
              "  --sklearn-color-unfitted-level-2: #ffe0b3;\n",
              "  --sklearn-color-unfitted-level-3: chocolate;\n",
              "  /* Definition of color scheme for fitted estimators */\n",
              "  --sklearn-color-fitted-level-0: #f0f8ff;\n",
              "  --sklearn-color-fitted-level-1: #d4ebff;\n",
              "  --sklearn-color-fitted-level-2: #b3dbfd;\n",
              "  --sklearn-color-fitted-level-3: cornflowerblue;\n",
              "\n",
              "  /* Specific color for light theme */\n",
              "  --sklearn-color-text-on-default-background: var(--sg-text-color, var(--theme-code-foreground, var(--jp-content-font-color1, black)));\n",
              "  --sklearn-color-background: var(--sg-background-color, var(--theme-background, var(--jp-layout-color0, white)));\n",
              "  --sklearn-color-border-box: var(--sg-text-color, var(--theme-code-foreground, var(--jp-content-font-color1, black)));\n",
              "  --sklearn-color-icon: #696969;\n",
              "\n",
              "  @media (prefers-color-scheme: dark) {\n",
              "    /* Redefinition of color scheme for dark theme */\n",
              "    --sklearn-color-text-on-default-background: var(--sg-text-color, var(--theme-code-foreground, var(--jp-content-font-color1, white)));\n",
              "    --sklearn-color-background: var(--sg-background-color, var(--theme-background, var(--jp-layout-color0, #111)));\n",
              "    --sklearn-color-border-box: var(--sg-text-color, var(--theme-code-foreground, var(--jp-content-font-color1, white)));\n",
              "    --sklearn-color-icon: #878787;\n",
              "  }\n",
              "}\n",
              "\n",
              "#sk-container-id-1 {\n",
              "  color: var(--sklearn-color-text);\n",
              "}\n",
              "\n",
              "#sk-container-id-1 pre {\n",
              "  padding: 0;\n",
              "}\n",
              "\n",
              "#sk-container-id-1 input.sk-hidden--visually {\n",
              "  border: 0;\n",
              "  clip: rect(1px 1px 1px 1px);\n",
              "  clip: rect(1px, 1px, 1px, 1px);\n",
              "  height: 1px;\n",
              "  margin: -1px;\n",
              "  overflow: hidden;\n",
              "  padding: 0;\n",
              "  position: absolute;\n",
              "  width: 1px;\n",
              "}\n",
              "\n",
              "#sk-container-id-1 div.sk-dashed-wrapped {\n",
              "  border: 1px dashed var(--sklearn-color-line);\n",
              "  margin: 0 0.4em 0.5em 0.4em;\n",
              "  box-sizing: border-box;\n",
              "  padding-bottom: 0.4em;\n",
              "  background-color: var(--sklearn-color-background);\n",
              "}\n",
              "\n",
              "#sk-container-id-1 div.sk-container {\n",
              "  /* jupyter's `normalize.less` sets `[hidden] { display: none; }`\n",
              "     but bootstrap.min.css set `[hidden] { display: none !important; }`\n",
              "     so we also need the `!important` here to be able to override the\n",
              "     default hidden behavior on the sphinx rendered scikit-learn.org.\n",
              "     See: https://github.com/scikit-learn/scikit-learn/issues/21755 */\n",
              "  display: inline-block !important;\n",
              "  position: relative;\n",
              "}\n",
              "\n",
              "#sk-container-id-1 div.sk-text-repr-fallback {\n",
              "  display: none;\n",
              "}\n",
              "\n",
              "div.sk-parallel-item,\n",
              "div.sk-serial,\n",
              "div.sk-item {\n",
              "  /* draw centered vertical line to link estimators */\n",
              "  background-image: linear-gradient(var(--sklearn-color-text-on-default-background), var(--sklearn-color-text-on-default-background));\n",
              "  background-size: 2px 100%;\n",
              "  background-repeat: no-repeat;\n",
              "  background-position: center center;\n",
              "}\n",
              "\n",
              "/* Parallel-specific style estimator block */\n",
              "\n",
              "#sk-container-id-1 div.sk-parallel-item::after {\n",
              "  content: \"\";\n",
              "  width: 100%;\n",
              "  border-bottom: 2px solid var(--sklearn-color-text-on-default-background);\n",
              "  flex-grow: 1;\n",
              "}\n",
              "\n",
              "#sk-container-id-1 div.sk-parallel {\n",
              "  display: flex;\n",
              "  align-items: stretch;\n",
              "  justify-content: center;\n",
              "  background-color: var(--sklearn-color-background);\n",
              "  position: relative;\n",
              "}\n",
              "\n",
              "#sk-container-id-1 div.sk-parallel-item {\n",
              "  display: flex;\n",
              "  flex-direction: column;\n",
              "}\n",
              "\n",
              "#sk-container-id-1 div.sk-parallel-item:first-child::after {\n",
              "  align-self: flex-end;\n",
              "  width: 50%;\n",
              "}\n",
              "\n",
              "#sk-container-id-1 div.sk-parallel-item:last-child::after {\n",
              "  align-self: flex-start;\n",
              "  width: 50%;\n",
              "}\n",
              "\n",
              "#sk-container-id-1 div.sk-parallel-item:only-child::after {\n",
              "  width: 0;\n",
              "}\n",
              "\n",
              "/* Serial-specific style estimator block */\n",
              "\n",
              "#sk-container-id-1 div.sk-serial {\n",
              "  display: flex;\n",
              "  flex-direction: column;\n",
              "  align-items: center;\n",
              "  background-color: var(--sklearn-color-background);\n",
              "  padding-right: 1em;\n",
              "  padding-left: 1em;\n",
              "}\n",
              "\n",
              "\n",
              "/* Toggleable style: style used for estimator/Pipeline/ColumnTransformer box that is\n",
              "clickable and can be expanded/collapsed.\n",
              "- Pipeline and ColumnTransformer use this feature and define the default style\n",
              "- Estimators will overwrite some part of the style using the `sk-estimator` class\n",
              "*/\n",
              "\n",
              "/* Pipeline and ColumnTransformer style (default) */\n",
              "\n",
              "#sk-container-id-1 div.sk-toggleable {\n",
              "  /* Default theme specific background. It is overwritten whether we have a\n",
              "  specific estimator or a Pipeline/ColumnTransformer */\n",
              "  background-color: var(--sklearn-color-background);\n",
              "}\n",
              "\n",
              "/* Toggleable label */\n",
              "#sk-container-id-1 label.sk-toggleable__label {\n",
              "  cursor: pointer;\n",
              "  display: flex;\n",
              "  width: 100%;\n",
              "  margin-bottom: 0;\n",
              "  padding: 0.5em;\n",
              "  box-sizing: border-box;\n",
              "  text-align: center;\n",
              "  align-items: start;\n",
              "  justify-content: space-between;\n",
              "  gap: 0.5em;\n",
              "}\n",
              "\n",
              "#sk-container-id-1 label.sk-toggleable__label .caption {\n",
              "  font-size: 0.6rem;\n",
              "  font-weight: lighter;\n",
              "  color: var(--sklearn-color-text-muted);\n",
              "}\n",
              "\n",
              "#sk-container-id-1 label.sk-toggleable__label-arrow:before {\n",
              "  /* Arrow on the left of the label */\n",
              "  content: \"▸\";\n",
              "  float: left;\n",
              "  margin-right: 0.25em;\n",
              "  color: var(--sklearn-color-icon);\n",
              "}\n",
              "\n",
              "#sk-container-id-1 label.sk-toggleable__label-arrow:hover:before {\n",
              "  color: var(--sklearn-color-text);\n",
              "}\n",
              "\n",
              "/* Toggleable content - dropdown */\n",
              "\n",
              "#sk-container-id-1 div.sk-toggleable__content {\n",
              "  max-height: 0;\n",
              "  max-width: 0;\n",
              "  overflow: hidden;\n",
              "  text-align: left;\n",
              "  /* unfitted */\n",
              "  background-color: var(--sklearn-color-unfitted-level-0);\n",
              "}\n",
              "\n",
              "#sk-container-id-1 div.sk-toggleable__content.fitted {\n",
              "  /* fitted */\n",
              "  background-color: var(--sklearn-color-fitted-level-0);\n",
              "}\n",
              "\n",
              "#sk-container-id-1 div.sk-toggleable__content pre {\n",
              "  margin: 0.2em;\n",
              "  border-radius: 0.25em;\n",
              "  color: var(--sklearn-color-text);\n",
              "  /* unfitted */\n",
              "  background-color: var(--sklearn-color-unfitted-level-0);\n",
              "}\n",
              "\n",
              "#sk-container-id-1 div.sk-toggleable__content.fitted pre {\n",
              "  /* unfitted */\n",
              "  background-color: var(--sklearn-color-fitted-level-0);\n",
              "}\n",
              "\n",
              "#sk-container-id-1 input.sk-toggleable__control:checked~div.sk-toggleable__content {\n",
              "  /* Expand drop-down */\n",
              "  max-height: 200px;\n",
              "  max-width: 100%;\n",
              "  overflow: auto;\n",
              "}\n",
              "\n",
              "#sk-container-id-1 input.sk-toggleable__control:checked~label.sk-toggleable__label-arrow:before {\n",
              "  content: \"▾\";\n",
              "}\n",
              "\n",
              "/* Pipeline/ColumnTransformer-specific style */\n",
              "\n",
              "#sk-container-id-1 div.sk-label input.sk-toggleable__control:checked~label.sk-toggleable__label {\n",
              "  color: var(--sklearn-color-text);\n",
              "  background-color: var(--sklearn-color-unfitted-level-2);\n",
              "}\n",
              "\n",
              "#sk-container-id-1 div.sk-label.fitted input.sk-toggleable__control:checked~label.sk-toggleable__label {\n",
              "  background-color: var(--sklearn-color-fitted-level-2);\n",
              "}\n",
              "\n",
              "/* Estimator-specific style */\n",
              "\n",
              "/* Colorize estimator box */\n",
              "#sk-container-id-1 div.sk-estimator input.sk-toggleable__control:checked~label.sk-toggleable__label {\n",
              "  /* unfitted */\n",
              "  background-color: var(--sklearn-color-unfitted-level-2);\n",
              "}\n",
              "\n",
              "#sk-container-id-1 div.sk-estimator.fitted input.sk-toggleable__control:checked~label.sk-toggleable__label {\n",
              "  /* fitted */\n",
              "  background-color: var(--sklearn-color-fitted-level-2);\n",
              "}\n",
              "\n",
              "#sk-container-id-1 div.sk-label label.sk-toggleable__label,\n",
              "#sk-container-id-1 div.sk-label label {\n",
              "  /* The background is the default theme color */\n",
              "  color: var(--sklearn-color-text-on-default-background);\n",
              "}\n",
              "\n",
              "/* On hover, darken the color of the background */\n",
              "#sk-container-id-1 div.sk-label:hover label.sk-toggleable__label {\n",
              "  color: var(--sklearn-color-text);\n",
              "  background-color: var(--sklearn-color-unfitted-level-2);\n",
              "}\n",
              "\n",
              "/* Label box, darken color on hover, fitted */\n",
              "#sk-container-id-1 div.sk-label.fitted:hover label.sk-toggleable__label.fitted {\n",
              "  color: var(--sklearn-color-text);\n",
              "  background-color: var(--sklearn-color-fitted-level-2);\n",
              "}\n",
              "\n",
              "/* Estimator label */\n",
              "\n",
              "#sk-container-id-1 div.sk-label label {\n",
              "  font-family: monospace;\n",
              "  font-weight: bold;\n",
              "  display: inline-block;\n",
              "  line-height: 1.2em;\n",
              "}\n",
              "\n",
              "#sk-container-id-1 div.sk-label-container {\n",
              "  text-align: center;\n",
              "}\n",
              "\n",
              "/* Estimator-specific */\n",
              "#sk-container-id-1 div.sk-estimator {\n",
              "  font-family: monospace;\n",
              "  border: 1px dotted var(--sklearn-color-border-box);\n",
              "  border-radius: 0.25em;\n",
              "  box-sizing: border-box;\n",
              "  margin-bottom: 0.5em;\n",
              "  /* unfitted */\n",
              "  background-color: var(--sklearn-color-unfitted-level-0);\n",
              "}\n",
              "\n",
              "#sk-container-id-1 div.sk-estimator.fitted {\n",
              "  /* fitted */\n",
              "  background-color: var(--sklearn-color-fitted-level-0);\n",
              "}\n",
              "\n",
              "/* on hover */\n",
              "#sk-container-id-1 div.sk-estimator:hover {\n",
              "  /* unfitted */\n",
              "  background-color: var(--sklearn-color-unfitted-level-2);\n",
              "}\n",
              "\n",
              "#sk-container-id-1 div.sk-estimator.fitted:hover {\n",
              "  /* fitted */\n",
              "  background-color: var(--sklearn-color-fitted-level-2);\n",
              "}\n",
              "\n",
              "/* Specification for estimator info (e.g. \"i\" and \"?\") */\n",
              "\n",
              "/* Common style for \"i\" and \"?\" */\n",
              "\n",
              ".sk-estimator-doc-link,\n",
              "a:link.sk-estimator-doc-link,\n",
              "a:visited.sk-estimator-doc-link {\n",
              "  float: right;\n",
              "  font-size: smaller;\n",
              "  line-height: 1em;\n",
              "  font-family: monospace;\n",
              "  background-color: var(--sklearn-color-background);\n",
              "  border-radius: 1em;\n",
              "  height: 1em;\n",
              "  width: 1em;\n",
              "  text-decoration: none !important;\n",
              "  margin-left: 0.5em;\n",
              "  text-align: center;\n",
              "  /* unfitted */\n",
              "  border: var(--sklearn-color-unfitted-level-1) 1pt solid;\n",
              "  color: var(--sklearn-color-unfitted-level-1);\n",
              "}\n",
              "\n",
              ".sk-estimator-doc-link.fitted,\n",
              "a:link.sk-estimator-doc-link.fitted,\n",
              "a:visited.sk-estimator-doc-link.fitted {\n",
              "  /* fitted */\n",
              "  border: var(--sklearn-color-fitted-level-1) 1pt solid;\n",
              "  color: var(--sklearn-color-fitted-level-1);\n",
              "}\n",
              "\n",
              "/* On hover */\n",
              "div.sk-estimator:hover .sk-estimator-doc-link:hover,\n",
              ".sk-estimator-doc-link:hover,\n",
              "div.sk-label-container:hover .sk-estimator-doc-link:hover,\n",
              ".sk-estimator-doc-link:hover {\n",
              "  /* unfitted */\n",
              "  background-color: var(--sklearn-color-unfitted-level-3);\n",
              "  color: var(--sklearn-color-background);\n",
              "  text-decoration: none;\n",
              "}\n",
              "\n",
              "div.sk-estimator.fitted:hover .sk-estimator-doc-link.fitted:hover,\n",
              ".sk-estimator-doc-link.fitted:hover,\n",
              "div.sk-label-container:hover .sk-estimator-doc-link.fitted:hover,\n",
              ".sk-estimator-doc-link.fitted:hover {\n",
              "  /* fitted */\n",
              "  background-color: var(--sklearn-color-fitted-level-3);\n",
              "  color: var(--sklearn-color-background);\n",
              "  text-decoration: none;\n",
              "}\n",
              "\n",
              "/* Span, style for the box shown on hovering the info icon */\n",
              ".sk-estimator-doc-link span {\n",
              "  display: none;\n",
              "  z-index: 9999;\n",
              "  position: relative;\n",
              "  font-weight: normal;\n",
              "  right: .2ex;\n",
              "  padding: .5ex;\n",
              "  margin: .5ex;\n",
              "  width: min-content;\n",
              "  min-width: 20ex;\n",
              "  max-width: 50ex;\n",
              "  color: var(--sklearn-color-text);\n",
              "  box-shadow: 2pt 2pt 4pt #999;\n",
              "  /* unfitted */\n",
              "  background: var(--sklearn-color-unfitted-level-0);\n",
              "  border: .5pt solid var(--sklearn-color-unfitted-level-3);\n",
              "}\n",
              "\n",
              ".sk-estimator-doc-link.fitted span {\n",
              "  /* fitted */\n",
              "  background: var(--sklearn-color-fitted-level-0);\n",
              "  border: var(--sklearn-color-fitted-level-3);\n",
              "}\n",
              "\n",
              ".sk-estimator-doc-link:hover span {\n",
              "  display: block;\n",
              "}\n",
              "\n",
              "/* \"?\"-specific style due to the `<a>` HTML tag */\n",
              "\n",
              "#sk-container-id-1 a.estimator_doc_link {\n",
              "  float: right;\n",
              "  font-size: 1rem;\n",
              "  line-height: 1em;\n",
              "  font-family: monospace;\n",
              "  background-color: var(--sklearn-color-background);\n",
              "  border-radius: 1rem;\n",
              "  height: 1rem;\n",
              "  width: 1rem;\n",
              "  text-decoration: none;\n",
              "  /* unfitted */\n",
              "  color: var(--sklearn-color-unfitted-level-1);\n",
              "  border: var(--sklearn-color-unfitted-level-1) 1pt solid;\n",
              "}\n",
              "\n",
              "#sk-container-id-1 a.estimator_doc_link.fitted {\n",
              "  /* fitted */\n",
              "  border: var(--sklearn-color-fitted-level-1) 1pt solid;\n",
              "  color: var(--sklearn-color-fitted-level-1);\n",
              "}\n",
              "\n",
              "/* On hover */\n",
              "#sk-container-id-1 a.estimator_doc_link:hover {\n",
              "  /* unfitted */\n",
              "  background-color: var(--sklearn-color-unfitted-level-3);\n",
              "  color: var(--sklearn-color-background);\n",
              "  text-decoration: none;\n",
              "}\n",
              "\n",
              "#sk-container-id-1 a.estimator_doc_link.fitted:hover {\n",
              "  /* fitted */\n",
              "  background-color: var(--sklearn-color-fitted-level-3);\n",
              "}\n",
              "</style><div id=\"sk-container-id-1\" class=\"sk-top-container\"><div class=\"sk-text-repr-fallback\"><pre>LogisticRegression(max_iter=1000)</pre><b>In a Jupyter environment, please rerun this cell to show the HTML representation or trust the notebook. <br />On GitHub, the HTML representation is unable to render, please try loading this page with nbviewer.org.</b></div><div class=\"sk-container\" hidden><div class=\"sk-item\"><div class=\"sk-estimator fitted sk-toggleable\"><input class=\"sk-toggleable__control sk-hidden--visually\" id=\"sk-estimator-id-1\" type=\"checkbox\" checked><label for=\"sk-estimator-id-1\" class=\"sk-toggleable__label fitted sk-toggleable__label-arrow\"><div><div>LogisticRegression</div></div><div><a class=\"sk-estimator-doc-link fitted\" rel=\"noreferrer\" target=\"_blank\" href=\"https://scikit-learn.org/1.6/modules/generated/sklearn.linear_model.LogisticRegression.html\">?<span>Documentation for LogisticRegression</span></a><span class=\"sk-estimator-doc-link fitted\">i<span>Fitted</span></span></div></label><div class=\"sk-toggleable__content fitted\"><pre>LogisticRegression(max_iter=1000)</pre></div> </div></div></div></div>"
            ]
          },
          "metadata": {},
          "execution_count": 18
        }
      ]
    },
    {
      "cell_type": "code",
      "source": [
        "# Calculate total number of samples\n",
        "total_samples = 0\n",
        "for data in test_loader:\n",
        "    total_samples += data[0].size(0)\n",
        "\n",
        "Z_test = torch.zeros((total_samples, 32))\n",
        "labels_test = torch.zeros(total_samples)\n",
        "\n",
        "current_index = 0\n",
        "for i, data in enumerate(test_loader):\n",
        "    current_batch_size = data[0].size(0)\n",
        "\n",
        "    z = vae.encode(data[0])[0]  # get the mean not the variance\n",
        "\n",
        "    Z_test[current_index:current_index + current_batch_size] = z\n",
        "    labels_test[current_index:current_index + current_batch_size] = data[1]\n",
        "\n",
        "    current_index += current_batch_size"
      ],
      "metadata": {
        "id": "3C8QMNon0ldX"
      },
      "execution_count": 19,
      "outputs": []
    },
    {
      "cell_type": "code",
      "source": [
        "labels_predicted_test = clf.predict(Z_test.detach().numpy())"
      ],
      "metadata": {
        "id": "3NigCZ4F0nm-"
      },
      "execution_count": 20,
      "outputs": []
    },
    {
      "cell_type": "code",
      "source": [
        "from sklearn.metrics import accuracy_score"
      ],
      "metadata": {
        "id": "LJfRKu_W1Cq7"
      },
      "execution_count": 21,
      "outputs": []
    },
    {
      "cell_type": "code",
      "source": [
        "print(accuracy_score(labels_test.detach().numpy(), labels_predicted_test))"
      ],
      "metadata": {
        "colab": {
          "base_uri": "https://localhost:8080/"
        },
        "id": "XT6NUJhu0pOi",
        "outputId": "ebb5a739-5050-4c8c-8dc3-eec718de7649"
      },
      "execution_count": 22,
      "outputs": [
        {
          "metadata": {
            "tags": null
          },
          "name": "stdout",
          "output_type": "stream",
          "text": [
            "0.38\n"
          ]
        }
      ]
    }
  ]
}